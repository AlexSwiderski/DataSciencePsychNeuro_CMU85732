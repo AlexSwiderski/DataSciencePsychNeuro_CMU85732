{
 "cells": [
  {
   "cell_type": "markdown",
   "metadata": {},
   "source": [
    "# What is a vector? "
   ]
  },
  {
   "cell_type": "markdown",
   "metadata": {},
   "source": [
    "A vector is a series of numbers, arranged in either a column or a row. The numbers stored in a vector are called **elements**."
   ]
  },
  {
   "cell_type": "code",
   "execution_count": 1,
   "metadata": {},
   "outputs": [
    {
     "name": "stdout",
     "output_type": "stream",
     "text": [
      "[1] 3\n",
      "[1] 3 5\n",
      "[1] 7 9\n"
     ]
    }
   ],
   "source": [
    "data_point <- 3 #this is one element \n",
    "print(data_point)\n",
    "\n",
    "\n",
    "vector_1 = c(data_point, data_point + 2) #a vector is a series of elements \n",
    "vector_2 = c(data_point+4, data_point + 6) #a vector is a series of elements \n",
    "\n",
    "print(vector_1) \n",
    "print(vector_2)"
   ]
  },
  {
   "cell_type": "markdown",
   "metadata": {},
   "source": [
    "A data point: $3$\n",
    "<br>\n",
    "A column vector with elements 3 and 5: $\\begin{bmatrix}3\\\\5\\end{bmatrix}$\n",
    "<br>\n",
    "A row vector with elements 7 and 9: $\\begin{bmatrix} 7 & 9\\end{bmatrix}$"
   ]
  },
  {
   "cell_type": "markdown",
   "metadata": {},
   "source": [
    "# What is a matrix? "
   ]
  },
  {
   "cell_type": "markdown",
   "metadata": {},
   "source": [
    "A matrix is a rectangular array of vectors with one or more rows or columns. Matrices are described by the number of rows ( ```m```) and the number of columns ( ```n```) they have; a matrix is said to be of **dimension** (```m x n```)."
   ]
  },
  {
   "cell_type": "markdown",
   "metadata": {},
   "source": [
    "![matrix_intro](imgs/matrix_intro.png)\n",
    "\n",
    "\n",
    "For example, we can form a 2x2 matrix from the two vectors we used above: $\\begin{bmatrix} 3,5 \\\\ 7,9\\end{bmatrix}$\n",
    "\n",
    "You can create a matrix in R by calling the function `matrix` and supplying it with data, the number of rows and/or columns you would like, and a method for filling the matrix (by row or by column). "
   ]
  },
  {
   "cell_type": "code",
   "execution_count": 2,
   "metadata": {},
   "outputs": [
    {
     "data": {
      "text/html": [
       "<table>\n",
       "<tbody>\n",
       "\t<tr><td>1 </td><td>3 </td><td>5 </td><td>7 </td><td> 9</td></tr>\n",
       "\t<tr><td>2 </td><td>4 </td><td>6 </td><td>8 </td><td>10</td></tr>\n",
       "</tbody>\n",
       "</table>\n"
      ],
      "text/latex": [
       "\\begin{tabular}{lllll}\n",
       "\t 1  & 3  & 5  & 7  &  9\\\\\n",
       "\t 2  & 4  & 6  & 8  & 10\\\\\n",
       "\\end{tabular}\n"
      ],
      "text/markdown": [
       "\n",
       "| 1  | 3  | 5  | 7  |  9 | \n",
       "| 2  | 4  | 6  | 8  | 10 | \n",
       "\n",
       "\n"
      ],
      "text/plain": [
       "     [,1] [,2] [,3] [,4] [,5]\n",
       "[1,] 1    3    5    7     9  \n",
       "[2,] 2    4    6    8    10  "
      ]
     },
     "metadata": {},
     "output_type": "display_data"
    },
    {
     "data": {
      "text/html": [
       "<table>\n",
       "<tbody>\n",
       "\t<tr><td>1 </td><td>2 </td><td>3 </td><td>4 </td><td> 5</td></tr>\n",
       "\t<tr><td>6 </td><td>7 </td><td>8 </td><td>9 </td><td>10</td></tr>\n",
       "</tbody>\n",
       "</table>\n"
      ],
      "text/latex": [
       "\\begin{tabular}{lllll}\n",
       "\t 1  & 2  & 3  & 4  &  5\\\\\n",
       "\t 6  & 7  & 8  & 9  & 10\\\\\n",
       "\\end{tabular}\n"
      ],
      "text/markdown": [
       "\n",
       "| 1  | 2  | 3  | 4  |  5 | \n",
       "| 6  | 7  | 8  | 9  | 10 | \n",
       "\n",
       "\n"
      ],
      "text/plain": [
       "     [,1] [,2] [,3] [,4] [,5]\n",
       "[1,] 1    2    3    4     5  \n",
       "[2,] 6    7    8    9    10  "
      ]
     },
     "metadata": {},
     "output_type": "display_data"
    }
   ],
   "source": [
    "data <- seq(1:10) \n",
    "nrow = 2\n",
    "ncol = 5\n",
    "\n",
    "\n",
    "sample_matrix_by_col <- matrix(data, nrow, ncol, byrow = 0) #fill matrix by column, not by rows\n",
    "sample_matrix_by_row <- matrix(data, nrow, ncol, byrow = 1)\n",
    "\n",
    "#note the difference in the structure of the matrix when it's filled by row vs. by column \n",
    "head(sample_matrix_by_col)\n",
    "head(sample_matrix_by_row)"
   ]
  },
  {
   "cell_type": "markdown",
   "metadata": {},
   "source": [
    "__Note__ that only one dimension (```nrow``` or ```ncol```) is needed when specifiying a matrix in R. \n",
    "R *can* infer ```nrow``` if ```ncol``` is specified, for example. \n",
    "However, to avoid errors, it's best to be explicit to the extent that it makes your code easier to read and error-check."
   ]
  },
  {
   "cell_type": "markdown",
   "metadata": {},
   "source": [
    "# Basic kinds of matrices "
   ]
  },
  {
   "cell_type": "markdown",
   "metadata": {},
   "source": [
    "### Square \n",
    "A square matrix is a matrix that has an equal number of rows and columns (`m = n`). So a matrix with 4 columns and 4 rows is square, a matrix with 10 rows and 10 columns is square, and so on."
   ]
  },
  {
   "cell_type": "code",
   "execution_count": 3,
   "metadata": {},
   "outputs": [
    {
     "data": {
      "text/html": [
       "<table>\n",
       "<tbody>\n",
       "\t<tr><td>1 </td><td>5 </td><td> 9</td><td>13</td></tr>\n",
       "\t<tr><td>2 </td><td>6 </td><td>10</td><td>14</td></tr>\n",
       "\t<tr><td>3 </td><td>7 </td><td>11</td><td>15</td></tr>\n",
       "\t<tr><td>4 </td><td>8 </td><td>12</td><td>16</td></tr>\n",
       "</tbody>\n",
       "</table>\n"
      ],
      "text/latex": [
       "\\begin{tabular}{llll}\n",
       "\t 1  & 5  &  9 & 13\\\\\n",
       "\t 2  & 6  & 10 & 14\\\\\n",
       "\t 3  & 7  & 11 & 15\\\\\n",
       "\t 4  & 8  & 12 & 16\\\\\n",
       "\\end{tabular}\n"
      ],
      "text/markdown": [
       "\n",
       "| 1  | 5  |  9 | 13 | \n",
       "| 2  | 6  | 10 | 14 | \n",
       "| 3  | 7  | 11 | 15 | \n",
       "| 4  | 8  | 12 | 16 | \n",
       "\n",
       "\n"
      ],
      "text/plain": [
       "     [,1] [,2] [,3] [,4]\n",
       "[1,] 1    5     9   13  \n",
       "[2,] 2    6    10   14  \n",
       "[3,] 3    7    11   15  \n",
       "[4,] 4    8    12   16  "
      ]
     },
     "metadata": {},
     "output_type": "display_data"
    },
    {
     "data": {
      "text/html": [
       "<table>\n",
       "<tbody>\n",
       "\t<tr><td> 1 </td><td>11 </td><td>21 </td><td>31 </td><td>41 </td><td>51 </td><td>61 </td><td>71 </td><td>81 </td><td> 91</td></tr>\n",
       "\t<tr><td> 2 </td><td>12 </td><td>22 </td><td>32 </td><td>42 </td><td>52 </td><td>62 </td><td>72 </td><td>82 </td><td> 92</td></tr>\n",
       "\t<tr><td> 3 </td><td>13 </td><td>23 </td><td>33 </td><td>43 </td><td>53 </td><td>63 </td><td>73 </td><td>83 </td><td> 93</td></tr>\n",
       "\t<tr><td> 4 </td><td>14 </td><td>24 </td><td>34 </td><td>44 </td><td>54 </td><td>64 </td><td>74 </td><td>84 </td><td> 94</td></tr>\n",
       "\t<tr><td> 5 </td><td>15 </td><td>25 </td><td>35 </td><td>45 </td><td>55 </td><td>65 </td><td>75 </td><td>85 </td><td> 95</td></tr>\n",
       "\t<tr><td> 6 </td><td>16 </td><td>26 </td><td>36 </td><td>46 </td><td>56 </td><td>66 </td><td>76 </td><td>86 </td><td> 96</td></tr>\n",
       "\t<tr><td> 7 </td><td>17 </td><td>27 </td><td>37 </td><td>47 </td><td>57 </td><td>67 </td><td>77 </td><td>87 </td><td> 97</td></tr>\n",
       "\t<tr><td> 8 </td><td>18 </td><td>28 </td><td>38 </td><td>48 </td><td>58 </td><td>68 </td><td>78 </td><td>88 </td><td> 98</td></tr>\n",
       "\t<tr><td> 9 </td><td>19 </td><td>29 </td><td>39 </td><td>49 </td><td>59 </td><td>69 </td><td>79 </td><td>89 </td><td> 99</td></tr>\n",
       "\t<tr><td>10 </td><td>20 </td><td>30 </td><td>40 </td><td>50 </td><td>60 </td><td>70 </td><td>80 </td><td>90 </td><td>100</td></tr>\n",
       "</tbody>\n",
       "</table>\n"
      ],
      "text/latex": [
       "\\begin{tabular}{llllllllll}\n",
       "\t  1  & 11  & 21  & 31  & 41  & 51  & 61  & 71  & 81  &  91\\\\\n",
       "\t  2  & 12  & 22  & 32  & 42  & 52  & 62  & 72  & 82  &  92\\\\\n",
       "\t  3  & 13  & 23  & 33  & 43  & 53  & 63  & 73  & 83  &  93\\\\\n",
       "\t  4  & 14  & 24  & 34  & 44  & 54  & 64  & 74  & 84  &  94\\\\\n",
       "\t  5  & 15  & 25  & 35  & 45  & 55  & 65  & 75  & 85  &  95\\\\\n",
       "\t  6  & 16  & 26  & 36  & 46  & 56  & 66  & 76  & 86  &  96\\\\\n",
       "\t  7  & 17  & 27  & 37  & 47  & 57  & 67  & 77  & 87  &  97\\\\\n",
       "\t  8  & 18  & 28  & 38  & 48  & 58  & 68  & 78  & 88  &  98\\\\\n",
       "\t  9  & 19  & 29  & 39  & 49  & 59  & 69  & 79  & 89  &  99\\\\\n",
       "\t 10  & 20  & 30  & 40  & 50  & 60  & 70  & 80  & 90  & 100\\\\\n",
       "\\end{tabular}\n"
      ],
      "text/markdown": [
       "\n",
       "|  1  | 11  | 21  | 31  | 41  | 51  | 61  | 71  | 81  |  91 | \n",
       "|  2  | 12  | 22  | 32  | 42  | 52  | 62  | 72  | 82  |  92 | \n",
       "|  3  | 13  | 23  | 33  | 43  | 53  | 63  | 73  | 83  |  93 | \n",
       "|  4  | 14  | 24  | 34  | 44  | 54  | 64  | 74  | 84  |  94 | \n",
       "|  5  | 15  | 25  | 35  | 45  | 55  | 65  | 75  | 85  |  95 | \n",
       "|  6  | 16  | 26  | 36  | 46  | 56  | 66  | 76  | 86  |  96 | \n",
       "|  7  | 17  | 27  | 37  | 47  | 57  | 67  | 77  | 87  |  97 | \n",
       "|  8  | 18  | 28  | 38  | 48  | 58  | 68  | 78  | 88  |  98 | \n",
       "|  9  | 19  | 29  | 39  | 49  | 59  | 69  | 79  | 89  |  99 | \n",
       "| 10  | 20  | 30  | 40  | 50  | 60  | 70  | 80  | 90  | 100 | \n",
       "\n",
       "\n"
      ],
      "text/plain": [
       "      [,1] [,2] [,3] [,4] [,5] [,6] [,7] [,8] [,9] [,10]\n",
       " [1,]  1   11   21   31   41   51   61   71   81    91  \n",
       " [2,]  2   12   22   32   42   52   62   72   82    92  \n",
       " [3,]  3   13   23   33   43   53   63   73   83    93  \n",
       " [4,]  4   14   24   34   44   54   64   74   84    94  \n",
       " [5,]  5   15   25   35   45   55   65   75   85    95  \n",
       " [6,]  6   16   26   36   46   56   66   76   86    96  \n",
       " [7,]  7   17   27   37   47   57   67   77   87    97  \n",
       " [8,]  8   18   28   38   48   58   68   78   88    98  \n",
       " [9,]  9   19   29   39   49   59   69   79   89    99  \n",
       "[10,] 10   20   30   40   50   60   70   80   90   100  "
      ]
     },
     "metadata": {},
     "output_type": "display_data"
    }
   ],
   "source": [
    "square_matrix_4 <- matrix(1:16, nrow = 4)\n",
    "square_matrix_4\n",
    "\n",
    "square_matrix_10 <- matrix(1:100, nrow=10)\n",
    "square_matrix_10"
   ]
  },
  {
   "cell_type": "markdown",
   "metadata": {},
   "source": [
    "### Symmetric \n",
    "A square matrix is symmetric if the elements are reflected about the diagonal line of numbers. You can imagine that if you folded a square matrix in half along the diagonal, the reflected elements would touch. \n",
    "\n",
    "\n",
    "<img src=\"imgs/symmetric_matrix.png\" alt=\"drawing\" width=\"300\"/>\n",
    "\n",
    "\n",
    "*You can also think of a symmetric matrix as a matrix equal to its transposed form: $A = A^T$*"
   ]
  },
  {
   "cell_type": "code",
   "execution_count": 4,
   "metadata": {},
   "outputs": [
    {
     "data": {
      "text/html": [
       "<table>\n",
       "<tbody>\n",
       "\t<tr><td> 1</td><td> 5</td><td> 9</td><td>13</td></tr>\n",
       "\t<tr><td> 5</td><td> 6</td><td>10</td><td>14</td></tr>\n",
       "\t<tr><td> 9</td><td>10</td><td>11</td><td>15</td></tr>\n",
       "\t<tr><td>13</td><td>14</td><td>15</td><td>16</td></tr>\n",
       "</tbody>\n",
       "</table>\n"
      ],
      "text/latex": [
       "\\begin{tabular}{llll}\n",
       "\t  1 &  5 &  9 & 13\\\\\n",
       "\t  5 &  6 & 10 & 14\\\\\n",
       "\t  9 & 10 & 11 & 15\\\\\n",
       "\t 13 & 14 & 15 & 16\\\\\n",
       "\\end{tabular}\n"
      ],
      "text/markdown": [
       "\n",
       "|  1 |  5 |  9 | 13 | \n",
       "|  5 |  6 | 10 | 14 | \n",
       "|  9 | 10 | 11 | 15 | \n",
       "| 13 | 14 | 15 | 16 | \n",
       "\n",
       "\n"
      ],
      "text/plain": [
       "     [,1] [,2] [,3] [,4]\n",
       "[1,]  1    5    9   13  \n",
       "[2,]  5    6   10   14  \n",
       "[3,]  9   10   11   15  \n",
       "[4,] 13   14   15   16  "
      ]
     },
     "metadata": {},
     "output_type": "display_data"
    },
    {
     "data": {
      "text/html": [
       "<table>\n",
       "<tbody>\n",
       "\t<tr><td>TRUE</td><td>TRUE</td><td>TRUE</td><td>TRUE</td></tr>\n",
       "\t<tr><td>TRUE</td><td>TRUE</td><td>TRUE</td><td>TRUE</td></tr>\n",
       "\t<tr><td>TRUE</td><td>TRUE</td><td>TRUE</td><td>TRUE</td></tr>\n",
       "\t<tr><td>TRUE</td><td>TRUE</td><td>TRUE</td><td>TRUE</td></tr>\n",
       "</tbody>\n",
       "</table>\n"
      ],
      "text/latex": [
       "\\begin{tabular}{llll}\n",
       "\t TRUE & TRUE & TRUE & TRUE\\\\\n",
       "\t TRUE & TRUE & TRUE & TRUE\\\\\n",
       "\t TRUE & TRUE & TRUE & TRUE\\\\\n",
       "\t TRUE & TRUE & TRUE & TRUE\\\\\n",
       "\\end{tabular}\n"
      ],
      "text/markdown": [
       "\n",
       "| TRUE | TRUE | TRUE | TRUE | \n",
       "| TRUE | TRUE | TRUE | TRUE | \n",
       "| TRUE | TRUE | TRUE | TRUE | \n",
       "| TRUE | TRUE | TRUE | TRUE | \n",
       "\n",
       "\n"
      ],
      "text/plain": [
       "     [,1] [,2] [,3] [,4]\n",
       "[1,] TRUE TRUE TRUE TRUE\n",
       "[2,] TRUE TRUE TRUE TRUE\n",
       "[3,] TRUE TRUE TRUE TRUE\n",
       "[4,] TRUE TRUE TRUE TRUE"
      ]
     },
     "metadata": {},
     "output_type": "display_data"
    }
   ],
   "source": [
    "symmetric_matrix <- matrix(1:16,nrow = 4)\n",
    "symmetric_matrix[lower.tri(symmetric_matrix)] <- t(symmetric_matrix)[lower.tri(symmetric_matrix)] # replace lower triangular portion with lower triangular portion of transpose \n",
    "\n",
    "symmetric_matrix #an example of a symmetric matrix\n",
    "\n",
    "t(symmetric_matrix) == symmetric_matrix #a transposed symmetric matrix is equal to the original matrix "
   ]
  },
  {
   "cell_type": "markdown",
   "metadata": {},
   "source": [
    "### Identity \n",
    "An identity matrix is a special case of a square, symmetric matrix. Specifically, it has ones on the diagonal line and zeros everywhere else. \n",
    "\n",
    "\n",
    "<img src=\"imgs/identity_matrix.png\" alt=\"drawing\" width=\"300\"/>\n",
    "\n",
    "Why is this important?\n",
    "As you'll see later, the identity matrix acts like the number 1 in the real number system, but for matrix operations. "
   ]
  },
  {
   "cell_type": "code",
   "execution_count": 5,
   "metadata": {},
   "outputs": [
    {
     "data": {
      "text/html": [
       "<table>\n",
       "<tbody>\n",
       "\t<tr><td>1</td><td>0</td><td>0</td><td>0</td><td>0</td></tr>\n",
       "\t<tr><td>0</td><td>1</td><td>0</td><td>0</td><td>0</td></tr>\n",
       "\t<tr><td>0</td><td>0</td><td>1</td><td>0</td><td>0</td></tr>\n",
       "\t<tr><td>0</td><td>0</td><td>0</td><td>1</td><td>0</td></tr>\n",
       "\t<tr><td>0</td><td>0</td><td>0</td><td>0</td><td>1</td></tr>\n",
       "</tbody>\n",
       "</table>\n"
      ],
      "text/latex": [
       "\\begin{tabular}{lllll}\n",
       "\t 1 & 0 & 0 & 0 & 0\\\\\n",
       "\t 0 & 1 & 0 & 0 & 0\\\\\n",
       "\t 0 & 0 & 1 & 0 & 0\\\\\n",
       "\t 0 & 0 & 0 & 1 & 0\\\\\n",
       "\t 0 & 0 & 0 & 0 & 1\\\\\n",
       "\\end{tabular}\n"
      ],
      "text/markdown": [
       "\n",
       "| 1 | 0 | 0 | 0 | 0 | \n",
       "| 0 | 1 | 0 | 0 | 0 | \n",
       "| 0 | 0 | 1 | 0 | 0 | \n",
       "| 0 | 0 | 0 | 1 | 0 | \n",
       "| 0 | 0 | 0 | 0 | 1 | \n",
       "\n",
       "\n"
      ],
      "text/plain": [
       "     [,1] [,2] [,3] [,4] [,5]\n",
       "[1,] 1    0    0    0    0   \n",
       "[2,] 0    1    0    0    0   \n",
       "[3,] 0    0    1    0    0   \n",
       "[4,] 0    0    0    1    0   \n",
       "[5,] 0    0    0    0    1   "
      ]
     },
     "metadata": {},
     "output_type": "display_data"
    }
   ],
   "source": [
    "mat <- matrix(0, 5, 5)\n",
    "diag(mat) <- 1\n",
    "mat"
   ]
  },
  {
   "cell_type": "markdown",
   "metadata": {},
   "source": [
    "### Summary\n",
    "* A square matrix has an equal number of rows and columns. \n",
    "<br>\n",
    "* A symmetric matrix is a subset of square matrices. \n",
    "\n",
    "* The identity matrix is subset of square, symmetric matrices, with useful properties that you'll need later. "
   ]
  },
  {
   "cell_type": "markdown",
   "metadata": {},
   "source": [
    "# Matrix manipulation"
   ]
  },
  {
   "cell_type": "markdown",
   "metadata": {},
   "source": [
    "   ## Basic indexing"
   ]
  },
  {
   "cell_type": "markdown",
   "metadata": {},
   "source": [
    "You can use bracket notation to access the elements of a matrix. Like above, the bracket notation specifies the row number first, then the column number, like this: \n",
    "\n",
    "\n",
    "```matrix[row_index, column_index]```\n",
    "<br>\n",
    "\n",
    "__Note__ that R uses one-based indexing. For example, the following command would find the element in the 1st row and the 6th column of a matrix. "
   ]
  },
  {
   "cell_type": "code",
   "execution_count": 6,
   "metadata": {},
   "outputs": [
    {
     "data": {
      "text/html": [
       "3"
      ],
      "text/latex": [
       "3"
      ],
      "text/markdown": [
       "3"
      ],
      "text/plain": [
       "[1] 3"
      ]
     },
     "metadata": {},
     "output_type": "display_data"
    }
   ],
   "source": [
    "sample_matrix_by_col[1, 6] #this accesses the element in the first row and sixth column of the matrix (note that R uses one-based indexing)"
   ]
  },
  {
   "cell_type": "markdown",
   "metadata": {},
   "source": [
    "To access all rows of a column, leave the row index blank. <br>\n",
    "```matrix[ ,column_index]``` "
   ]
  },
  {
   "cell_type": "code",
   "execution_count": 7,
   "metadata": {},
   "outputs": [
    {
     "data": {
      "text/html": [
       "<ol class=list-inline>\n",
       "\t<li>3</li>\n",
       "\t<li>4</li>\n",
       "</ol>\n"
      ],
      "text/latex": [
       "\\begin{enumerate*}\n",
       "\\item 3\n",
       "\\item 4\n",
       "\\end{enumerate*}\n"
      ],
      "text/markdown": [
       "1. 3\n",
       "2. 4\n",
       "\n",
       "\n"
      ],
      "text/plain": [
       "[1] 3 4"
      ]
     },
     "metadata": {},
     "output_type": "display_data"
    }
   ],
   "source": [
    "sample_matrix_by_col[ ,2] #accessing all rows of column 6"
   ]
  },
  {
   "cell_type": "markdown",
   "metadata": {},
   "source": [
    "To access all columns of a row, leave the column index blank. <br>\n",
    "```matrix[row_index, ]```"
   ]
  },
  {
   "cell_type": "code",
   "execution_count": 8,
   "metadata": {},
   "outputs": [
    {
     "data": {
      "text/html": [
       "<ol class=list-inline>\n",
       "\t<li>1</li>\n",
       "\t<li>3</li>\n",
       "\t<li>5</li>\n",
       "\t<li>7</li>\n",
       "\t<li>9</li>\n",
       "</ol>\n"
      ],
      "text/latex": [
       "\\begin{enumerate*}\n",
       "\\item 1\n",
       "\\item 3\n",
       "\\item 5\n",
       "\\item 7\n",
       "\\item 9\n",
       "\\end{enumerate*}\n"
      ],
      "text/markdown": [
       "1. 1\n",
       "2. 3\n",
       "3. 5\n",
       "4. 7\n",
       "5. 9\n",
       "\n",
       "\n"
      ],
      "text/plain": [
       "[1] 1 3 5 7 9"
      ]
     },
     "metadata": {},
     "output_type": "display_data"
    }
   ],
   "source": [
    "sample_matrix_by_col[1, ] #accessing all columns of row 1"
   ]
  },
  {
   "cell_type": "markdown",
   "metadata": {},
   "source": [
    "It's also easy to extract several rows or columns at once. "
   ]
  },
  {
   "cell_type": "code",
   "execution_count": 9,
   "metadata": {},
   "outputs": [
    {
     "data": {
      "text/html": [
       "<table>\n",
       "<tbody>\n",
       "\t<tr><td>1 </td><td>3 </td><td>5 </td><td>7 </td><td> 9</td></tr>\n",
       "\t<tr><td>2 </td><td>4 </td><td>6 </td><td>8 </td><td>10</td></tr>\n",
       "</tbody>\n",
       "</table>\n"
      ],
      "text/latex": [
       "\\begin{tabular}{lllll}\n",
       "\t 1  & 3  & 5  & 7  &  9\\\\\n",
       "\t 2  & 4  & 6  & 8  & 10\\\\\n",
       "\\end{tabular}\n"
      ],
      "text/markdown": [
       "\n",
       "| 1  | 3  | 5  | 7  |  9 | \n",
       "| 2  | 4  | 6  | 8  | 10 | \n",
       "\n",
       "\n"
      ],
      "text/plain": [
       "     [,1] [,2] [,3] [,4] [,5]\n",
       "[1,] 1    3    5    7     9  \n",
       "[2,] 2    4    6    8    10  "
      ]
     },
     "metadata": {},
     "output_type": "display_data"
    }
   ],
   "source": [
    "sample_matrix_by_col"
   ]
  },
  {
   "cell_type": "code",
   "execution_count": 10,
   "metadata": {},
   "outputs": [
    {
     "data": {
      "text/html": [
       "<table>\n",
       "<tbody>\n",
       "\t<tr><td>1</td><td>3</td><td>5</td></tr>\n",
       "\t<tr><td>2</td><td>4</td><td>6</td></tr>\n",
       "</tbody>\n",
       "</table>\n"
      ],
      "text/latex": [
       "\\begin{tabular}{lll}\n",
       "\t 1 & 3 & 5\\\\\n",
       "\t 2 & 4 & 6\\\\\n",
       "\\end{tabular}\n"
      ],
      "text/markdown": [
       "\n",
       "| 1 | 3 | 5 | \n",
       "| 2 | 4 | 6 | \n",
       "\n",
       "\n"
      ],
      "text/plain": [
       "     [,1] [,2] [,3]\n",
       "[1,] 1    3    5   \n",
       "[2,] 2    4    6   "
      ]
     },
     "metadata": {},
     "output_type": "display_data"
    }
   ],
   "source": [
    "sample_matrix_by_col[,1:3] #getting all rows of columns 1-3"
   ]
  },
  {
   "cell_type": "code",
   "execution_count": 11,
   "metadata": {},
   "outputs": [
    {
     "data": {
      "text/html": [
       "<ol class=list-inline>\n",
       "\t<li>1</li>\n",
       "\t<li>3</li>\n",
       "\t<li>5</li>\n",
       "</ol>\n"
      ],
      "text/latex": [
       "\\begin{enumerate*}\n",
       "\\item 1\n",
       "\\item 3\n",
       "\\item 5\n",
       "\\end{enumerate*}\n"
      ],
      "text/markdown": [
       "1. 1\n",
       "2. 3\n",
       "3. 5\n",
       "\n",
       "\n"
      ],
      "text/plain": [
       "[1] 1 3 5"
      ]
     },
     "metadata": {},
     "output_type": "display_data"
    }
   ],
   "source": [
    "sample_matrix_by_col[1,1:3] #getting columns 1-3 of row 1"
   ]
  },
  {
   "cell_type": "markdown",
   "metadata": {},
   "source": [
    "## Basic matrix operations\n",
    "\n",
    "Now that we know what a matrix is, how to create one in R, and how to access their elements, let's review how to manipulate them. "
   ]
  },
  {
   "cell_type": "code",
   "execution_count": 12,
   "metadata": {},
   "outputs": [],
   "source": [
    "mat_1 <- matrix(1:6, nrow = 2)\n",
    "mat_2 <- matrix(7:12, nrow = 2)"
   ]
  },
  {
   "cell_type": "code",
   "execution_count": 13,
   "metadata": {},
   "outputs": [
    {
     "data": {
      "text/html": [
       "<table>\n",
       "<tbody>\n",
       "\t<tr><td>1</td><td>3</td><td>5</td></tr>\n",
       "\t<tr><td>2</td><td>4</td><td>6</td></tr>\n",
       "</tbody>\n",
       "</table>\n"
      ],
      "text/latex": [
       "\\begin{tabular}{lll}\n",
       "\t 1 & 3 & 5\\\\\n",
       "\t 2 & 4 & 6\\\\\n",
       "\\end{tabular}\n"
      ],
      "text/markdown": [
       "\n",
       "| 1 | 3 | 5 | \n",
       "| 2 | 4 | 6 | \n",
       "\n",
       "\n"
      ],
      "text/plain": [
       "     [,1] [,2] [,3]\n",
       "[1,] 1    3    5   \n",
       "[2,] 2    4    6   "
      ]
     },
     "metadata": {},
     "output_type": "display_data"
    }
   ],
   "source": [
    "mat_1"
   ]
  },
  {
   "cell_type": "code",
   "execution_count": 14,
   "metadata": {},
   "outputs": [
    {
     "data": {
      "text/html": [
       "<table>\n",
       "<tbody>\n",
       "\t<tr><td>7 </td><td> 9</td><td>11</td></tr>\n",
       "\t<tr><td>8 </td><td>10</td><td>12</td></tr>\n",
       "</tbody>\n",
       "</table>\n"
      ],
      "text/latex": [
       "\\begin{tabular}{lll}\n",
       "\t 7  &  9 & 11\\\\\n",
       "\t 8  & 10 & 12\\\\\n",
       "\\end{tabular}\n"
      ],
      "text/markdown": [
       "\n",
       "| 7  |  9 | 11 | \n",
       "| 8  | 10 | 12 | \n",
       "\n",
       "\n"
      ],
      "text/plain": [
       "     [,1] [,2] [,3]\n",
       "[1,] 7     9   11  \n",
       "[2,] 8    10   12  "
      ]
     },
     "metadata": {},
     "output_type": "display_data"
    }
   ],
   "source": [
    "mat_2"
   ]
  },
  {
   "cell_type": "markdown",
   "metadata": {},
   "source": [
    "#### Addition and subtraction\n",
    "Addition and subtraction is an element-wise operation in the world of matrices. That is, when two matrices are added, each element of the first matrix is added to the corresponding element in the second matrix. "
   ]
  },
  {
   "cell_type": "code",
   "execution_count": 15,
   "metadata": {},
   "outputs": [
    {
     "data": {
      "text/html": [
       "<table>\n",
       "<tbody>\n",
       "\t<tr><td> 8</td><td>12</td><td>16</td></tr>\n",
       "\t<tr><td>10</td><td>14</td><td>18</td></tr>\n",
       "</tbody>\n",
       "</table>\n"
      ],
      "text/latex": [
       "\\begin{tabular}{lll}\n",
       "\t  8 & 12 & 16\\\\\n",
       "\t 10 & 14 & 18\\\\\n",
       "\\end{tabular}\n"
      ],
      "text/markdown": [
       "\n",
       "|  8 | 12 | 16 | \n",
       "| 10 | 14 | 18 | \n",
       "\n",
       "\n"
      ],
      "text/plain": [
       "     [,1] [,2] [,3]\n",
       "[1,]  8   12   16  \n",
       "[2,] 10   14   18  "
      ]
     },
     "metadata": {},
     "output_type": "display_data"
    }
   ],
   "source": [
    "#addition \n",
    "mat_1 + mat_2 #each element is added to the next in-place "
   ]
  },
  {
   "cell_type": "code",
   "execution_count": 16,
   "metadata": {},
   "outputs": [
    {
     "data": {
      "text/html": [
       "<table>\n",
       "<tbody>\n",
       "\t<tr><td>7 </td><td> 9</td><td>11</td></tr>\n",
       "\t<tr><td>8 </td><td>10</td><td>12</td></tr>\n",
       "</tbody>\n",
       "</table>\n"
      ],
      "text/latex": [
       "\\begin{tabular}{lll}\n",
       "\t 7  &  9 & 11\\\\\n",
       "\t 8  & 10 & 12\\\\\n",
       "\\end{tabular}\n"
      ],
      "text/markdown": [
       "\n",
       "| 7  |  9 | 11 | \n",
       "| 8  | 10 | 12 | \n",
       "\n",
       "\n"
      ],
      "text/plain": [
       "     [,1] [,2] [,3]\n",
       "[1,] 7     9   11  \n",
       "[2,] 8    10   12  "
      ]
     },
     "metadata": {},
     "output_type": "display_data"
    }
   ],
   "source": [
    "mat_2"
   ]
  },
  {
   "cell_type": "markdown",
   "metadata": {},
   "source": [
    "If you add a constant to a matrix, then that constant is added to all elements, and the rules are the same for subtraction."
   ]
  },
  {
   "cell_type": "code",
   "execution_count": 17,
   "metadata": {},
   "outputs": [
    {
     "data": {
      "text/html": [
       "<table>\n",
       "<tbody>\n",
       "\t<tr><td>4</td><td>6</td><td>8</td></tr>\n",
       "\t<tr><td>5</td><td>7</td><td>9</td></tr>\n",
       "</tbody>\n",
       "</table>\n"
      ],
      "text/latex": [
       "\\begin{tabular}{lll}\n",
       "\t 4 & 6 & 8\\\\\n",
       "\t 5 & 7 & 9\\\\\n",
       "\\end{tabular}\n"
      ],
      "text/markdown": [
       "\n",
       "| 4 | 6 | 8 | \n",
       "| 5 | 7 | 9 | \n",
       "\n",
       "\n"
      ],
      "text/plain": [
       "     [,1] [,2] [,3]\n",
       "[1,] 4    6    8   \n",
       "[2,] 5    7    9   "
      ]
     },
     "metadata": {},
     "output_type": "display_data"
    }
   ],
   "source": [
    "mat_1 + 3 # each element increases by 3"
   ]
  },
  {
   "cell_type": "code",
   "execution_count": 18,
   "metadata": {},
   "outputs": [
    {
     "data": {
      "text/html": [
       "<table>\n",
       "<tbody>\n",
       "\t<tr><td>6</td><td>6</td><td>6</td></tr>\n",
       "\t<tr><td>6</td><td>6</td><td>6</td></tr>\n",
       "</tbody>\n",
       "</table>\n"
      ],
      "text/latex": [
       "\\begin{tabular}{lll}\n",
       "\t 6 & 6 & 6\\\\\n",
       "\t 6 & 6 & 6\\\\\n",
       "\\end{tabular}\n"
      ],
      "text/markdown": [
       "\n",
       "| 6 | 6 | 6 | \n",
       "| 6 | 6 | 6 | \n",
       "\n",
       "\n"
      ],
      "text/plain": [
       "     [,1] [,2] [,3]\n",
       "[1,] 6    6    6   \n",
       "[2,] 6    6    6   "
      ]
     },
     "metadata": {},
     "output_type": "display_data"
    }
   ],
   "source": [
    "#subtraction\n",
    "mat_2 - mat_1 #each element is subtracted from the next in-place "
   ]
  },
  {
   "cell_type": "code",
   "execution_count": 19,
   "metadata": {},
   "outputs": [
    {
     "data": {
      "text/html": [
       "<table>\n",
       "<tbody>\n",
       "\t<tr><td>4</td><td>6</td><td>8</td></tr>\n",
       "\t<tr><td>5</td><td>7</td><td>9</td></tr>\n",
       "</tbody>\n",
       "</table>\n"
      ],
      "text/latex": [
       "\\begin{tabular}{lll}\n",
       "\t 4 & 6 & 8\\\\\n",
       "\t 5 & 7 & 9\\\\\n",
       "\\end{tabular}\n"
      ],
      "text/markdown": [
       "\n",
       "| 4 | 6 | 8 | \n",
       "| 5 | 7 | 9 | \n",
       "\n",
       "\n"
      ],
      "text/plain": [
       "     [,1] [,2] [,3]\n",
       "[1,] 4    6    8   \n",
       "[2,] 5    7    9   "
      ]
     },
     "metadata": {},
     "output_type": "display_data"
    }
   ],
   "source": [
    "mat_2 - 3"
   ]
  },
  {
   "cell_type": "markdown",
   "metadata": {},
   "source": [
    "#### Transposition"
   ]
  },
  {
   "cell_type": "markdown",
   "metadata": {},
   "source": [
    "When a matrix is transposed, the columns become the rows. A transposed matrix is denoted **A'**. \n",
    "\n",
    "As an example, look at the original matrix, ```mat_2```:"
   ]
  },
  {
   "cell_type": "code",
   "execution_count": 20,
   "metadata": {},
   "outputs": [
    {
     "data": {
      "text/html": [
       "<table>\n",
       "<tbody>\n",
       "\t<tr><td>7 </td><td> 9</td><td>11</td></tr>\n",
       "\t<tr><td>8 </td><td>10</td><td>12</td></tr>\n",
       "</tbody>\n",
       "</table>\n"
      ],
      "text/latex": [
       "\\begin{tabular}{lll}\n",
       "\t 7  &  9 & 11\\\\\n",
       "\t 8  & 10 & 12\\\\\n",
       "\\end{tabular}\n"
      ],
      "text/markdown": [
       "\n",
       "| 7  |  9 | 11 | \n",
       "| 8  | 10 | 12 | \n",
       "\n",
       "\n"
      ],
      "text/plain": [
       "     [,1] [,2] [,3]\n",
       "[1,] 7     9   11  \n",
       "[2,] 8    10   12  "
      ]
     },
     "metadata": {},
     "output_type": "display_data"
    }
   ],
   "source": [
    "mat_2"
   ]
  },
  {
   "cell_type": "markdown",
   "metadata": {},
   "source": [
    "The transposition switches rows and columns: "
   ]
  },
  {
   "cell_type": "code",
   "execution_count": 21,
   "metadata": {},
   "outputs": [
    {
     "data": {
      "text/html": [
       "<table>\n",
       "<tbody>\n",
       "\t<tr><td> 7</td><td> 8</td></tr>\n",
       "\t<tr><td> 9</td><td>10</td></tr>\n",
       "\t<tr><td>11</td><td>12</td></tr>\n",
       "</tbody>\n",
       "</table>\n"
      ],
      "text/latex": [
       "\\begin{tabular}{ll}\n",
       "\t  7 &  8\\\\\n",
       "\t  9 & 10\\\\\n",
       "\t 11 & 12\\\\\n",
       "\\end{tabular}\n"
      ],
      "text/markdown": [
       "\n",
       "|  7 |  8 | \n",
       "|  9 | 10 | \n",
       "| 11 | 12 | \n",
       "\n",
       "\n"
      ],
      "text/plain": [
       "     [,1] [,2]\n",
       "[1,]  7    8  \n",
       "[2,]  9   10  \n",
       "[3,] 11   12  "
      ]
     },
     "metadata": {},
     "output_type": "display_data"
    }
   ],
   "source": [
    "#transposition \n",
    "transposed_mat_2 <- t(mat_2) \n",
    "transposed_mat_2"
   ]
  },
  {
   "cell_type": "markdown",
   "metadata": {},
   "source": [
    "And if we tranpose the transposed matrix, we return it to its original form: "
   ]
  },
  {
   "cell_type": "code",
   "execution_count": 22,
   "metadata": {},
   "outputs": [
    {
     "data": {
      "text/html": [
       "<table>\n",
       "<tbody>\n",
       "\t<tr><td>7 </td><td> 9</td><td>11</td></tr>\n",
       "\t<tr><td>8 </td><td>10</td><td>12</td></tr>\n",
       "</tbody>\n",
       "</table>\n"
      ],
      "text/latex": [
       "\\begin{tabular}{lll}\n",
       "\t 7  &  9 & 11\\\\\n",
       "\t 8  & 10 & 12\\\\\n",
       "\\end{tabular}\n"
      ],
      "text/markdown": [
       "\n",
       "| 7  |  9 | 11 | \n",
       "| 8  | 10 | 12 | \n",
       "\n",
       "\n"
      ],
      "text/plain": [
       "     [,1] [,2] [,3]\n",
       "[1,] 7     9   11  \n",
       "[2,] 8    10   12  "
      ]
     },
     "metadata": {},
     "output_type": "display_data"
    }
   ],
   "source": [
    "t(transposed_mat_2)"
   ]
  },
  {
   "cell_type": "markdown",
   "metadata": {},
   "source": [
    "#### Multiplication"
   ]
  },
  {
   "cell_type": "markdown",
   "metadata": {},
   "source": [
    "Multiplying a matrix by a constant multiplies each element of a matrix by that number. "
   ]
  },
  {
   "cell_type": "code",
   "execution_count": 23,
   "metadata": {},
   "outputs": [
    {
     "data": {
      "text/html": [
       "<table>\n",
       "<tbody>\n",
       "\t<tr><td>3 </td><td> 9</td><td>15</td></tr>\n",
       "\t<tr><td>6 </td><td>12</td><td>18</td></tr>\n",
       "</tbody>\n",
       "</table>\n"
      ],
      "text/latex": [
       "\\begin{tabular}{lll}\n",
       "\t 3  &  9 & 15\\\\\n",
       "\t 6  & 12 & 18\\\\\n",
       "\\end{tabular}\n"
      ],
      "text/markdown": [
       "\n",
       "| 3  |  9 | 15 | \n",
       "| 6  | 12 | 18 | \n",
       "\n",
       "\n"
      ],
      "text/plain": [
       "     [,1] [,2] [,3]\n",
       "[1,] 3     9   15  \n",
       "[2,] 6    12   18  "
      ]
     },
     "metadata": {},
     "output_type": "display_data"
    }
   ],
   "source": [
    "mat_1 * 3"
   ]
  },
  {
   "cell_type": "code",
   "execution_count": 24,
   "metadata": {},
   "outputs": [
    {
     "data": {
      "text/html": [
       "<table>\n",
       "<tbody>\n",
       "\t<tr><td> 7</td><td>27</td><td>55</td></tr>\n",
       "\t<tr><td>16</td><td>40</td><td>72</td></tr>\n",
       "</tbody>\n",
       "</table>\n"
      ],
      "text/latex": [
       "\\begin{tabular}{lll}\n",
       "\t  7 & 27 & 55\\\\\n",
       "\t 16 & 40 & 72\\\\\n",
       "\\end{tabular}\n"
      ],
      "text/markdown": [
       "\n",
       "|  7 | 27 | 55 | \n",
       "| 16 | 40 | 72 | \n",
       "\n",
       "\n"
      ],
      "text/plain": [
       "     [,1] [,2] [,3]\n",
       "[1,]  7   27   55  \n",
       "[2,] 16   40   72  "
      ]
     },
     "metadata": {},
     "output_type": "display_data"
    }
   ],
   "source": [
    "#element-wise multiplication\n",
    "mat_1*mat_2"
   ]
  },
  {
   "cell_type": "markdown",
   "metadata": {},
   "source": [
    "**Matrix multiplication**. Order matters in matrix multiplication. \n",
    "The number of columns for the first matrix must equal the number of rows for the second matrix. \n",
    "Matrices that meet these requirements \"conform\" to multiplication. "
   ]
  },
  {
   "cell_type": "markdown",
   "metadata": {},
   "source": [
    "$\\begin{bmatrix} a,b \\\\ c,d\\end{bmatrix} * \\begin{bmatrix} e, f\\\\ g, h\\end{bmatrix} = \\begin{bmatrix} ae + bg,af+bh \\\\ ce + dg,cf + dh\\end{bmatrix}$"
   ]
  },
  {
   "cell_type": "code",
   "execution_count": 25,
   "metadata": {},
   "outputs": [
    {
     "data": {
      "text/html": [
       "<table>\n",
       "<tbody>\n",
       "\t<tr><td> 89</td><td> 98</td></tr>\n",
       "\t<tr><td>116</td><td>128</td></tr>\n",
       "</tbody>\n",
       "</table>\n"
      ],
      "text/latex": [
       "\\begin{tabular}{ll}\n",
       "\t  89 &  98\\\\\n",
       "\t 116 & 128\\\\\n",
       "\\end{tabular}\n"
      ],
      "text/markdown": [
       "\n",
       "|  89 |  98 | \n",
       "| 116 | 128 | \n",
       "\n",
       "\n"
      ],
      "text/plain": [
       "     [,1] [,2]\n",
       "[1,]  89   98 \n",
       "[2,] 116  128 "
      ]
     },
     "metadata": {},
     "output_type": "display_data"
    }
   ],
   "source": [
    "#matrix multiplication \n",
    "mat_1 %*% t(mat_2)"
   ]
  },
  {
   "cell_type": "markdown",
   "metadata": {},
   "source": [
    "####  Division"
   ]
  },
  {
   "cell_type": "markdown",
   "metadata": {},
   "source": [
    "Matrices can be divided element-wise.<br>"
   ]
  },
  {
   "cell_type": "code",
   "execution_count": 26,
   "metadata": {},
   "outputs": [
    {
     "data": {
      "text/html": [
       "<table>\n",
       "<tbody>\n",
       "\t<tr><td>0.1428571</td><td>0.3333333</td><td>0.4545455</td></tr>\n",
       "\t<tr><td>0.2500000</td><td>0.4000000</td><td>0.5000000</td></tr>\n",
       "</tbody>\n",
       "</table>\n"
      ],
      "text/latex": [
       "\\begin{tabular}{lll}\n",
       "\t 0.1428571 & 0.3333333 & 0.4545455\\\\\n",
       "\t 0.2500000 & 0.4000000 & 0.5000000\\\\\n",
       "\\end{tabular}\n"
      ],
      "text/markdown": [
       "\n",
       "| 0.1428571 | 0.3333333 | 0.4545455 | \n",
       "| 0.2500000 | 0.4000000 | 0.5000000 | \n",
       "\n",
       "\n"
      ],
      "text/plain": [
       "     [,1]      [,2]      [,3]     \n",
       "[1,] 0.1428571 0.3333333 0.4545455\n",
       "[2,] 0.2500000 0.4000000 0.5000000"
      ]
     },
     "metadata": {},
     "output_type": "display_data"
    }
   ],
   "source": [
    "#division \n",
    "mat_1 / mat_2"
   ]
  },
  {
   "cell_type": "markdown",
   "metadata": {},
   "source": [
    "And you can divide a matrix by a constant (element-wise). "
   ]
  },
  {
   "cell_type": "code",
   "execution_count": 27,
   "metadata": {},
   "outputs": [
    {
     "data": {
      "text/html": [
       "<table>\n",
       "<tbody>\n",
       "\t<tr><td>0.5</td><td>1.5</td><td>2.5</td></tr>\n",
       "\t<tr><td>1.0</td><td>2.0</td><td>3.0</td></tr>\n",
       "</tbody>\n",
       "</table>\n"
      ],
      "text/latex": [
       "\\begin{tabular}{lll}\n",
       "\t 0.5 & 1.5 & 2.5\\\\\n",
       "\t 1.0 & 2.0 & 3.0\\\\\n",
       "\\end{tabular}\n"
      ],
      "text/markdown": [
       "\n",
       "| 0.5 | 1.5 | 2.5 | \n",
       "| 1.0 | 2.0 | 3.0 | \n",
       "\n",
       "\n"
      ],
      "text/plain": [
       "     [,1] [,2] [,3]\n",
       "[1,] 0.5  1.5  2.5 \n",
       "[2,] 1.0  2.0  3.0 "
      ]
     },
     "metadata": {},
     "output_type": "display_data"
    }
   ],
   "source": [
    "mat_1 / 2"
   ]
  },
  {
   "cell_type": "markdown",
   "metadata": {},
   "source": [
    "#### Inversion\n",
    "\n",
    "The inverse of a matrix can be thought of as the matrix version of taking the reciprocal of a real number. The inverse of the matrix A is denoted $\\bf{A^{-1}}$. Usually, inversion can only be performed on square matrices. The formula for the inverse of a 2x2 matrix is:  \n",
    "\n",
    "\n",
    "$$\\begin{bmatrix} a&b \\\\ c&d\\end{bmatrix}^{-1}  = \\frac{1}{(ad-bc)} *  \\begin{bmatrix} d&-b \\\\ -c&a\\end{bmatrix}$$\n",
    "\n",
    "\n",
    "The method of calculating inverses for larger matrices is more complicated and is usually included in most software. "
   ]
  },
  {
   "cell_type": "code",
   "execution_count": 28,
   "metadata": {},
   "outputs": [
    {
     "data": {
      "text/html": [
       "<table>\n",
       "<tbody>\n",
       "\t<tr><td>-6  </td><td> 5.5</td></tr>\n",
       "\t<tr><td> 5  </td><td>-4.5</td></tr>\n",
       "</tbody>\n",
       "</table>\n"
      ],
      "text/latex": [
       "\\begin{tabular}{ll}\n",
       "\t -6   &  5.5\\\\\n",
       "\t  5   & -4.5\\\\\n",
       "\\end{tabular}\n"
      ],
      "text/markdown": [
       "\n",
       "| -6   |  5.5 | \n",
       "|  5   | -4.5 | \n",
       "\n",
       "\n"
      ],
      "text/plain": [
       "     [,1] [,2]\n",
       "[1,] -6    5.5\n",
       "[2,]  5   -4.5"
      ]
     },
     "metadata": {},
     "output_type": "display_data"
    }
   ],
   "source": [
    "#taking the inverse \n",
    "solve(mat_2[, 2:3])"
   ]
  },
  {
   "cell_type": "markdown",
   "metadata": {},
   "source": [
    "# Use matrix manipulation to solve a linear regression problem \"by hand\""
   ]
  },
  {
   "cell_type": "markdown",
   "metadata": {},
   "source": [
    "First, a *brief* introduction to linear regression. \n",
    "\n",
    "Linear regression usually takes the basic form of \n",
    "\n",
    "$y = \\beta X + \\epsilon$\n",
    "\n",
    "where $y$ is a vector of the response variable, $X$ is a vector of predictors, $\\beta$ is a vector of parameters that we want to estimate (the slope and intercept), and $\\epsilon$ is the error term. The error term represents irreducible error, or the variance in $y$ unassociated with our predictor. "
   ]
  },
  {
   "cell_type": "markdown",
   "metadata": {},
   "source": [
    "To make this problem concrete, let's consider the ```mtcars``` data set. This data comes from the 1974 Motor Trend US magazine, and tells us about the fuel consumption and design/performance of a sample of cars from that era."
   ]
  },
  {
   "cell_type": "code",
   "execution_count": 29,
   "metadata": {},
   "outputs": [
    {
     "data": {
      "text/html": [
       "<table>\n",
       "<thead><tr><th></th><th scope=col>mpg</th><th scope=col>cyl</th><th scope=col>disp</th><th scope=col>hp</th><th scope=col>drat</th><th scope=col>wt</th><th scope=col>qsec</th><th scope=col>vs</th><th scope=col>am</th><th scope=col>gear</th><th scope=col>carb</th></tr></thead>\n",
       "<tbody>\n",
       "\t<tr><th scope=row>Mazda RX4</th><td>21.0 </td><td>6    </td><td>160  </td><td>110  </td><td>3.90 </td><td>2.620</td><td>16.46</td><td>0    </td><td>1    </td><td>4    </td><td>4    </td></tr>\n",
       "\t<tr><th scope=row>Mazda RX4 Wag</th><td>21.0 </td><td>6    </td><td>160  </td><td>110  </td><td>3.90 </td><td>2.875</td><td>17.02</td><td>0    </td><td>1    </td><td>4    </td><td>4    </td></tr>\n",
       "\t<tr><th scope=row>Datsun 710</th><td>22.8 </td><td>4    </td><td>108  </td><td> 93  </td><td>3.85 </td><td>2.320</td><td>18.61</td><td>1    </td><td>1    </td><td>4    </td><td>1    </td></tr>\n",
       "\t<tr><th scope=row>Hornet 4 Drive</th><td>21.4 </td><td>6    </td><td>258  </td><td>110  </td><td>3.08 </td><td>3.215</td><td>19.44</td><td>1    </td><td>0    </td><td>3    </td><td>1    </td></tr>\n",
       "\t<tr><th scope=row>Hornet Sportabout</th><td>18.7 </td><td>8    </td><td>360  </td><td>175  </td><td>3.15 </td><td>3.440</td><td>17.02</td><td>0    </td><td>0    </td><td>3    </td><td>2    </td></tr>\n",
       "\t<tr><th scope=row>Valiant</th><td>18.1 </td><td>6    </td><td>225  </td><td>105  </td><td>2.76 </td><td>3.460</td><td>20.22</td><td>1    </td><td>0    </td><td>3    </td><td>1    </td></tr>\n",
       "</tbody>\n",
       "</table>\n"
      ],
      "text/latex": [
       "\\begin{tabular}{r|lllllllllll}\n",
       "  & mpg & cyl & disp & hp & drat & wt & qsec & vs & am & gear & carb\\\\\n",
       "\\hline\n",
       "\tMazda RX4 & 21.0  & 6     & 160   & 110   & 3.90  & 2.620 & 16.46 & 0     & 1     & 4     & 4    \\\\\n",
       "\tMazda RX4 Wag & 21.0  & 6     & 160   & 110   & 3.90  & 2.875 & 17.02 & 0     & 1     & 4     & 4    \\\\\n",
       "\tDatsun 710 & 22.8  & 4     & 108   &  93   & 3.85  & 2.320 & 18.61 & 1     & 1     & 4     & 1    \\\\\n",
       "\tHornet 4 Drive & 21.4  & 6     & 258   & 110   & 3.08  & 3.215 & 19.44 & 1     & 0     & 3     & 1    \\\\\n",
       "\tHornet Sportabout & 18.7  & 8     & 360   & 175   & 3.15  & 3.440 & 17.02 & 0     & 0     & 3     & 2    \\\\\n",
       "\tValiant & 18.1  & 6     & 225   & 105   & 2.76  & 3.460 & 20.22 & 1     & 0     & 3     & 1    \\\\\n",
       "\\end{tabular}\n"
      ],
      "text/markdown": [
       "\n",
       "| <!--/--> | mpg | cyl | disp | hp | drat | wt | qsec | vs | am | gear | carb | \n",
       "|---|---|---|---|---|---|\n",
       "| Mazda RX4 | 21.0  | 6     | 160   | 110   | 3.90  | 2.620 | 16.46 | 0     | 1     | 4     | 4     | \n",
       "| Mazda RX4 Wag | 21.0  | 6     | 160   | 110   | 3.90  | 2.875 | 17.02 | 0     | 1     | 4     | 4     | \n",
       "| Datsun 710 | 22.8  | 4     | 108   |  93   | 3.85  | 2.320 | 18.61 | 1     | 1     | 4     | 1     | \n",
       "| Hornet 4 Drive | 21.4  | 6     | 258   | 110   | 3.08  | 3.215 | 19.44 | 1     | 0     | 3     | 1     | \n",
       "| Hornet Sportabout | 18.7  | 8     | 360   | 175   | 3.15  | 3.440 | 17.02 | 0     | 0     | 3     | 2     | \n",
       "| Valiant | 18.1  | 6     | 225   | 105   | 2.76  | 3.460 | 20.22 | 1     | 0     | 3     | 1     | \n",
       "\n",
       "\n"
      ],
      "text/plain": [
       "                  mpg  cyl disp hp  drat wt    qsec  vs am gear carb\n",
       "Mazda RX4         21.0 6   160  110 3.90 2.620 16.46 0  1  4    4   \n",
       "Mazda RX4 Wag     21.0 6   160  110 3.90 2.875 17.02 0  1  4    4   \n",
       "Datsun 710        22.8 4   108   93 3.85 2.320 18.61 1  1  4    1   \n",
       "Hornet 4 Drive    21.4 6   258  110 3.08 3.215 19.44 1  0  3    1   \n",
       "Hornet Sportabout 18.7 8   360  175 3.15 3.440 17.02 0  0  3    2   \n",
       "Valiant           18.1 6   225  105 2.76 3.460 20.22 1  0  3    1   "
      ]
     },
     "metadata": {},
     "output_type": "display_data"
    }
   ],
   "source": [
    "head(mtcars)"
   ]
  },
  {
   "cell_type": "markdown",
   "metadata": {},
   "source": [
    "For this problem, let's consider the relationship between the weight of a car and the number of miles it gets per gallon, or \n",
    "\n",
    "$m = \\beta \\textit{w} + \\epsilon$\n",
    "\n",
    "where $m$ = miles per gallon and $w$ = the weight of the car.\n",
    "\n",
    "Here's a plot of the general relationship between the two variables:"
   ]
  },
  {
   "cell_type": "code",
   "execution_count": 30,
   "metadata": {},
   "outputs": [
    {
     "name": "stderr",
     "output_type": "stream",
     "text": [
      "── Attaching packages ─────────────────────────────────────── tidyverse 1.2.1 ──\n",
      "✔ ggplot2 3.1.0     ✔ purrr   0.2.4\n",
      "✔ tibble  2.0.1     ✔ dplyr   0.7.4\n",
      "✔ tidyr   0.7.2     ✔ stringr 1.3.1\n",
      "✔ readr   1.1.1     ✔ forcats 0.2.0\n",
      "Warning message:\n",
      "“package ‘ggplot2’ was built under R version 3.4.4”Warning message:\n",
      "“package ‘tibble’ was built under R version 3.4.4”Warning message:\n",
      "“package ‘stringr’ was built under R version 3.4.4”── Conflicts ────────────────────────────────────────── tidyverse_conflicts() ──\n",
      "✖ dplyr::filter() masks stats::filter()\n",
      "✖ dplyr::lag()    masks stats::lag()\n",
      "`geom_smooth()` using method = 'loess' and formula 'y ~ x'\n"
     ]
    },
    {
     "data": {},
     "metadata": {},
     "output_type": "display_data"
    },
    {
     "data": {
      "image/png": "[encoded data removed]",
      "text/plain": [
       "plot without title"
      ]
     },
     "metadata": {},
     "output_type": "display_data"
    }
   ],
   "source": [
    "#ask them to plot the data using ggplot \n",
    "library(tidyverse)\n",
    "ggplot(mtcars, aes(mpg,wt)) + geom_point() + scale_x_continuous(name = 'miles per gallon') + scale_y_continuous(name='weight') + geom_smooth()"
   ]
  },
  {
   "cell_type": "markdown",
   "metadata": {},
   "source": [
    "Here is the equation to solve a simple linear regression problem in matrix form: \n",
    "\n",
    "$$\\beta=(X'X)^{-1}X'y $$\n",
    "\n",
    "Now, given your new (or refreshed) knowledge of matrix notation and manipulation, use matrix computations to implement linear regression using the equation above (not by using a linear regression function like `lm`). \n",
    "\n",
    "The derivation of these equations will be introduced in the lecture section soon. The purpose of this exercise is just to become familiar enough with matrix notation to implement this equation. \n",
    "\n",
    "You can check your results using ``` lm(mpg~wt)```."
   ]
  },
  {
   "cell_type": "code",
   "execution_count": 38,
   "metadata": {},
   "outputs": [],
   "source": [
    "#to get you started\n",
    "\n",
    "X <- matrix(mtcars$wt, ncol = 1) #load data as matrix\n",
    "y <- matrix(mtcars$mpg, ncol = 1)\n",
    "\n",
    "intercept <- rep(1, nrow(y))\n",
    "\n",
    "X <- cbind(intercept, X) #add a column for the intercept to X"
   ]
  },
  {
   "cell_type": "code",
   "execution_count": 41,
   "metadata": {},
   "outputs": [
    {
     "data": {
      "text/plain": [
       "\n",
       "Call:\n",
       "lm(formula = mtcars$mpg ~ mtcars$wt, data = mtcars)\n",
       "\n",
       "Coefficients:\n",
       "(Intercept)    mtcars$wt  \n",
       "     37.285       -5.344  \n"
      ]
     },
     "metadata": {},
     "output_type": "display_data"
    }
   ],
   "source": [
    "lm(mtcars$mpg~mtcars$wt, data = mtcars)"
   ]
  },
  {
   "cell_type": "markdown",
   "metadata": {},
   "source": [
    "For more on matrices, look [here](https://www.statisticshowto.datasciencecentral.com/matrices-and-matrix-algebra/). "
   ]
  },
  {
   "cell_type": "markdown",
   "metadata": {},
   "source": [
    "*Notebook by Krista Bond. <br>\n",
    "Images courtesy of Wikipedia.*"
   ]
  }
 ],
 "metadata": {
  "kernelspec": {
   "display_name": "R",
   "language": "R",
   "name": "ir"
  },
  "language_info": {
   "codemirror_mode": "r",
   "file_extension": ".r",
   "mimetype": "text/x-r-source",
   "name": "R",
   "pygments_lexer": "r",
   "version": "3.4.3"
  }
 },
 "nbformat": 4,
 "nbformat_minor": 2
}
