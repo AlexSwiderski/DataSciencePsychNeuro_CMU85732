{
 "cells": [
  {
   "cell_type": "markdown",
   "metadata": {},
   "source": [
    "## The dangers of fitting computational models to individual subjects with few observations\n",
    "\n",
    "---\n",
    "\n",
    "**Note**: I wrote this document a while ago to illustrate an issue in fitting computational models to individual subjects, rather than the overall group, when dealing with few observations. Aside from that, it serves well to illustrate two additional topics - 1) how to extract information from model objects (e.g., lm, glm, etc) and 2) how to use tidyverse to automatically run the same model over multiple groups and to extract the results.\n",
    "\n",
    "---\n",
    "\n",
    "I work with computational models. Today I was confused by the behavior of my model, and I finally figured out that in this case *fitting the model to individual subjects was the wrong thing to do*. In fitting computational models, you typically have the choice to either fit the overall data, ignoring by-subject variation, or to fit a separate model to each subject. Many authors recommend the latter, when possible, and for good reasons. However, fitting individual subjects can be problematic, as in this case. \n",
    "\n",
    "I know my model. I know that for this dataset conceptually it should be able to fit a nice logistic function as in the figure below, which the data showed. When I saw the data I was really excited; however, after I fit the model, suddenly it predicted almost a linear function."
   ]
  },
  {
   "cell_type": "markdown",
   "metadata": {},
   "source": [
    "![image.png](https://i.imgur.com/dXoYbtr.png)"
   ]
  },
  {
   "cell_type": "markdown",
   "metadata": {},
   "source": [
    "### The problem"
   ]
  },
  {
   "cell_type": "markdown",
   "metadata": {},
   "source": [
    "I was confused. Why is the model behaving like this, when I know it should be able to fit the shape shown above? Turns out, this is a type of overfitting bias when attemtping to fit individual subjects. This case is quite interesting, because overfitting can actually lead to a worse fit of the training data itself. Overfitting problems with generalization are well known, but typically overfitting at least fits well to the data used to train the model. \n",
    "\n",
    "As it turns out, overfitting can lead to worse results when it *overfits selectively*. I'll elaborate.\n",
    "\n",
    "The model in question is a mechanistic memory model with many parameters and complex implementation and is not actually fitting a logistic curve, but for the current purposes I will show a simplified example."
   ]
  },
  {
   "cell_type": "markdown",
   "metadata": {},
   "source": [
    "### A simulation"
   ]
  },
  {
   "cell_type": "markdown",
   "metadata": {},
   "source": [
    "Suppose that you observe the following logistic growth behavior of *y* as a function of *x*. In my case, y was probability of recall, but it doesn't really matter."
   ]
  },
  {
   "cell_type": "code",
   "execution_count": 2,
   "metadata": {},
   "outputs": [
    {
     "data": {},
     "metadata": {},
     "output_type": "display_data"
    },
    {
     "data": {
      "image/png": "[encoded data removed]",
      "text/plain": [
       "plot without title"
      ]
     },
     "metadata": {},
     "output_type": "display_data"
    }
   ],
   "source": [
    "library(tidyverse, quietly=TRUE)\n",
    "options(repr.plot.width=4, repr.plot.height=3, warn=-1)\n",
    "library(IRdisplay, quietly=TRUE)\n",
    "\n",
    "# prep the data\n",
    "x = c(1,2,3,4,5,6)\n",
    "y = 1/(2 + exp(-x))\n",
    "df = data.frame(x=x,y=y)\n",
    "\n",
    "# plot the data\n",
    "ggplot(df, aes(x,y)) +\n",
    "    geom_point() +\n",
    "    geom_line() +\n",
    "    theme_classic()"
   ]
  },
  {
   "cell_type": "markdown",
   "metadata": {},
   "source": [
    "Now, let's generate data for some subjects. Each observation is a 1 or a 0 with a probability determined by the underlying model plotted above. One key issue is that we are dealing with relatively little observations per subject (90 overall, 15 per condition), which, however, is not atypical for memory and cognitive experiments.\n"
   ]
  },
  {
   "cell_type": "code",
   "execution_count": 3,
   "metadata": {},
   "outputs": [
    {
     "data": {
      "text/html": [
       "<table>\n",
       "<thead><tr><th scope=col>x</th><th scope=col>y</th><th scope=col>nObs</th><th scope=col>subject</th><th scope=col>obs</th></tr></thead>\n",
       "<tbody>\n",
       "\t<tr><td>1        </td><td>0.4223188</td><td>15       </td><td>1        </td><td>0.3333333</td></tr>\n",
       "\t<tr><td>2        </td><td>0.4683105</td><td>15       </td><td>1        </td><td>0.3333333</td></tr>\n",
       "\t<tr><td>3        </td><td>0.4878556</td><td>15       </td><td>1        </td><td>0.5333333</td></tr>\n",
       "\t<tr><td>4        </td><td>0.4954626</td><td>15       </td><td>1        </td><td>0.2666667</td></tr>\n",
       "\t<tr><td>5        </td><td>0.4983212</td><td>15       </td><td>1        </td><td>0.5333333</td></tr>\n",
       "\t<tr><td>6        </td><td>0.4993811</td><td>15       </td><td>1        </td><td>0.2666667</td></tr>\n",
       "\t<tr><td>1        </td><td>0.4223188</td><td>15       </td><td>2        </td><td>0.4666667</td></tr>\n",
       "\t<tr><td>2        </td><td>0.4683105</td><td>15       </td><td>2        </td><td>0.3333333</td></tr>\n",
       "\t<tr><td>3        </td><td>0.4878556</td><td>15       </td><td>2        </td><td>0.4000000</td></tr>\n",
       "\t<tr><td>4        </td><td>0.4954626</td><td>15       </td><td>2        </td><td>0.5333333</td></tr>\n",
       "</tbody>\n",
       "</table>\n"
      ],
      "text/latex": [
       "\\begin{tabular}{r|lllll}\n",
       " x & y & nObs & subject & obs\\\\\n",
       "\\hline\n",
       "\t 1         & 0.4223188 & 15        & 1         & 0.3333333\\\\\n",
       "\t 2         & 0.4683105 & 15        & 1         & 0.3333333\\\\\n",
       "\t 3         & 0.4878556 & 15        & 1         & 0.5333333\\\\\n",
       "\t 4         & 0.4954626 & 15        & 1         & 0.2666667\\\\\n",
       "\t 5         & 0.4983212 & 15        & 1         & 0.5333333\\\\\n",
       "\t 6         & 0.4993811 & 15        & 1         & 0.2666667\\\\\n",
       "\t 1         & 0.4223188 & 15        & 2         & 0.4666667\\\\\n",
       "\t 2         & 0.4683105 & 15        & 2         & 0.3333333\\\\\n",
       "\t 3         & 0.4878556 & 15        & 2         & 0.4000000\\\\\n",
       "\t 4         & 0.4954626 & 15        & 2         & 0.5333333\\\\\n",
       "\\end{tabular}\n"
      ],
      "text/markdown": [
       "\n",
       "x | y | nObs | subject | obs | \n",
       "|---|---|---|---|---|---|---|---|---|---|\n",
       "| 1         | 0.4223188 | 15        | 1         | 0.3333333 | \n",
       "| 2         | 0.4683105 | 15        | 1         | 0.3333333 | \n",
       "| 3         | 0.4878556 | 15        | 1         | 0.5333333 | \n",
       "| 4         | 0.4954626 | 15        | 1         | 0.2666667 | \n",
       "| 5         | 0.4983212 | 15        | 1         | 0.5333333 | \n",
       "| 6         | 0.4993811 | 15        | 1         | 0.2666667 | \n",
       "| 1         | 0.4223188 | 15        | 2         | 0.4666667 | \n",
       "| 2         | 0.4683105 | 15        | 2         | 0.3333333 | \n",
       "| 3         | 0.4878556 | 15        | 2         | 0.4000000 | \n",
       "| 4         | 0.4954626 | 15        | 2         | 0.5333333 | \n",
       "\n",
       "\n"
      ],
      "text/plain": [
       "   x y         nObs subject obs      \n",
       "1  1 0.4223188 15   1       0.3333333\n",
       "2  2 0.4683105 15   1       0.3333333\n",
       "3  3 0.4878556 15   1       0.5333333\n",
       "4  4 0.4954626 15   1       0.2666667\n",
       "5  5 0.4983212 15   1       0.5333333\n",
       "6  6 0.4993811 15   1       0.2666667\n",
       "7  1 0.4223188 15   2       0.4666667\n",
       "8  2 0.4683105 15   2       0.3333333\n",
       "9  3 0.4878556 15   2       0.4000000\n",
       "10 4 0.4954626 15   2       0.5333333"
      ]
     },
     "metadata": {},
     "output_type": "display_data"
    }
   ],
   "source": [
    "# function for generating data\n",
    "draw_samples <- function(p, n) {\n",
    "    samples = sample(c(0,1), prob=c(1-p, p), size=n, replace=T)\n",
    "    prop = mean(samples)\n",
    "    return(prop)    \n",
    "}\n",
    "\n",
    "# replicate the dataframe for each subject\n",
    "set.seed(1212276)\n",
    "nSubj = 1000\n",
    "df$nObs = c(15, 15, 15, 15, 15, 15)\n",
    "data <- df[rep(1:nrow(df), nSubj),]\n",
    "data$subject <- rep(1:nSubj, each=nrow(df))\n",
    "\n",
    "# generate data for each subject\n",
    "data <- data  %>% \n",
    "    group_by(x, subject)  %>% \n",
    "    mutate(obs = draw_samples(y, nObs))\n",
    "\n",
    "head(data, n=10)"
   ]
  },
  {
   "cell_type": "markdown",
   "metadata": {},
   "source": [
    "Ok, so we have plenty of variation in our subjects. Let's plot the generated data against the underlying model"
   ]
  },
  {
   "cell_type": "code",
   "execution_count": 4,
   "metadata": {},
   "outputs": [
    {
     "data": {},
     "metadata": {},
     "output_type": "display_data"
    },
    {
     "data": {
      "image/png": "[encoded data removed]",
      "text/plain": [
       "plot without title"
      ]
     },
     "metadata": {},
     "output_type": "display_data"
    }
   ],
   "source": [
    "data  %>% \n",
    "    gather(variable, value, y, obs)  %>% \n",
    "    ggplot(aes(x, value, color=variable)) +\n",
    "    stat_summary(fun.data=mean_se) +\n",
    "    stat_summary(fun.data=mean_se,geom='line') +\n",
    "    theme_classic()"
   ]
  },
  {
   "cell_type": "markdown",
   "metadata": {},
   "source": [
    "And let's plot a couple of subject just to show their variation:"
   ]
  },
  {
   "cell_type": "code",
   "execution_count": 5,
   "metadata": {},
   "outputs": [
    {
     "data": {},
     "metadata": {},
     "output_type": "display_data"
    },
    {
     "data": {
      "image/png": "[encoded data removed]",
      "text/plain": [
       "plot without title"
      ]
     },
     "metadata": {},
     "output_type": "display_data"
    }
   ],
   "source": [
    "data  %>% \n",
    "    gather(variable, value, y, obs)  %>% \n",
    "    filter(subject <= 4)  %>% \n",
    "    ggplot(aes(x, value, color=variable)) +\n",
    "    geom_point() +\n",
    "    geom_line() +\n",
    "    facet_wrap(~subject) +\n",
    "    theme_classic()"
   ]
  },
  {
   "cell_type": "markdown",
   "metadata": {},
   "source": [
    "As expected, since we have few observations, each subject is a poor representation of the overall data, yet, the average reflects it well. Now, for the interesting part. Let us try to fit an logistic growth model to:\n",
    "1. The overall sample\n",
    "2. Each subject individually"
   ]
  },
  {
   "cell_type": "markdown",
   "metadata": {},
   "source": [
    "### Fitting the overall sample"
   ]
  },
  {
   "cell_type": "code",
   "execution_count": 6,
   "metadata": {},
   "outputs": [
    {
     "name": "stdout",
     "output_type": "stream",
     "text": [
      "[1] 1.0958580 2.1848688 0.9864729\n"
     ]
    }
   ],
   "source": [
    "# Logistic function\n",
    "myPredict <- function(par, x) {\n",
    "    pred = par[1]/(par[2] + exp(-par[3]*x))\n",
    "    return(pred)\n",
    "}\n",
    "\n",
    "# Calculate error for minimazation\n",
    "errorFunction <- function(par, obs, x) {\n",
    "    predicted = myPredict(par, x)\n",
    "    error = sqrt(mean((obs-predicted) ** 2))\n",
    "    return(error)\n",
    "}\n",
    "\n",
    "# Fit the model and extract predictions\n",
    "overall.fit <- optim(c(1,1,1), errorFunction, obs=data$obs, x=data$x)\n",
    "data$overall.pred <- myPredict(overall.fit$par, data$x)\n",
    "print(overall.fit$par)\n"
   ]
  },
  {
   "cell_type": "markdown",
   "metadata": {},
   "source": [
    "Alright, we see a pretty good fit and recovery of the original model:"
   ]
  },
  {
   "cell_type": "code",
   "execution_count": 7,
   "metadata": {},
   "outputs": [
    {
     "data": {},
     "metadata": {},
     "output_type": "display_data"
    },
    {
     "data": {
      "image/png": "[encoded data removed]",
      "text/plain": [
       "plot without title"
      ]
     },
     "metadata": {},
     "output_type": "display_data"
    }
   ],
   "source": [
    "data  %>% \n",
    "    gather(variable, value, y, obs, overall.pred)   %>% \n",
    "    ggplot(aes(x, value, color=variable)) +\n",
    "    stat_summary(fun.data=mean_se) +\n",
    "    stat_summary(fun.data=mean_se, geom='line') +\n",
    "    theme_classic()"
   ]
  },
  {
   "cell_type": "markdown",
   "metadata": {},
   "source": [
    "### Fitting individual subjects"
   ]
  },
  {
   "cell_type": "markdown",
   "metadata": {},
   "source": [
    "Let's see how fitting the individual subjects will fare."
   ]
  },
  {
   "cell_type": "code",
   "execution_count": 8,
   "metadata": {},
   "outputs": [
    {
     "data": {
      "text/html": [
       "<table>\n",
       "<thead><tr><th scope=col>subject</th><th scope=col>subjectPred</th><th scope=col>x</th><th scope=col>y</th><th scope=col>nObs</th><th scope=col>obs</th><th scope=col>overall.pred</th></tr></thead>\n",
       "<tbody>\n",
       "\t<tr><td>1        </td><td>0.3283832</td><td>1        </td><td>0.4223188</td><td>15       </td><td>0.3333333</td><td>0.4284447</td></tr>\n",
       "\t<tr><td>1        </td><td>0.3779846</td><td>2        </td><td>0.4683105</td><td>15       </td><td>0.3333333</td><td>0.4715567</td></tr>\n",
       "\t<tr><td>1        </td><td>0.3884094</td><td>3        </td><td>0.4878556</td><td>15       </td><td>0.5333333</td><td>0.4899402</td></tr>\n",
       "\t<tr><td>1        </td><td>0.3903222</td><td>4        </td><td>0.4954626</td><td>15       </td><td>0.2666667</td><td>0.4971675</td></tr>\n",
       "\t<tr><td>1        </td><td>0.3906641</td><td>5        </td><td>0.4983212</td><td>15       </td><td>0.5333333</td><td>0.4999174</td></tr>\n",
       "\t<tr><td>1        </td><td>0.3907249</td><td>6        </td><td>0.4993811</td><td>15       </td><td>0.2666667</td><td>0.5009506</td></tr>\n",
       "\t<tr><td>2        </td><td>0.3729196</td><td>1        </td><td>0.4223188</td><td>15       </td><td>0.4666667</td><td>0.4284447</td></tr>\n",
       "\t<tr><td>2        </td><td>0.4181209</td><td>2        </td><td>0.4683105</td><td>15       </td><td>0.3333333</td><td>0.4715567</td></tr>\n",
       "\t<tr><td>2        </td><td>0.4718946</td><td>3        </td><td>0.4878556</td><td>15       </td><td>0.4000000</td><td>0.4899402</td></tr>\n",
       "\t<tr><td>2        </td><td>0.5367985</td><td>4        </td><td>0.4954626</td><td>15       </td><td>0.5333333</td><td>0.4971675</td></tr>\n",
       "</tbody>\n",
       "</table>\n"
      ],
      "text/latex": [
       "\\begin{tabular}{r|lllllll}\n",
       " subject & subjectPred & x & y & nObs & obs & overall.pred\\\\\n",
       "\\hline\n",
       "\t 1         & 0.3283832 & 1         & 0.4223188 & 15        & 0.3333333 & 0.4284447\\\\\n",
       "\t 1         & 0.3779846 & 2         & 0.4683105 & 15        & 0.3333333 & 0.4715567\\\\\n",
       "\t 1         & 0.3884094 & 3         & 0.4878556 & 15        & 0.5333333 & 0.4899402\\\\\n",
       "\t 1         & 0.3903222 & 4         & 0.4954626 & 15        & 0.2666667 & 0.4971675\\\\\n",
       "\t 1         & 0.3906641 & 5         & 0.4983212 & 15        & 0.5333333 & 0.4999174\\\\\n",
       "\t 1         & 0.3907249 & 6         & 0.4993811 & 15        & 0.2666667 & 0.5009506\\\\\n",
       "\t 2         & 0.3729196 & 1         & 0.4223188 & 15        & 0.4666667 & 0.4284447\\\\\n",
       "\t 2         & 0.4181209 & 2         & 0.4683105 & 15        & 0.3333333 & 0.4715567\\\\\n",
       "\t 2         & 0.4718946 & 3         & 0.4878556 & 15        & 0.4000000 & 0.4899402\\\\\n",
       "\t 2         & 0.5367985 & 4         & 0.4954626 & 15        & 0.5333333 & 0.4971675\\\\\n",
       "\\end{tabular}\n"
      ],
      "text/markdown": [
       "\n",
       "subject | subjectPred | x | y | nObs | obs | overall.pred | \n",
       "|---|---|---|---|---|---|---|---|---|---|\n",
       "| 1         | 0.3283832 | 1         | 0.4223188 | 15        | 0.3333333 | 0.4284447 | \n",
       "| 1         | 0.3779846 | 2         | 0.4683105 | 15        | 0.3333333 | 0.4715567 | \n",
       "| 1         | 0.3884094 | 3         | 0.4878556 | 15        | 0.5333333 | 0.4899402 | \n",
       "| 1         | 0.3903222 | 4         | 0.4954626 | 15        | 0.2666667 | 0.4971675 | \n",
       "| 1         | 0.3906641 | 5         | 0.4983212 | 15        | 0.5333333 | 0.4999174 | \n",
       "| 1         | 0.3907249 | 6         | 0.4993811 | 15        | 0.2666667 | 0.5009506 | \n",
       "| 2         | 0.3729196 | 1         | 0.4223188 | 15        | 0.4666667 | 0.4284447 | \n",
       "| 2         | 0.4181209 | 2         | 0.4683105 | 15        | 0.3333333 | 0.4715567 | \n",
       "| 2         | 0.4718946 | 3         | 0.4878556 | 15        | 0.4000000 | 0.4899402 | \n",
       "| 2         | 0.5367985 | 4         | 0.4954626 | 15        | 0.5333333 | 0.4971675 | \n",
       "\n",
       "\n"
      ],
      "text/plain": [
       "   subject subjectPred x y         nObs obs       overall.pred\n",
       "1  1       0.3283832   1 0.4223188 15   0.3333333 0.4284447   \n",
       "2  1       0.3779846   2 0.4683105 15   0.3333333 0.4715567   \n",
       "3  1       0.3884094   3 0.4878556 15   0.5333333 0.4899402   \n",
       "4  1       0.3903222   4 0.4954626 15   0.2666667 0.4971675   \n",
       "5  1       0.3906641   5 0.4983212 15   0.5333333 0.4999174   \n",
       "6  1       0.3907249   6 0.4993811 15   0.2666667 0.5009506   \n",
       "7  2       0.3729196   1 0.4223188 15   0.4666667 0.4284447   \n",
       "8  2       0.4181209   2 0.4683105 15   0.3333333 0.4715567   \n",
       "9  2       0.4718946   3 0.4878556 15   0.4000000 0.4899402   \n",
       "10 2       0.5367985   4 0.4954626 15   0.5333333 0.4971675   "
      ]
     },
     "metadata": {},
     "output_type": "display_data"
    }
   ],
   "source": [
    "# Fit parameters of the logistic function for every subject and extract them\n",
    "fittedPars <- data  %>% \n",
    "    group_by(subject)  %>% \n",
    "    nest(-subject)  %>%\n",
    "    mutate(fit = map(data, ~ try(optim(par=c(1,1.5,1), fn = errorFunction, obs = .$obs, x=.$x))),\n",
    "           pars = map(fit, ~ .$par))  %>% \n",
    "    select(-fit)\n",
    "\n",
    "# Get final predictions for each subject\n",
    "fitted <- fittedPars  %>% \n",
    "    mutate(subjectPred = map2(data, pars, ~ myPredict(.y, .x$x)))  %>% \n",
    "    unnest(data, subjectPred)\n",
    "\n",
    "head(fitted, n=10)"
   ]
  },
  {
   "cell_type": "markdown",
   "metadata": {},
   "source": [
    "We've fit a logistic growth model to each subject, let's plot the overall fit:"
   ]
  },
  {
   "cell_type": "code",
   "execution_count": 9,
   "metadata": {},
   "outputs": [
    {
     "data": {},
     "metadata": {},
     "output_type": "display_data"
    },
    {
     "data": {
      "image/png": "[encoded data removed]",
      "text/plain": [
       "plot without title"
      ]
     },
     "metadata": {},
     "output_type": "display_data"
    }
   ],
   "source": [
    "fitted  %>% \n",
    "    gather(variable, value, y, obs, overall.pred, subjectPred)   %>% \n",
    "    ggplot(aes(x, value, color=variable)) +\n",
    "    stat_summary(fun.data=mean_se) +\n",
    "    stat_summary(fun.data=mean_se, geom='line') +\n",
    "    theme_classic()"
   ]
  },
  {
   "cell_type": "markdown",
   "metadata": {},
   "source": [
    "Surprise! Fitting the model to each subject makes very different predictions and it overpredicts probabilities at the higher values of X where the underlying logistic model levels off. Why does that happen? To understand it, let's plot the fit to several subjects."
   ]
  },
  {
   "cell_type": "code",
   "execution_count": 10,
   "metadata": {},
   "outputs": [
    {
     "data": {},
     "metadata": {},
     "output_type": "display_data"
    },
    {
     "data": {
      "image/png": "[encoded data removed]",
      "text/plain": [
       "plot without title"
      ]
     },
     "metadata": {},
     "output_type": "display_data"
    }
   ],
   "source": [
    "options(repr.plot.width=6, repr.plot.height=4)\n",
    "fitted  %>% \n",
    "    filter(subject %in% c(8, 6, 13, 32, 36, 9))  %>% \n",
    "    gather(variable, value, obs, subjectPred)   %>% \n",
    "    ggplot(aes(x, value, color=variable)) +\n",
    "    geom_point(size=0.2) +\n",
    "    geom_line() +\n",
    "    theme_classic() +\n",
    "    facet_wrap(~subject)"
   ]
  },
  {
   "cell_type": "markdown",
   "metadata": {},
   "source": [
    "Can you see it? These subjects represent two classes - those that show generally increasing or decreasing *value* with *x*. We have both due to the random sampling, which introduces noise. The logistic growth model, however, can only fit an increasing function, and it does that for subjects 9, 32 and 36. Subject 36 and 9 show similar to the original pattern; however, Subject 32 shows a much more extreme slope. And while the model can overfit subject like 32, it fails with subjects like 6, 8 and 13 and is in essence biased. For those three subjects, the best thing it can do to minimize the error is to fit a flat function. Indeed, if we calculate for each subject the error at each value of x, we cna see clearly that the error is biased at the extremes:"
   ]
  },
  {
   "cell_type": "code",
   "execution_count": 11,
   "metadata": {},
   "outputs": [
    {
     "data": {},
     "metadata": {},
     "output_type": "display_data"
    },
    {
     "data": {
      "image/png": "[encoded data removed]",
      "text/plain": [
       "plot without title"
      ]
     },
     "metadata": {},
     "output_type": "display_data"
    }
   ],
   "source": [
    "options(repr.plot.width=4, repr.plot.height=3)\n",
    "fitted  %>% \n",
    "    mutate(error = obs - subjectPred)  %>% \n",
    "    ggplot(aes(x, error)) +\n",
    "    stat_summary(fun.data=mean_se) +\n",
    "    geom_hline(yintercept=0) +\n",
    "    theme_classic()"
   ]
  },
  {
   "cell_type": "markdown",
   "metadata": {},
   "source": [
    "The end result of this is that when we average the predictions, the model ends up predicting a much steeper almost linear function, and fails to recover the original data generating function. It has overfit the random noise in a biased way due to its ability to only account for increasing patterns."
   ]
  },
  {
   "cell_type": "markdown",
   "metadata": {},
   "source": [
    "### Would having more observations per subject help?"
   ]
  },
  {
   "cell_type": "markdown",
   "metadata": {},
   "source": [
    "I've made the point that one cause of this problem is the relatively low number of observations per subject. Let's test this idea and see if the bias will disappear if we had more observations. Here's a function for the entire process, and we'll vary the number of observations."
   ]
  },
  {
   "cell_type": "code",
   "execution_count": 12,
   "metadata": {
    "collapsed": true
   },
   "outputs": [],
   "source": [
    "modelFunction <- function(nObs, nSubj, sds, a=1, b=1.5, c=1) {\n",
    "    # Prep the data. Generate parameters from each subjects from a normal distribution with sd=sd\n",
    "    data <- expand.grid(x=x, subject=1:nSubj, nObs = nObs)\n",
    "    data$a <- rnorm(n=nrow(data), mean=a, sd=sds[1])\n",
    "    data$b <- rnorm(n=nrow(data), mean=b, sd=sds[2])\n",
    "    data$c <- rnorm(n=nrow(data), mean=c, sd=sds[3])\n",
    "    data$y <- data$a/(data$b+exp(-data$c*data$x))\n",
    "    \n",
    "    # generate data for each subject\n",
    "    data <- data  %>% \n",
    "        group_by(x, subject)  %>% \n",
    "        mutate(obs = draw_samples(y, nObs))\n",
    "    \n",
    "    # get overall fit\n",
    "    overall.fit <- optim(c(a,b,c), errorFunction, obs=data$obs, x=data$x)\n",
    "    data$overallPred <- myPredict(overall.fit$par, data$x)\n",
    "\n",
    "    # Fit parameters of the logistic function for every subject and extract them\n",
    "    fittedPars <- data  %>% \n",
    "        group_by(subject)  %>% \n",
    "        nest(-subject)  %>%\n",
    "        mutate(fit = map(data, ~ try(optim(par=c(1,1.5,1), fn = errorFunction, obs = .$obs, x=.$x))),\n",
    "               pars = map(fit, ~ .$par))  %>% \n",
    "        select(-fit)\n",
    "\n",
    "    # Get final predictions for each subject\n",
    "    fitted <- fittedPars  %>% \n",
    "        mutate(subjectPred = map2(data, pars, ~ myPredict(.y, .x$x)))  %>% \n",
    "        unnest(data, subjectPred)\n",
    "\n",
    "    # Calculate the bias\n",
    "    bias <- fitted  %>%\n",
    "        group_by(x)  %>% \n",
    "        summarise(subjError = mean(obs - subjectPred),\n",
    "                  overallError = mean(obs - overallPred))\n",
    "    return(bias)\n",
    "}"
   ]
  },
  {
   "cell_type": "code",
   "execution_count": 13,
   "metadata": {
    "collapsed": true
   },
   "outputs": [],
   "source": [
    "# Calculate the error for different number of observations\n",
    "set.seed(19882)\n",
    "bias <- data.frame(nObs = seq(15,105,15))\n",
    "bias <- bias  %>% \n",
    "    group_by(nObs)  %>% \n",
    "    do({modelFunction(.$nObs, 2000, c(0,0,0))})"
   ]
  },
  {
   "cell_type": "code",
   "execution_count": 14,
   "metadata": {},
   "outputs": [
    {
     "data": {},
     "metadata": {},
     "output_type": "display_data"
    },
    {
     "data": {
      "image/png": "[encoded data removed]",
      "text/plain": [
       "plot without title"
      ]
     },
     "metadata": {},
     "output_type": "display_data"
    }
   ],
   "source": [
    "bias  %>% \n",
    "    ungroup()  %>% \n",
    "    mutate(nObs = as.factor(nObs))  %>% \n",
    "    ggplot(aes(x, subjError, color=nObs)) +\n",
    "    geom_point() +\n",
    "    geom_line() +\n",
    "    theme_classic()"
   ]
  },
  {
   "cell_type": "markdown",
   "metadata": {},
   "source": [
    "Increasing the number of observations definitely helps, thought it never really eliminates the problem. Increasing the number of observations reduced the noise in the obesrved responses, which reduces the bias problem discussed above. In the absence of more obesrvations, however, I'll have to content with fitting the overall data instead. I've thought about using a Bayesian hierarchical estimation, which can help with cases like this by \"shrinking\" - it imposes a distribution over subject parameters that would minimize the overfitting. Unfortunately, this is not feasible for the model I'm working in, which takes a long time to estimate even as is."
   ]
  },
  {
   "cell_type": "markdown",
   "metadata": {},
   "source": [
    "Fortunately, after fitting my model to the averaged data, the problem disappears, as in the simulated example above. I guess that is that. "
   ]
  },
  {
   "cell_type": "markdown",
   "metadata": {},
   "source": [
    "![image.png](https://i.imgur.com/3EB4B1a.png)"
   ]
  }
 ],
 "metadata": {
  "kernelspec": {
   "display_name": "R",
   "language": "R",
   "name": "ir"
  },
  "language_info": {
   "codemirror_mode": "r",
   "file_extension": ".r",
   "mimetype": "text/x-r-source",
   "name": "R",
   "pygments_lexer": "r",
   "version": "3.4.3"
  }
 },
 "nbformat": 4,
 "nbformat_minor": 2
}
