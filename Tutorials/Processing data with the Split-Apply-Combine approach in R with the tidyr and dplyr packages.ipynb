{
 "cells": [
  {
   "cell_type": "markdown",
   "metadata": {},
   "source": [
    "## 1. Introduction\n",
    "\n",
    "Processing data comes in many forms. Statistical analysis is only one stage of any data science workflow, and it assumes that you have cleaned, preprocessed and organized your data before hand. Usually the raw data we receive as an output of an experimental software, from other scientists or the web, is messy, has unnecessary information, missing values, lacks explicit information you need, etc. \n",
    "\n",
    "For many people, their first instinct is to open the data with Excell and to manually clean-up the data, by replacing values, creating new columns, etc, entirely by hand. The problem with that approach is that you cannot easily replicate the steps you have taken to transform the raw data into the final format you use for your analyses. This issue has many consequence, but among the two most common are, first, that if you get new or additional data from the same source, you would have to manually perform the same operations again, and second, if you make a mistake it would be difficult to identify where exactly that happened. The best approach is to preprocess your data with a script in the same way you do your analyses. However, doing so in base R can be quite cumbersome. In this tutorial, you will learn how to use tools for the **`tidyverse`** packages. Tidyverse is a collection of usefull packages, which include ggplot2, tidyr, dplyr, etc, combined in a single package.\n",
    "\n",
    "Before we begin, install and load the `tidyverse` package:"
   ]
  },
  {
   "cell_type": "code",
   "execution_count": 1,
   "metadata": {},
   "outputs": [
    {
     "name": "stderr",
     "output_type": "stream",
     "text": [
      "-- Attaching packages --------------------------------------- tidyverse 1.2.1 --\n",
      "v ggplot2 2.2.1     v purrr   0.2.4\n",
      "v tibble  1.3.4     v dplyr   0.7.4\n",
      "v tidyr   0.7.2     v stringr 1.2.0\n",
      "v readr   1.1.1     v forcats 0.2.0\n",
      "-- Conflicts ------------------------------------------ tidyverse_conflicts() --\n",
      "x dplyr::filter() masks stats::filter()\n",
      "x dplyr::lag()    masks stats::lag()\n"
     ]
    }
   ],
   "source": [
    "# function to install the packages if missing, otherwise, just load them\n",
    "import_packages <- function(packages) {\n",
    "    for (package in packages) {\n",
    "        if (!(package %in% row.names(installed.packages()))) {\n",
    "            install.packages(package, repos = \"http://cran.us.r-project.org\")\n",
    "        } \n",
    "        library(package, character.only = TRUE)\n",
    "    }\n",
    "}\n",
    "\n",
    "import_packages(c('tidyverse'))"
   ]
  },
  {
   "cell_type": "markdown",
   "metadata": {},
   "source": [
    "Below is a summary of the functions we will review and their general description:\n",
    "\n",
    "* **mutate()** - transforming existing variables and creating new variables\n",
    "* **summarise()** - summarizing variables\n",
    "* **filter()** - filtering dataframes\n",
    "* **select()** - selecting columns to keep/remove\n",
    "* **arrange()** - sorting by column/columns\n",
    "* **join()** - merging multiple dataframes\n",
    "* **group_by()** - performing the same operation to different subgroups of data and combining the results\n",
    "* **spread()** - transforming data to wide format\n",
    "* **gather()** - transforming data to long format\n",
    "* **separate()** - split one column into multiple columns\n",
    "* **unite()** - combine two columns into one"
   ]
  },
  {
   "cell_type": "markdown",
   "metadata": {},
   "source": [
    "## 2. Tidy data"
   ]
  },
  {
   "cell_type": "markdown",
   "metadata": {},
   "source": [
    "The key concept here is called **tidy data**. Tidy data assumes that your data is organized as follows:\n",
    "* Columns are variables\n",
    "* Rows are individual observations\n",
    "* Observation for each variable is store in the corresponding cell\n",
    "\n",
    "There are two versions of the tidy data format - long and wide. To illustrate the difference, imagine a repeated measures dataset, where you gather four observations for each subject at four different time points. In the **long data** format, the columns will be *subject*, *timepoint*, and *observation*, where each row will be one observation at a specific timepoint for a specific subject. For example:"
   ]
  },
  {
   "cell_type": "code",
   "execution_count": 2,
   "metadata": {},
   "outputs": [
    {
     "data": {
      "text/html": [
       "<table>\n",
       "<thead><tr><th scope=col>subject</th><th scope=col>timepoint</th><th scope=col>observation</th></tr></thead>\n",
       "<tbody>\n",
       "\t<tr><td>1    </td><td>1    </td><td> 0.86</td></tr>\n",
       "\t<tr><td>1    </td><td>2    </td><td> 0.59</td></tr>\n",
       "\t<tr><td>1    </td><td>3    </td><td>-0.56</td></tr>\n",
       "\t<tr><td>1    </td><td>4    </td><td> 0.36</td></tr>\n",
       "\t<tr><td>2    </td><td>1    </td><td> 0.39</td></tr>\n",
       "\t<tr><td>2    </td><td>2    </td><td> 0.92</td></tr>\n",
       "\t<tr><td>2    </td><td>3    </td><td>-1.00</td></tr>\n",
       "\t<tr><td>2    </td><td>4    </td><td>-0.81</td></tr>\n",
       "\t<tr><td>3    </td><td>1    </td><td>-0.37</td></tr>\n",
       "\t<tr><td>3    </td><td>2    </td><td> 0.52</td></tr>\n",
       "\t<tr><td>3    </td><td>3    </td><td> 0.30</td></tr>\n",
       "\t<tr><td>3    </td><td>4    </td><td> 1.19</td></tr>\n",
       "</tbody>\n",
       "</table>\n"
      ],
      "text/latex": [
       "\\begin{tabular}{r|lll}\n",
       " subject & timepoint & observation\\\\\n",
       "\\hline\n",
       "\t 1     & 1     &  0.86\\\\\n",
       "\t 1     & 2     &  0.59\\\\\n",
       "\t 1     & 3     & -0.56\\\\\n",
       "\t 1     & 4     &  0.36\\\\\n",
       "\t 2     & 1     &  0.39\\\\\n",
       "\t 2     & 2     &  0.92\\\\\n",
       "\t 2     & 3     & -1.00\\\\\n",
       "\t 2     & 4     & -0.81\\\\\n",
       "\t 3     & 1     & -0.37\\\\\n",
       "\t 3     & 2     &  0.52\\\\\n",
       "\t 3     & 3     &  0.30\\\\\n",
       "\t 3     & 4     &  1.19\\\\\n",
       "\\end{tabular}\n"
      ],
      "text/markdown": [
       "\n",
       "subject | timepoint | observation | \n",
       "|---|---|---|---|---|---|---|---|---|---|---|---|\n",
       "| 1     | 1     |  0.86 | \n",
       "| 1     | 2     |  0.59 | \n",
       "| 1     | 3     | -0.56 | \n",
       "| 1     | 4     |  0.36 | \n",
       "| 2     | 1     |  0.39 | \n",
       "| 2     | 2     |  0.92 | \n",
       "| 2     | 3     | -1.00 | \n",
       "| 2     | 4     | -0.81 | \n",
       "| 3     | 1     | -0.37 | \n",
       "| 3     | 2     |  0.52 | \n",
       "| 3     | 3     |  0.30 | \n",
       "| 3     | 4     |  1.19 | \n",
       "\n",
       "\n"
      ],
      "text/plain": [
       "   subject timepoint observation\n",
       "1  1       1          0.86      \n",
       "2  1       2          0.59      \n",
       "3  1       3         -0.56      \n",
       "4  1       4          0.36      \n",
       "5  2       1          0.39      \n",
       "6  2       2          0.92      \n",
       "7  2       3         -1.00      \n",
       "8  2       4         -0.81      \n",
       "9  3       1         -0.37      \n",
       "10 3       2          0.52      \n",
       "11 3       3          0.30      \n",
       "12 3       4          1.19      "
      ]
     },
     "metadata": {},
     "output_type": "display_data"
    }
   ],
   "source": [
    "long_data <- data.frame(subject = rep(1:3, each=4),\n",
    "                        timepoint = rep(1:4, times=3),\n",
    "                        observation = round(rnorm(12), 2))\n",
    "long_data"
   ]
  },
  {
   "cell_type": "markdown",
   "metadata": {},
   "source": [
    "Alternatively, the data can be organized in a **wide format**, in which the four different timepoints are represented as different columns, each row is a single subject, and the observation for each timepoint is stored at a cell within that column. Like this (don't worry about the code for now, it is explained in the subsequent section):"
   ]
  },
  {
   "cell_type": "code",
   "execution_count": 3,
   "metadata": {},
   "outputs": [
    {
     "data": {
      "text/html": [
       "<table>\n",
       "<thead><tr><th scope=col>subject</th><th scope=col>time1</th><th scope=col>time2</th><th scope=col>time3</th><th scope=col>time4</th></tr></thead>\n",
       "<tbody>\n",
       "\t<tr><td>1    </td><td> 0.86</td><td>0.59 </td><td>-0.56</td><td> 0.36</td></tr>\n",
       "\t<tr><td>2    </td><td> 0.39</td><td>0.92 </td><td>-1.00</td><td>-0.81</td></tr>\n",
       "\t<tr><td>3    </td><td>-0.37</td><td>0.52 </td><td> 0.30</td><td> 1.19</td></tr>\n",
       "</tbody>\n",
       "</table>\n"
      ],
      "text/latex": [
       "\\begin{tabular}{r|lllll}\n",
       " subject & time1 & time2 & time3 & time4\\\\\n",
       "\\hline\n",
       "\t 1     &  0.86 & 0.59  & -0.56 &  0.36\\\\\n",
       "\t 2     &  0.39 & 0.92  & -1.00 & -0.81\\\\\n",
       "\t 3     & -0.37 & 0.52  &  0.30 &  1.19\\\\\n",
       "\\end{tabular}\n"
      ],
      "text/markdown": [
       "\n",
       "subject | time1 | time2 | time3 | time4 | \n",
       "|---|---|---|\n",
       "| 1     |  0.86 | 0.59  | -0.56 |  0.36 | \n",
       "| 2     |  0.39 | 0.92  | -1.00 | -0.81 | \n",
       "| 3     | -0.37 | 0.52  |  0.30 |  1.19 | \n",
       "\n",
       "\n"
      ],
      "text/plain": [
       "  subject time1 time2 time3 time4\n",
       "1 1        0.86 0.59  -0.56  0.36\n",
       "2 2        0.39 0.92  -1.00 -0.81\n",
       "3 3       -0.37 0.52   0.30  1.19"
      ]
     },
     "metadata": {},
     "output_type": "display_data"
    }
   ],
   "source": [
    "long_data  %>% \n",
    "    mutate(timepoint = paste0('time',timepoint))  %>% \n",
    "    spread(timepoint, observation)"
   ]
  },
  {
   "cell_type": "markdown",
   "metadata": {},
   "source": [
    "## 3. Pipes - the %>% operator"
   ]
  },
  {
   "cell_type": "markdown",
   "metadata": {},
   "source": [
    "You might have noticed the weird **%>%** operator in the code in the previous section. This operator is called a **'pipe'**. Pipes are present in many programming languages, but not in the base R, so you might not be familiar with them.\n",
    "\n",
    "A pipe serves as a link between two objects, whether they be variables or functions. The pipe tells R to take the object on its left side and pass it as the first argument to the object on the right. \n",
    "\n",
    "Typically in R, if you want to pass an argument to a function, you specify it as `function(argument)`. For example, if you want to find the mean of the observations in the example shown above, in base R you would do this:"
   ]
  },
  {
   "cell_type": "code",
   "execution_count": 4,
   "metadata": {},
   "outputs": [
    {
     "data": {
      "text/html": [
       "0.199166666666667"
      ],
      "text/latex": [
       "0.199166666666667"
      ],
      "text/markdown": [
       "0.199166666666667"
      ],
      "text/plain": [
       "[1] 0.1991667"
      ]
     },
     "metadata": {},
     "output_type": "display_data"
    }
   ],
   "source": [
    "mean(long_data$observation)"
   ]
  },
  {
   "cell_type": "markdown",
   "metadata": {},
   "source": [
    "If you use a pipe, you just put the argument on it's left side, and the function on the right, i.e., `variable  %>% function()`:"
   ]
  },
  {
   "cell_type": "code",
   "execution_count": 5,
   "metadata": {},
   "outputs": [
    {
     "data": {
      "text/html": [
       "0.199166666666667"
      ],
      "text/latex": [
       "0.199166666666667"
      ],
      "text/markdown": [
       "0.199166666666667"
      ],
      "text/plain": [
       "[1] 0.1991667"
      ]
     },
     "metadata": {},
     "output_type": "display_data"
    }
   ],
   "source": [
    "long_data$observation  %>% mean()"
   ]
  },
  {
   "cell_type": "markdown",
   "metadata": {},
   "source": [
    "Now, you might be asking, what is the point of this? Pipes come in handy, when you have to perform multiple functions, where the input to each function is the output of the previous function. For example, let's say you not only want to find the mean of the observations, but also to round the value to 2 significant digits. In base R, you can do this in two ways:\n",
    "\n",
    "1. nest the functions within one another\n",
    "2. assign a temporary variable for the mean, and then round that value"
   ]
  },
  {
   "cell_type": "code",
   "execution_count": 6,
   "metadata": {},
   "outputs": [
    {
     "data": {
      "text/html": [
       "0.2"
      ],
      "text/latex": [
       "0.2"
      ],
      "text/markdown": [
       "0.2"
      ],
      "text/plain": [
       "[1] 0.2"
      ]
     },
     "metadata": {},
     "output_type": "display_data"
    },
    {
     "data": {
      "text/html": [
       "0.2"
      ],
      "text/latex": [
       "0.2"
      ],
      "text/markdown": [
       "0.2"
      ],
      "text/plain": [
       "[1] 0.2"
      ]
     },
     "metadata": {},
     "output_type": "display_data"
    }
   ],
   "source": [
    "# nested\n",
    "round(mean(long_data$observation), 2)\n",
    "\n",
    "# tmp variable\n",
    "obs_mean = mean(long_data$observation)\n",
    "round(obs_mean, 2)"
   ]
  },
  {
   "cell_type": "markdown",
   "metadata": {},
   "source": [
    "Since pipes take the output of the expression on the left and send it as the first input to the expression on the right, you can do the following with pipes:"
   ]
  },
  {
   "cell_type": "code",
   "execution_count": 7,
   "metadata": {},
   "outputs": [
    {
     "data": {
      "text/html": [
       "0.2"
      ],
      "text/latex": [
       "0.2"
      ],
      "text/markdown": [
       "0.2"
      ],
      "text/plain": [
       "[1] 0.2"
      ]
     },
     "metadata": {},
     "output_type": "display_data"
    }
   ],
   "source": [
    "# with pipes\n",
    "long_data$observation  %>% mean()  %>% round(2)"
   ]
  },
  {
   "cell_type": "markdown",
   "metadata": {},
   "source": [
    "To increase readability even further, you can put a new row after each pipe operator - R automatically assumes that if there is nothing after the %>% on the same row, it should pass the result to whatever comes on the next row. Thus, we can rewrite the above example as:"
   ]
  },
  {
   "cell_type": "code",
   "execution_count": 8,
   "metadata": {},
   "outputs": [
    {
     "data": {
      "text/html": [
       "0.2"
      ],
      "text/latex": [
       "0.2"
      ],
      "text/markdown": [
       "0.2"
      ],
      "text/plain": [
       "[1] 0.2"
      ]
     },
     "metadata": {},
     "output_type": "display_data"
    }
   ],
   "source": [
    "# pipes on separate rows:\n",
    "long_data$observation  %>% \n",
    "  mean() %>% \n",
    "  round(2)"
   ]
  },
  {
   "cell_type": "markdown",
   "metadata": {},
   "source": [
    "Notice that typically the `round()` function takes as first argument the value to be rounded, and as a second argument the number of digits to which to round. When you use a pipe, the first argument is implicitely filled in with the value on the left, so the first argument you actually type corresponds to the number of significant digits to which to round. \n",
    "\n",
    "Pipes become very useful when using the functions we'll discuss below, because you would usually use many of them on the same data, and while the above example might be easy to read in all three cases, it becomes very difficult to track what is going on with the base R approach. **Thus pipes have two advantages:**\n",
    "\n",
    "1. **Readability** - it is easier to see what goes on, because you can track the sequence naturally left to right. In contrast, with nested functions, you have to identify the inner-most function and then work yourway outwards.\n",
    "2. **Efficiency** - do not clutter your environment with temporary variables that you needed for only one intermediary observation.\n",
    "\n",
    "To show the difference in readability, here is how the code for the long to wide functions would look like, if we wrote it with nested functions, rather than with pipes:"
   ]
  },
  {
   "cell_type": "code",
   "execution_count": 9,
   "metadata": {},
   "outputs": [
    {
     "data": {
      "text/html": [
       "<table>\n",
       "<thead><tr><th scope=col>subject</th><th scope=col>time1</th><th scope=col>time2</th><th scope=col>time3</th><th scope=col>time4</th></tr></thead>\n",
       "<tbody>\n",
       "\t<tr><td>1    </td><td> 0.86</td><td>0.59 </td><td>-0.56</td><td> 0.36</td></tr>\n",
       "\t<tr><td>2    </td><td> 0.39</td><td>0.92 </td><td>-1.00</td><td>-0.81</td></tr>\n",
       "\t<tr><td>3    </td><td>-0.37</td><td>0.52 </td><td> 0.30</td><td> 1.19</td></tr>\n",
       "</tbody>\n",
       "</table>\n"
      ],
      "text/latex": [
       "\\begin{tabular}{r|lllll}\n",
       " subject & time1 & time2 & time3 & time4\\\\\n",
       "\\hline\n",
       "\t 1     &  0.86 & 0.59  & -0.56 &  0.36\\\\\n",
       "\t 2     &  0.39 & 0.92  & -1.00 & -0.81\\\\\n",
       "\t 3     & -0.37 & 0.52  &  0.30 &  1.19\\\\\n",
       "\\end{tabular}\n"
      ],
      "text/markdown": [
       "\n",
       "subject | time1 | time2 | time3 | time4 | \n",
       "|---|---|---|\n",
       "| 1     |  0.86 | 0.59  | -0.56 |  0.36 | \n",
       "| 2     |  0.39 | 0.92  | -1.00 | -0.81 | \n",
       "| 3     | -0.37 | 0.52  |  0.30 |  1.19 | \n",
       "\n",
       "\n"
      ],
      "text/plain": [
       "  subject time1 time2 time3 time4\n",
       "1 1        0.86 0.59  -0.56  0.36\n",
       "2 2        0.39 0.92  -1.00 -0.81\n",
       "3 3       -0.37 0.52   0.30  1.19"
      ]
     },
     "metadata": {},
     "output_type": "display_data"
    },
    {
     "data": {
      "text/html": [
       "<table>\n",
       "<thead><tr><th scope=col>subject</th><th scope=col>time1</th><th scope=col>time2</th><th scope=col>time3</th><th scope=col>time4</th></tr></thead>\n",
       "<tbody>\n",
       "\t<tr><td>1    </td><td> 0.86</td><td>0.59 </td><td>-0.56</td><td> 0.36</td></tr>\n",
       "\t<tr><td>2    </td><td> 0.39</td><td>0.92 </td><td>-1.00</td><td>-0.81</td></tr>\n",
       "\t<tr><td>3    </td><td>-0.37</td><td>0.52 </td><td> 0.30</td><td> 1.19</td></tr>\n",
       "</tbody>\n",
       "</table>\n"
      ],
      "text/latex": [
       "\\begin{tabular}{r|lllll}\n",
       " subject & time1 & time2 & time3 & time4\\\\\n",
       "\\hline\n",
       "\t 1     &  0.86 & 0.59  & -0.56 &  0.36\\\\\n",
       "\t 2     &  0.39 & 0.92  & -1.00 & -0.81\\\\\n",
       "\t 3     & -0.37 & 0.52  &  0.30 &  1.19\\\\\n",
       "\\end{tabular}\n"
      ],
      "text/markdown": [
       "\n",
       "subject | time1 | time2 | time3 | time4 | \n",
       "|---|---|---|\n",
       "| 1     |  0.86 | 0.59  | -0.56 |  0.36 | \n",
       "| 2     |  0.39 | 0.92  | -1.00 | -0.81 | \n",
       "| 3     | -0.37 | 0.52  |  0.30 |  1.19 | \n",
       "\n",
       "\n"
      ],
      "text/plain": [
       "  subject time1 time2 time3 time4\n",
       "1 1        0.86 0.59  -0.56  0.36\n",
       "2 2        0.39 0.92  -1.00 -0.81\n",
       "3 3       -0.37 0.52   0.30  1.19"
      ]
     },
     "metadata": {},
     "output_type": "display_data"
    },
    {
     "data": {
      "text/html": [
       "<table>\n",
       "<thead><tr><th scope=col>subject</th><th scope=col>time1</th><th scope=col>time2</th><th scope=col>time3</th><th scope=col>time4</th></tr></thead>\n",
       "<tbody>\n",
       "\t<tr><td>1    </td><td> 0.86</td><td>0.59 </td><td>-0.56</td><td> 0.36</td></tr>\n",
       "\t<tr><td>2    </td><td> 0.39</td><td>0.92 </td><td>-1.00</td><td>-0.81</td></tr>\n",
       "\t<tr><td>3    </td><td>-0.37</td><td>0.52 </td><td> 0.30</td><td> 1.19</td></tr>\n",
       "</tbody>\n",
       "</table>\n"
      ],
      "text/latex": [
       "\\begin{tabular}{r|lllll}\n",
       " subject & time1 & time2 & time3 & time4\\\\\n",
       "\\hline\n",
       "\t 1     &  0.86 & 0.59  & -0.56 &  0.36\\\\\n",
       "\t 2     &  0.39 & 0.92  & -1.00 & -0.81\\\\\n",
       "\t 3     & -0.37 & 0.52  &  0.30 &  1.19\\\\\n",
       "\\end{tabular}\n"
      ],
      "text/markdown": [
       "\n",
       "subject | time1 | time2 | time3 | time4 | \n",
       "|---|---|---|\n",
       "| 1     |  0.86 | 0.59  | -0.56 |  0.36 | \n",
       "| 2     |  0.39 | 0.92  | -1.00 | -0.81 | \n",
       "| 3     | -0.37 | 0.52  |  0.30 |  1.19 | \n",
       "\n",
       "\n"
      ],
      "text/plain": [
       "  subject time1 time2 time3 time4\n",
       "1 1        0.86 0.59  -0.56  0.36\n",
       "2 2        0.39 0.92  -1.00 -0.81\n",
       "3 3       -0.37 0.52   0.30  1.19"
      ]
     },
     "metadata": {},
     "output_type": "display_data"
    }
   ],
   "source": [
    "# with pipes\n",
    "long_data  %>% \n",
    "    mutate(timepoint = paste0('time',timepoint))  %>% \n",
    "    spread(timepoint, observation)\n",
    "\n",
    "# nested functions\n",
    "spread(mutate(long_data, timepoint = paste0('time',timepoint)), timepoint, observation)\n",
    "\n",
    "# temporary variables\n",
    "mutated_data <- mutate(long_data, timepoint = paste0('time',timepoint))\n",
    "spread(mutated_data, timepoint, observation)"
   ]
  },
  {
   "cell_type": "markdown",
   "metadata": {},
   "source": [
    "## 4. Transforming data"
   ]
  },
  {
   "cell_type": "markdown",
   "metadata": {},
   "source": [
    "We will use the `MathAchieve` dataset from the `nlme` package for illustrating the tidyverse functions. You can load/install the nlme package and save the MathAchieve data set to a `dat` variable like this:"
   ]
  },
  {
   "cell_type": "code",
   "execution_count": 10,
   "metadata": {},
   "outputs": [
    {
     "name": "stderr",
     "output_type": "stream",
     "text": [
      "\n",
      "Attaching package: 'nlme'\n",
      "\n",
      "The following object is masked from 'package:dplyr':\n",
      "\n",
      "    collapse\n",
      "\n"
     ]
    }
   ],
   "source": [
    "import_packages('nlme')\n",
    "dat <- MathAchieve"
   ]
  },
  {
   "cell_type": "markdown",
   "metadata": {},
   "source": [
    "The MathAcieve dataset contains mathematical achievement scores for 7185 individual students in a number of different schools. It contains information about the sex of each student, their socio-economic status, whether they are a member of a minority. You can view a detailed description of the dataset by typing:"
   ]
  },
  {
   "cell_type": "code",
   "execution_count": 11,
   "metadata": {
    "collapsed": true
   },
   "outputs": [],
   "source": [
    "?MathAchieve"
   ]
  },
  {
   "cell_type": "markdown",
   "metadata": {},
   "source": [
    "Here's a peak at the data:"
   ]
  },
  {
   "cell_type": "code",
   "execution_count": 12,
   "metadata": {},
   "outputs": [
    {
     "data": {
      "text/html": [
       "<table>\n",
       "<thead><tr><th scope=col>School</th><th scope=col>Minority</th><th scope=col>Sex</th><th scope=col>SES</th><th scope=col>MathAch</th><th scope=col>MEANSES</th></tr></thead>\n",
       "<tbody>\n",
       "\t<tr><td>1224  </td><td>No    </td><td>Female</td><td>-1.528</td><td> 5.876</td><td>-0.428</td></tr>\n",
       "\t<tr><td>1224  </td><td>No    </td><td>Female</td><td>-0.588</td><td>19.708</td><td>-0.428</td></tr>\n",
       "\t<tr><td>1224  </td><td>No    </td><td>Male  </td><td>-0.528</td><td>20.349</td><td>-0.428</td></tr>\n",
       "\t<tr><td>1224  </td><td>No    </td><td>Male  </td><td>-0.668</td><td> 8.781</td><td>-0.428</td></tr>\n",
       "\t<tr><td>1224  </td><td>No    </td><td>Male  </td><td>-0.158</td><td>17.898</td><td>-0.428</td></tr>\n",
       "\t<tr><td>1224  </td><td>No    </td><td>Male  </td><td> 0.022</td><td> 4.583</td><td>-0.428</td></tr>\n",
       "</tbody>\n",
       "</table>\n"
      ],
      "text/latex": [
       "\\begin{tabular}{r|llllll}\n",
       " School & Minority & Sex & SES & MathAch & MEANSES\\\\\n",
       "\\hline\n",
       "\t 1224   & No     & Female & -1.528 &  5.876 & -0.428\\\\\n",
       "\t 1224   & No     & Female & -0.588 & 19.708 & -0.428\\\\\n",
       "\t 1224   & No     & Male   & -0.528 & 20.349 & -0.428\\\\\n",
       "\t 1224   & No     & Male   & -0.668 &  8.781 & -0.428\\\\\n",
       "\t 1224   & No     & Male   & -0.158 & 17.898 & -0.428\\\\\n",
       "\t 1224   & No     & Male   &  0.022 &  4.583 & -0.428\\\\\n",
       "\\end{tabular}\n"
      ],
      "text/markdown": [
       "\n",
       "School | Minority | Sex | SES | MathAch | MEANSES | \n",
       "|---|---|---|---|---|---|\n",
       "| 1224   | No     | Female | -1.528 |  5.876 | -0.428 | \n",
       "| 1224   | No     | Female | -0.588 | 19.708 | -0.428 | \n",
       "| 1224   | No     | Male   | -0.528 | 20.349 | -0.428 | \n",
       "| 1224   | No     | Male   | -0.668 |  8.781 | -0.428 | \n",
       "| 1224   | No     | Male   | -0.158 | 17.898 | -0.428 | \n",
       "| 1224   | No     | Male   |  0.022 |  4.583 | -0.428 | \n",
       "\n",
       "\n"
      ],
      "text/plain": [
       "  School Minority Sex    SES    MathAch MEANSES\n",
       "1 1224   No       Female -1.528  5.876  -0.428 \n",
       "2 1224   No       Female -0.588 19.708  -0.428 \n",
       "3 1224   No       Male   -0.528 20.349  -0.428 \n",
       "4 1224   No       Male   -0.668  8.781  -0.428 \n",
       "5 1224   No       Male   -0.158 17.898  -0.428 \n",
       "6 1224   No       Male    0.022  4.583  -0.428 "
      ]
     },
     "metadata": {},
     "output_type": "display_data"
    }
   ],
   "source": [
    "head(dat)"
   ]
  },
  {
   "cell_type": "markdown",
   "metadata": {},
   "source": [
    "### 4.1 Transforming existing variables and creating new variables -  **mutate()**"
   ]
  },
  {
   "cell_type": "markdown",
   "metadata": {},
   "source": [
    "The `mutate()` command allows you to create new columns.  Let's say you want to center the MathAchievements scores by removing the mean:"
   ]
  },
  {
   "cell_type": "code",
   "execution_count": 13,
   "metadata": {},
   "outputs": [
    {
     "data": {
      "text/html": [
       "<table>\n",
       "<thead><tr><th scope=col>School</th><th scope=col>Minority</th><th scope=col>Sex</th><th scope=col>SES</th><th scope=col>MathAch</th><th scope=col>MEANSES</th><th scope=col>centered_math</th></tr></thead>\n",
       "<tbody>\n",
       "\t<tr><td>1224     </td><td>No       </td><td>Female   </td><td>-1.528   </td><td> 5.876   </td><td>-0.428   </td><td>-6.871853</td></tr>\n",
       "\t<tr><td>1224     </td><td>No       </td><td>Female   </td><td>-0.588   </td><td>19.708   </td><td>-0.428   </td><td> 6.960147</td></tr>\n",
       "\t<tr><td>1224     </td><td>No       </td><td>Male     </td><td>-0.528   </td><td>20.349   </td><td>-0.428   </td><td> 7.601147</td></tr>\n",
       "\t<tr><td>1224     </td><td>No       </td><td>Male     </td><td>-0.668   </td><td> 8.781   </td><td>-0.428   </td><td>-3.966853</td></tr>\n",
       "\t<tr><td>1224     </td><td>No       </td><td>Male     </td><td>-0.158   </td><td>17.898   </td><td>-0.428   </td><td> 5.150147</td></tr>\n",
       "\t<tr><td>1224     </td><td>No       </td><td>Male     </td><td> 0.022   </td><td> 4.583   </td><td>-0.428   </td><td>-8.164853</td></tr>\n",
       "</tbody>\n",
       "</table>\n"
      ],
      "text/latex": [
       "\\begin{tabular}{r|lllllll}\n",
       " School & Minority & Sex & SES & MathAch & MEANSES & centered\\_math\\\\\n",
       "\\hline\n",
       "\t 1224      & No        & Female    & -1.528    &  5.876    & -0.428    & -6.871853\\\\\n",
       "\t 1224      & No        & Female    & -0.588    & 19.708    & -0.428    &  6.960147\\\\\n",
       "\t 1224      & No        & Male      & -0.528    & 20.349    & -0.428    &  7.601147\\\\\n",
       "\t 1224      & No        & Male      & -0.668    &  8.781    & -0.428    & -3.966853\\\\\n",
       "\t 1224      & No        & Male      & -0.158    & 17.898    & -0.428    &  5.150147\\\\\n",
       "\t 1224      & No        & Male      &  0.022    &  4.583    & -0.428    & -8.164853\\\\\n",
       "\\end{tabular}\n"
      ],
      "text/markdown": [
       "\n",
       "School | Minority | Sex | SES | MathAch | MEANSES | centered_math | \n",
       "|---|---|---|---|---|---|\n",
       "| 1224      | No        | Female    | -1.528    |  5.876    | -0.428    | -6.871853 | \n",
       "| 1224      | No        | Female    | -0.588    | 19.708    | -0.428    |  6.960147 | \n",
       "| 1224      | No        | Male      | -0.528    | 20.349    | -0.428    |  7.601147 | \n",
       "| 1224      | No        | Male      | -0.668    |  8.781    | -0.428    | -3.966853 | \n",
       "| 1224      | No        | Male      | -0.158    | 17.898    | -0.428    |  5.150147 | \n",
       "| 1224      | No        | Male      |  0.022    |  4.583    | -0.428    | -8.164853 | \n",
       "\n",
       "\n"
      ],
      "text/plain": [
       "  School Minority Sex    SES    MathAch MEANSES centered_math\n",
       "1 1224   No       Female -1.528  5.876  -0.428  -6.871853    \n",
       "2 1224   No       Female -0.588 19.708  -0.428   6.960147    \n",
       "3 1224   No       Male   -0.528 20.349  -0.428   7.601147    \n",
       "4 1224   No       Male   -0.668  8.781  -0.428  -3.966853    \n",
       "5 1224   No       Male   -0.158 17.898  -0.428   5.150147    \n",
       "6 1224   No       Male    0.022  4.583  -0.428  -8.164853    "
      ]
     },
     "metadata": {},
     "output_type": "display_data"
    }
   ],
   "source": [
    "dat <- mutate(dat, centered_math = MathAch - mean(MathAch))\n",
    "head(dat)"
   ]
  },
  {
   "cell_type": "markdown",
   "metadata": {},
   "source": [
    "**In all dplyr commands, including mutate, the first argument is always the dataset**, and the subsequent arguments have the following form: `variable_name = value`. All commands in the `dplyr` package allow you to create and reference variables within a data.frame object, without have to type in the name of the data.frame each time. For example, if you want to create several variables in base R, you would have to do this everytime:"
   ]
  },
  {
   "cell_type": "code",
   "execution_count": 14,
   "metadata": {
    "collapsed": true
   },
   "outputs": [],
   "source": [
    "dat$centered_math = dat$MathAch - mean(dat$MathAch) # centers math achievement\n",
    "dat$SES_zscores = (dat$SES - mean(dat$SES))/sd(dat$SES) # transforms SES into zscores"
   ]
  },
  {
   "cell_type": "markdown",
   "metadata": {},
   "source": [
    "The second function above created a new variable in which we transform the MathAch scores by removing the overall mean. You have to reference the name of the dataset every time you refer to a variable. In contrast, when you use the mutate function you can simply type:"
   ]
  },
  {
   "cell_type": "code",
   "execution_count": 15,
   "metadata": {},
   "outputs": [
    {
     "data": {
      "text/html": [
       "<table>\n",
       "<thead><tr><th scope=col>School</th><th scope=col>Minority</th><th scope=col>Sex</th><th scope=col>SES</th><th scope=col>MathAch</th><th scope=col>MEANSES</th><th scope=col>centered_math</th><th scope=col>SES_zscores</th><th scope=col>n_students</th></tr></thead>\n",
       "<tbody>\n",
       "\t<tr><td>1224       </td><td>No         </td><td>Female     </td><td>-1.528     </td><td> 5.876     </td><td>-0.428     </td><td>-6.871853  </td><td>-1.96077907</td><td>7185       </td></tr>\n",
       "\t<tr><td>1224       </td><td>No         </td><td>Female     </td><td>-0.588     </td><td>19.708     </td><td>-0.428     </td><td> 6.960147  </td><td>-0.75465379</td><td>7185       </td></tr>\n",
       "\t<tr><td>1224       </td><td>No         </td><td>Male       </td><td>-0.528     </td><td>20.349     </td><td>-0.428     </td><td> 7.601147  </td><td>-0.67766707</td><td>7185       </td></tr>\n",
       "\t<tr><td>1224       </td><td>No         </td><td>Male       </td><td>-0.668     </td><td> 8.781     </td><td>-0.428     </td><td>-3.966853  </td><td>-0.85730275</td><td>7185       </td></tr>\n",
       "\t<tr><td>1224       </td><td>No         </td><td>Male       </td><td>-0.158     </td><td>17.898     </td><td>-0.428     </td><td> 5.150147  </td><td>-0.20291563</td><td>7185       </td></tr>\n",
       "\t<tr><td>1224       </td><td>No         </td><td>Male       </td><td> 0.022     </td><td> 4.583     </td><td>-0.428     </td><td>-8.164853  </td><td> 0.02804452</td><td>7185       </td></tr>\n",
       "</tbody>\n",
       "</table>\n"
      ],
      "text/latex": [
       "\\begin{tabular}{r|lllllllll}\n",
       " School & Minority & Sex & SES & MathAch & MEANSES & centered\\_math & SES\\_zscores & n\\_students\\\\\n",
       "\\hline\n",
       "\t 1224        & No          & Female      & -1.528      &  5.876      & -0.428      & -6.871853   & -1.96077907 & 7185       \\\\\n",
       "\t 1224        & No          & Female      & -0.588      & 19.708      & -0.428      &  6.960147   & -0.75465379 & 7185       \\\\\n",
       "\t 1224        & No          & Male        & -0.528      & 20.349      & -0.428      &  7.601147   & -0.67766707 & 7185       \\\\\n",
       "\t 1224        & No          & Male        & -0.668      &  8.781      & -0.428      & -3.966853   & -0.85730275 & 7185       \\\\\n",
       "\t 1224        & No          & Male        & -0.158      & 17.898      & -0.428      &  5.150147   & -0.20291563 & 7185       \\\\\n",
       "\t 1224        & No          & Male        &  0.022      &  4.583      & -0.428      & -8.164853   &  0.02804452 & 7185       \\\\\n",
       "\\end{tabular}\n"
      ],
      "text/markdown": [
       "\n",
       "School | Minority | Sex | SES | MathAch | MEANSES | centered_math | SES_zscores | n_students | \n",
       "|---|---|---|---|---|---|\n",
       "| 1224        | No          | Female      | -1.528      |  5.876      | -0.428      | -6.871853   | -1.96077907 | 7185        | \n",
       "| 1224        | No          | Female      | -0.588      | 19.708      | -0.428      |  6.960147   | -0.75465379 | 7185        | \n",
       "| 1224        | No          | Male        | -0.528      | 20.349      | -0.428      |  7.601147   | -0.67766707 | 7185        | \n",
       "| 1224        | No          | Male        | -0.668      |  8.781      | -0.428      | -3.966853   | -0.85730275 | 7185        | \n",
       "| 1224        | No          | Male        | -0.158      | 17.898      | -0.428      |  5.150147   | -0.20291563 | 7185        | \n",
       "| 1224        | No          | Male        |  0.022      |  4.583      | -0.428      | -8.164853   |  0.02804452 | 7185        | \n",
       "\n",
       "\n"
      ],
      "text/plain": [
       "  School Minority Sex    SES    MathAch MEANSES centered_math SES_zscores\n",
       "1 1224   No       Female -1.528  5.876  -0.428  -6.871853     -1.96077907\n",
       "2 1224   No       Female -0.588 19.708  -0.428   6.960147     -0.75465379\n",
       "3 1224   No       Male   -0.528 20.349  -0.428   7.601147     -0.67766707\n",
       "4 1224   No       Male   -0.668  8.781  -0.428  -3.966853     -0.85730275\n",
       "5 1224   No       Male   -0.158 17.898  -0.428   5.150147     -0.20291563\n",
       "6 1224   No       Male    0.022  4.583  -0.428  -8.164853      0.02804452\n",
       "  n_students\n",
       "1 7185      \n",
       "2 7185      \n",
       "3 7185      \n",
       "4 7185      \n",
       "5 7185      \n",
       "6 7185      "
      ]
     },
     "metadata": {},
     "output_type": "display_data"
    }
   ],
   "source": [
    "dat <- dat  %>%  \n",
    "    mutate(centered_math = MathAch - mean(MathAch),  # center math achievement\n",
    "           SES_zscores = (SES - mean(SES))/sd(SES),  # zscore the SES scores\n",
    "           n_students = length(School))              # calculate the total number of students\n",
    "head(dat)"
   ]
  },
  {
   "cell_type": "markdown",
   "metadata": {},
   "source": [
    "As you see, you can create multiple variables at the same time within a single mutate command, by separating them with commas. This time, rather than specifying *dat* as the first argument of mutate explicitely, we directed it with a pipe, as explained before. The first line should be read as *'Pass the dat variable to whatever follows, then save the results in the dat variable.*"
   ]
  },
  {
   "cell_type": "markdown",
   "metadata": {},
   "source": [
    "### 4.2 Summarizing variables - summarise()"
   ]
  },
  {
   "cell_type": "markdown",
   "metadata": {},
   "source": [
    "Mutate creates new variables within the existing dataset and does not change the number of rows. If you assign a summarizing function, as I did in the previous example with `n_students = length(School)`, which counts the number of observations in the `School` variable, it assign the result in each row of the dataset. If you want to create a new data.frame in which you store the summary values for one or more variables, you can use the summarise command. Let's get summaries for a few of the existing variables:"
   ]
  },
  {
   "cell_type": "code",
   "execution_count": 16,
   "metadata": {},
   "outputs": [
    {
     "data": {
      "text/html": [
       "<table>\n",
       "<thead><tr><th scope=col>n_students</th><th scope=col>minority_prop</th><th scope=col>female_prop</th><th scope=col>SES_mean</th><th scope=col>SES_sd</th><th scope=col>SES_se</th><th scope=col>math_mean</th><th scope=col>math_sd</th><th scope=col>math_se</th></tr></thead>\n",
       "<tbody>\n",
       "\t<tr><td>7185        </td><td>0.274739    </td><td>0.5281837   </td><td>0.0001433542</td><td>0.7793552   </td><td>0.009194372 </td><td>12.74785    </td><td>6.878246    </td><td>0.08114547  </td></tr>\n",
       "</tbody>\n",
       "</table>\n"
      ],
      "text/latex": [
       "\\begin{tabular}{r|lllllllll}\n",
       " n\\_students & minority\\_prop & female\\_prop & SES\\_mean & SES\\_sd & SES\\_se & math\\_mean & math\\_sd & math\\_se\\\\\n",
       "\\hline\n",
       "\t 7185         & 0.274739     & 0.5281837    & 0.0001433542 & 0.7793552    & 0.009194372  & 12.74785     & 6.878246     & 0.08114547  \\\\\n",
       "\\end{tabular}\n"
      ],
      "text/markdown": [
       "\n",
       "n_students | minority_prop | female_prop | SES_mean | SES_sd | SES_se | math_mean | math_sd | math_se | \n",
       "|---|\n",
       "| 7185         | 0.274739     | 0.5281837    | 0.0001433542 | 0.7793552    | 0.009194372  | 12.74785     | 6.878246     | 0.08114547   | \n",
       "\n",
       "\n"
      ],
      "text/plain": [
       "  n_students minority_prop female_prop SES_mean     SES_sd    SES_se     \n",
       "1 7185       0.274739      0.5281837   0.0001433542 0.7793552 0.009194372\n",
       "  math_mean math_sd  math_se   \n",
       "1 12.74785  6.878246 0.08114547"
      ]
     },
     "metadata": {},
     "output_type": "display_data"
    }
   ],
   "source": [
    "smry <- dat  %>% \n",
    "    summarise(n_students = length(School),\n",
    "              minority_prop = mean(Minority == 'Yes'),\n",
    "              female_prop = mean(Sex == 'Female'),\n",
    "              SES_mean = mean(SES),\n",
    "              SES_sd = sd(SES),\n",
    "              SES_se = SES_sd / sqrt(n_students),\n",
    "              math_mean = mean(MathAch),\n",
    "              math_sd = sd(MathAch),\n",
    "              math_se = math_sd / sqrt(n_students))\n",
    "smry\n",
    "              "
   ]
  },
  {
   "cell_type": "markdown",
   "metadata": {},
   "source": [
    "You should note several things. When you get to a new row, you can refer to a variable you have already created on a previous row. For example, when we calculate the standard error for the SES, we have put `SES_se = SES_sd / sqrt(n_students)`, in which SES_sd and n_students do not exist in the original data.frame, but are variables that we created on previous rows. We could have written it directly as `SES_se = sd(SES) / sqrt(length(School))`, but doing it in the above way is more efficient and readable."
   ]
  },
  {
   "cell_type": "markdown",
   "metadata": {},
   "source": [
    "### 4.3 Filtering a data.frame by removing rows based on a condition - filter()"
   ]
  },
  {
   "cell_type": "markdown",
   "metadata": {},
   "source": [
    "Here's 3 scenarious\":\n",
    "* you identify that there is one bad school (e.g. 1224), which messed up during data collection and you want to remove it from the data.frame\n",
    "* you find out that some students have a negative MathAchievement score, which is an error, and you want to remove them\n",
    "* you want to separate the data for males and females in separate variables\n",
    "\n",
    "You can do all of these things with the **`filter`** command:"
   ]
  },
  {
   "cell_type": "code",
   "execution_count": 17,
   "metadata": {
    "scrolled": false
   },
   "outputs": [
    {
     "data": {
      "text/html": [
       "<table>\n",
       "<thead><tr><th scope=col>School</th><th scope=col>Minority</th><th scope=col>Sex</th><th scope=col>SES</th><th scope=col>MathAch</th><th scope=col>MEANSES</th><th scope=col>centered_math</th><th scope=col>SES_zscores</th><th scope=col>n_students</th></tr></thead>\n",
       "<tbody>\n",
       "\t<tr><td>1288      </td><td>No        </td><td>Female    </td><td>-0.788    </td><td> 7.857    </td><td>0.128     </td><td>-4.8908526</td><td>-1.0112762</td><td>7185      </td></tr>\n",
       "\t<tr><td>1288      </td><td>Yes       </td><td>Male      </td><td>-0.328    </td><td>10.171    </td><td>0.128     </td><td>-2.5768526</td><td>-0.4210447</td><td>7185      </td></tr>\n",
       "\t<tr><td>1288      </td><td>No        </td><td>Male      </td><td> 0.472    </td><td>15.699    </td><td>0.128     </td><td> 2.9511474</td><td> 0.6054449</td><td>7185      </td></tr>\n",
       "\t<tr><td>1288      </td><td>No        </td><td>Female    </td><td> 0.352    </td><td>22.919    </td><td>0.128     </td><td>10.1711474</td><td> 0.4514715</td><td>7185      </td></tr>\n",
       "\t<tr><td>1288      </td><td>Yes       </td><td>Female    </td><td>-1.468    </td><td>10.664    </td><td>0.128     </td><td>-2.0838526</td><td>-1.8837923</td><td>7185      </td></tr>\n",
       "\t<tr><td>1288      </td><td>No        </td><td>Female    </td><td> 0.202    </td><td>13.543    </td><td>0.128     </td><td> 0.7951474</td><td> 0.2590047</td><td>7185      </td></tr>\n",
       "</tbody>\n",
       "</table>\n"
      ],
      "text/latex": [
       "\\begin{tabular}{r|lllllllll}\n",
       " School & Minority & Sex & SES & MathAch & MEANSES & centered\\_math & SES\\_zscores & n\\_students\\\\\n",
       "\\hline\n",
       "\t 1288       & No         & Female     & -0.788     &  7.857     & 0.128      & -4.8908526 & -1.0112762 & 7185      \\\\\n",
       "\t 1288       & Yes        & Male       & -0.328     & 10.171     & 0.128      & -2.5768526 & -0.4210447 & 7185      \\\\\n",
       "\t 1288       & No         & Male       &  0.472     & 15.699     & 0.128      &  2.9511474 &  0.6054449 & 7185      \\\\\n",
       "\t 1288       & No         & Female     &  0.352     & 22.919     & 0.128      & 10.1711474 &  0.4514715 & 7185      \\\\\n",
       "\t 1288       & Yes        & Female     & -1.468     & 10.664     & 0.128      & -2.0838526 & -1.8837923 & 7185      \\\\\n",
       "\t 1288       & No         & Female     &  0.202     & 13.543     & 0.128      &  0.7951474 &  0.2590047 & 7185      \\\\\n",
       "\\end{tabular}\n"
      ],
      "text/markdown": [
       "\n",
       "School | Minority | Sex | SES | MathAch | MEANSES | centered_math | SES_zscores | n_students | \n",
       "|---|---|---|---|---|---|\n",
       "| 1288       | No         | Female     | -0.788     |  7.857     | 0.128      | -4.8908526 | -1.0112762 | 7185       | \n",
       "| 1288       | Yes        | Male       | -0.328     | 10.171     | 0.128      | -2.5768526 | -0.4210447 | 7185       | \n",
       "| 1288       | No         | Male       |  0.472     | 15.699     | 0.128      |  2.9511474 |  0.6054449 | 7185       | \n",
       "| 1288       | No         | Female     |  0.352     | 22.919     | 0.128      | 10.1711474 |  0.4514715 | 7185       | \n",
       "| 1288       | Yes        | Female     | -1.468     | 10.664     | 0.128      | -2.0838526 | -1.8837923 | 7185       | \n",
       "| 1288       | No         | Female     |  0.202     | 13.543     | 0.128      |  0.7951474 |  0.2590047 | 7185       | \n",
       "\n",
       "\n"
      ],
      "text/plain": [
       "  School Minority Sex    SES    MathAch MEANSES centered_math SES_zscores\n",
       "1 1288   No       Female -0.788  7.857  0.128   -4.8908526    -1.0112762 \n",
       "2 1288   Yes      Male   -0.328 10.171  0.128   -2.5768526    -0.4210447 \n",
       "3 1288   No       Male    0.472 15.699  0.128    2.9511474     0.6054449 \n",
       "4 1288   No       Female  0.352 22.919  0.128   10.1711474     0.4514715 \n",
       "5 1288   Yes      Female -1.468 10.664  0.128   -2.0838526    -1.8837923 \n",
       "6 1288   No       Female  0.202 13.543  0.128    0.7951474     0.2590047 \n",
       "  n_students\n",
       "1 7185      \n",
       "2 7185      \n",
       "3 7185      \n",
       "4 7185      \n",
       "5 7185      \n",
       "6 7185      "
      ]
     },
     "metadata": {},
     "output_type": "display_data"
    },
    {
     "data": {
      "text/html": [
       "<table>\n",
       "<thead><tr><th scope=col>School</th><th scope=col>Minority</th><th scope=col>Sex</th><th scope=col>SES</th><th scope=col>MathAch</th><th scope=col>MEANSES</th><th scope=col>centered_math</th><th scope=col>SES_zscores</th><th scope=col>n_students</th></tr></thead>\n",
       "<tbody>\n",
       "\t<tr><td>1288       </td><td>Yes        </td><td>Male       </td><td>-0.328     </td><td>10.171     </td><td>0.128      </td><td>-2.576853  </td><td>-0.42104467</td><td>7185       </td></tr>\n",
       "\t<tr><td>1288       </td><td>No         </td><td>Male       </td><td> 0.472     </td><td>15.699     </td><td>0.128      </td><td> 2.951147  </td><td> 0.60544492</td><td>7185       </td></tr>\n",
       "\t<tr><td>1288       </td><td>No         </td><td>Male       </td><td>-0.518     </td><td>18.207     </td><td>0.128      </td><td> 5.459147  </td><td>-0.66483595</td><td>7185       </td></tr>\n",
       "\t<tr><td>1288       </td><td>Yes        </td><td>Male       </td><td>-0.158     </td><td> 5.552     </td><td>0.128      </td><td>-7.195853  </td><td>-0.20291563</td><td>7185       </td></tr>\n",
       "\t<tr><td>1288       </td><td>No         </td><td>Male       </td><td> 0.042     </td><td> 7.416     </td><td>0.128      </td><td>-5.331853  </td><td> 0.05370676</td><td>7185       </td></tr>\n",
       "\t<tr><td>1288       </td><td>No         </td><td>Male       </td><td> 0.682     </td><td>18.792     </td><td>0.128      </td><td> 6.044147  </td><td> 0.87489844</td><td>7185       </td></tr>\n",
       "</tbody>\n",
       "</table>\n"
      ],
      "text/latex": [
       "\\begin{tabular}{r|lllllllll}\n",
       " School & Minority & Sex & SES & MathAch & MEANSES & centered\\_math & SES\\_zscores & n\\_students\\\\\n",
       "\\hline\n",
       "\t 1288        & Yes         & Male        & -0.328      & 10.171      & 0.128       & -2.576853   & -0.42104467 & 7185       \\\\\n",
       "\t 1288        & No          & Male        &  0.472      & 15.699      & 0.128       &  2.951147   &  0.60544492 & 7185       \\\\\n",
       "\t 1288        & No          & Male        & -0.518      & 18.207      & 0.128       &  5.459147   & -0.66483595 & 7185       \\\\\n",
       "\t 1288        & Yes         & Male        & -0.158      &  5.552      & 0.128       & -7.195853   & -0.20291563 & 7185       \\\\\n",
       "\t 1288        & No          & Male        &  0.042      &  7.416      & 0.128       & -5.331853   &  0.05370676 & 7185       \\\\\n",
       "\t 1288        & No          & Male        &  0.682      & 18.792      & 0.128       &  6.044147   &  0.87489844 & 7185       \\\\\n",
       "\\end{tabular}\n"
      ],
      "text/markdown": [
       "\n",
       "School | Minority | Sex | SES | MathAch | MEANSES | centered_math | SES_zscores | n_students | \n",
       "|---|---|---|---|---|---|\n",
       "| 1288        | Yes         | Male        | -0.328      | 10.171      | 0.128       | -2.576853   | -0.42104467 | 7185        | \n",
       "| 1288        | No          | Male        |  0.472      | 15.699      | 0.128       |  2.951147   |  0.60544492 | 7185        | \n",
       "| 1288        | No          | Male        | -0.518      | 18.207      | 0.128       |  5.459147   | -0.66483595 | 7185        | \n",
       "| 1288        | Yes         | Male        | -0.158      |  5.552      | 0.128       | -7.195853   | -0.20291563 | 7185        | \n",
       "| 1288        | No          | Male        |  0.042      |  7.416      | 0.128       | -5.331853   |  0.05370676 | 7185        | \n",
       "| 1288        | No          | Male        |  0.682      | 18.792      | 0.128       |  6.044147   |  0.87489844 | 7185        | \n",
       "\n",
       "\n"
      ],
      "text/plain": [
       "  School Minority Sex  SES    MathAch MEANSES centered_math SES_zscores\n",
       "1 1288   Yes      Male -0.328 10.171  0.128   -2.576853     -0.42104467\n",
       "2 1288   No       Male  0.472 15.699  0.128    2.951147      0.60544492\n",
       "3 1288   No       Male -0.518 18.207  0.128    5.459147     -0.66483595\n",
       "4 1288   Yes      Male -0.158  5.552  0.128   -7.195853     -0.20291563\n",
       "5 1288   No       Male  0.042  7.416  0.128   -5.331853      0.05370676\n",
       "6 1288   No       Male  0.682 18.792  0.128    6.044147      0.87489844\n",
       "  n_students\n",
       "1 7185      \n",
       "2 7185      \n",
       "3 7185      \n",
       "4 7185      \n",
       "5 7185      \n",
       "6 7185      "
      ]
     },
     "metadata": {},
     "output_type": "display_data"
    },
    {
     "data": {
      "text/html": [
       "<table>\n",
       "<thead><tr><th scope=col>School</th><th scope=col>Minority</th><th scope=col>Sex</th><th scope=col>SES</th><th scope=col>MathAch</th><th scope=col>MEANSES</th><th scope=col>centered_math</th><th scope=col>SES_zscores</th><th scope=col>n_students</th></tr></thead>\n",
       "<tbody>\n",
       "\t<tr><td>1288      </td><td>No        </td><td>Female    </td><td>-0.788    </td><td> 7.857    </td><td>0.128     </td><td>-4.8908526</td><td>-1.0112762</td><td>7185      </td></tr>\n",
       "\t<tr><td>1288      </td><td>No        </td><td>Female    </td><td> 0.352    </td><td>22.919    </td><td>0.128     </td><td>10.1711474</td><td> 0.4514715</td><td>7185      </td></tr>\n",
       "\t<tr><td>1288      </td><td>Yes       </td><td>Female    </td><td>-1.468    </td><td>10.664    </td><td>0.128     </td><td>-2.0838526</td><td>-1.8837923</td><td>7185      </td></tr>\n",
       "\t<tr><td>1288      </td><td>No        </td><td>Female    </td><td> 0.202    </td><td>13.543    </td><td>0.128     </td><td> 0.7951474</td><td> 0.2590047</td><td>7185      </td></tr>\n",
       "\t<tr><td>1288      </td><td>No        </td><td>Female    </td><td> 0.152    </td><td> 3.534    </td><td>0.128     </td><td>-9.2138526</td><td> 0.1948491</td><td>7185      </td></tr>\n",
       "\t<tr><td>1288      </td><td>No        </td><td>Female    </td><td>-0.678    </td><td>20.173    </td><td>0.128     </td><td> 7.4251474</td><td>-0.8701339</td><td>7185      </td></tr>\n",
       "</tbody>\n",
       "</table>\n"
      ],
      "text/latex": [
       "\\begin{tabular}{r|lllllllll}\n",
       " School & Minority & Sex & SES & MathAch & MEANSES & centered\\_math & SES\\_zscores & n\\_students\\\\\n",
       "\\hline\n",
       "\t 1288       & No         & Female     & -0.788     &  7.857     & 0.128      & -4.8908526 & -1.0112762 & 7185      \\\\\n",
       "\t 1288       & No         & Female     &  0.352     & 22.919     & 0.128      & 10.1711474 &  0.4514715 & 7185      \\\\\n",
       "\t 1288       & Yes        & Female     & -1.468     & 10.664     & 0.128      & -2.0838526 & -1.8837923 & 7185      \\\\\n",
       "\t 1288       & No         & Female     &  0.202     & 13.543     & 0.128      &  0.7951474 &  0.2590047 & 7185      \\\\\n",
       "\t 1288       & No         & Female     &  0.152     &  3.534     & 0.128      & -9.2138526 &  0.1948491 & 7185      \\\\\n",
       "\t 1288       & No         & Female     & -0.678     & 20.173     & 0.128      &  7.4251474 & -0.8701339 & 7185      \\\\\n",
       "\\end{tabular}\n"
      ],
      "text/markdown": [
       "\n",
       "School | Minority | Sex | SES | MathAch | MEANSES | centered_math | SES_zscores | n_students | \n",
       "|---|---|---|---|---|---|\n",
       "| 1288       | No         | Female     | -0.788     |  7.857     | 0.128      | -4.8908526 | -1.0112762 | 7185       | \n",
       "| 1288       | No         | Female     |  0.352     | 22.919     | 0.128      | 10.1711474 |  0.4514715 | 7185       | \n",
       "| 1288       | Yes        | Female     | -1.468     | 10.664     | 0.128      | -2.0838526 | -1.8837923 | 7185       | \n",
       "| 1288       | No         | Female     |  0.202     | 13.543     | 0.128      |  0.7951474 |  0.2590047 | 7185       | \n",
       "| 1288       | No         | Female     |  0.152     |  3.534     | 0.128      | -9.2138526 |  0.1948491 | 7185       | \n",
       "| 1288       | No         | Female     | -0.678     | 20.173     | 0.128      |  7.4251474 | -0.8701339 | 7185       | \n",
       "\n",
       "\n"
      ],
      "text/plain": [
       "  School Minority Sex    SES    MathAch MEANSES centered_math SES_zscores\n",
       "1 1288   No       Female -0.788  7.857  0.128   -4.8908526    -1.0112762 \n",
       "2 1288   No       Female  0.352 22.919  0.128   10.1711474     0.4514715 \n",
       "3 1288   Yes      Female -1.468 10.664  0.128   -2.0838526    -1.8837923 \n",
       "4 1288   No       Female  0.202 13.543  0.128    0.7951474     0.2590047 \n",
       "5 1288   No       Female  0.152  3.534  0.128   -9.2138526     0.1948491 \n",
       "6 1288   No       Female -0.678 20.173  0.128    7.4251474    -0.8701339 \n",
       "  n_students\n",
       "1 7185      \n",
       "2 7185      \n",
       "3 7185      \n",
       "4 7185      \n",
       "5 7185      \n",
       "6 7185      "
      ]
     },
     "metadata": {},
     "output_type": "display_data"
    }
   ],
   "source": [
    "cleaned_dat <- dat  %>% \n",
    "    filter(School != 1224,\n",
    "           MathAch >= 0)\n",
    "\n",
    "males <- filter(cleaned_dat, Sex == 'Male')\n",
    "females <- filter(cleaned_dat, Sex == 'Female')\n",
    "\n",
    "head(cleaned_dat); head(males); head(females)"
   ]
  },
  {
   "cell_type": "markdown",
   "metadata": {},
   "source": [
    "Here's where the pipe becomes useful. Let's say you want to calculate the summarise we described above separately for males and females. I will show you later how to do it more efficiently, but for the moment we can illustrate how you can chain commands with pipes. Rather than creating the intermediate **males** and **females** dataframes, we can chain the summarise function after the filter function. In the example below, we pass dat as the first argument of filter, then specify to keep only males, and then the resulting data.frame is passed on as the first argument to summarise:"
   ]
  },
  {
   "cell_type": "code",
   "execution_count": 18,
   "metadata": {},
   "outputs": [
    {
     "data": {
      "text/html": [
       "<table>\n",
       "<thead><tr><th scope=col>SES_mean</th><th scope=col>SES_sd</th><th scope=col>math_mean</th><th scope=col>math_sd</th></tr></thead>\n",
       "<tbody>\n",
       "\t<tr><td>0.05609145</td><td>0.7757862 </td><td>13.6438   </td><td>7.014392  </td></tr>\n",
       "</tbody>\n",
       "</table>\n"
      ],
      "text/latex": [
       "\\begin{tabular}{r|llll}\n",
       " SES\\_mean & SES\\_sd & math\\_mean & math\\_sd\\\\\n",
       "\\hline\n",
       "\t 0.05609145 & 0.7757862  & 13.6438    & 7.014392  \\\\\n",
       "\\end{tabular}\n"
      ],
      "text/markdown": [
       "\n",
       "SES_mean | SES_sd | math_mean | math_sd | \n",
       "|---|\n",
       "| 0.05609145 | 0.7757862  | 13.6438    | 7.014392   | \n",
       "\n",
       "\n"
      ],
      "text/plain": [
       "  SES_mean   SES_sd    math_mean math_sd \n",
       "1 0.05609145 0.7757862 13.6438   7.014392"
      ]
     },
     "metadata": {},
     "output_type": "display_data"
    },
    {
     "data": {
      "text/html": [
       "<table>\n",
       "<thead><tr><th scope=col>SES_mean</th><th scope=col>SES_sd</th><th scope=col>math_mean</th><th scope=col>math_sd</th></tr></thead>\n",
       "<tbody>\n",
       "\t<tr><td>-0.04983399</td><td>0.7792414  </td><td>11.94752   </td><td>6.653967   </td></tr>\n",
       "</tbody>\n",
       "</table>\n"
      ],
      "text/latex": [
       "\\begin{tabular}{r|llll}\n",
       " SES\\_mean & SES\\_sd & math\\_mean & math\\_sd\\\\\n",
       "\\hline\n",
       "\t -0.04983399 & 0.7792414   & 11.94752    & 6.653967   \\\\\n",
       "\\end{tabular}\n"
      ],
      "text/markdown": [
       "\n",
       "SES_mean | SES_sd | math_mean | math_sd | \n",
       "|---|\n",
       "| -0.04983399 | 0.7792414   | 11.94752    | 6.653967    | \n",
       "\n",
       "\n"
      ],
      "text/plain": [
       "  SES_mean    SES_sd    math_mean math_sd \n",
       "1 -0.04983399 0.7792414 11.94752  6.653967"
      ]
     },
     "metadata": {},
     "output_type": "display_data"
    }
   ],
   "source": [
    "# calculate summarise for males\n",
    "dat  %>% \n",
    " filter(Sex == 'Male')  %>% \n",
    " summarise(SES_mean = mean(SES),\n",
    "           SES_sd = sd(SES),\n",
    "           math_mean = mean(MathAch),\n",
    "           math_sd = sd(MathAch))\n",
    "\n",
    "# calculate summarise for females\n",
    "dat  %>% \n",
    " filter(Sex == 'Female')  %>% \n",
    " summarise(SES_mean = mean(SES),\n",
    "           SES_sd = sd(SES),\n",
    "           math_mean = mean(MathAch),\n",
    "           math_sd = sd(MathAch))"
   ]
  },
  {
   "cell_type": "markdown",
   "metadata": {},
   "source": [
    "**_TIP_**: it is very easy to remove missing values by using the !is.na(variable) command. E.g. if some students are missing SES scores, you can exclude them by doing **`filter(dat, !is.na(SES))`**"
   ]
  },
  {
   "cell_type": "markdown",
   "metadata": {},
   "source": [
    "### 4.4 Removing/selecting columns to keep - select()"
   ]
  },
  {
   "cell_type": "markdown",
   "metadata": {},
   "source": [
    "Often the dataset contains many irrelevant columns, that make it difficult to display at once. You can easily choose which columns to keep or remove in a data.frame with the **`select()`** command. It has complex usage, and I suggest checking the help, i.e. type `?select`. The basic usage is:\n",
    "* if you want to keep only specific variables, list them one after another like this:"
   ]
  },
  {
   "cell_type": "code",
   "execution_count": 19,
   "metadata": {},
   "outputs": [
    {
     "data": {
      "text/html": [
       "<table>\n",
       "<thead><tr><th scope=col>Sex</th><th scope=col>SES</th><th scope=col>MathAch</th></tr></thead>\n",
       "<tbody>\n",
       "\t<tr><td>Female</td><td>-1.528</td><td> 5.876</td></tr>\n",
       "\t<tr><td>Female</td><td>-0.588</td><td>19.708</td></tr>\n",
       "\t<tr><td>Male  </td><td>-0.528</td><td>20.349</td></tr>\n",
       "\t<tr><td>Male  </td><td>-0.668</td><td> 8.781</td></tr>\n",
       "\t<tr><td>Male  </td><td>-0.158</td><td>17.898</td></tr>\n",
       "\t<tr><td>Male  </td><td> 0.022</td><td> 4.583</td></tr>\n",
       "</tbody>\n",
       "</table>\n"
      ],
      "text/latex": [
       "\\begin{tabular}{r|lll}\n",
       " Sex & SES & MathAch\\\\\n",
       "\\hline\n",
       "\t Female & -1.528 &  5.876\\\\\n",
       "\t Female & -0.588 & 19.708\\\\\n",
       "\t Male   & -0.528 & 20.349\\\\\n",
       "\t Male   & -0.668 &  8.781\\\\\n",
       "\t Male   & -0.158 & 17.898\\\\\n",
       "\t Male   &  0.022 &  4.583\\\\\n",
       "\\end{tabular}\n"
      ],
      "text/markdown": [
       "\n",
       "Sex | SES | MathAch | \n",
       "|---|---|---|---|---|---|\n",
       "| Female | -1.528 |  5.876 | \n",
       "| Female | -0.588 | 19.708 | \n",
       "| Male   | -0.528 | 20.349 | \n",
       "| Male   | -0.668 |  8.781 | \n",
       "| Male   | -0.158 | 17.898 | \n",
       "| Male   |  0.022 |  4.583 | \n",
       "\n",
       "\n"
      ],
      "text/plain": [
       "  Sex    SES    MathAch\n",
       "1 Female -1.528  5.876 \n",
       "2 Female -0.588 19.708 \n",
       "3 Male   -0.528 20.349 \n",
       "4 Male   -0.668  8.781 \n",
       "5 Male   -0.158 17.898 \n",
       "6 Male    0.022  4.583 "
      ]
     },
     "metadata": {},
     "output_type": "display_data"
    }
   ],
   "source": [
    "select(dat, Sex, SES, MathAch)  %>% head()"
   ]
  },
  {
   "cell_type": "markdown",
   "metadata": {},
   "source": [
    "* If you want to remove only specific variables, list each with a - sign:"
   ]
  },
  {
   "cell_type": "code",
   "execution_count": 20,
   "metadata": {},
   "outputs": [
    {
     "data": {
      "text/html": [
       "<table>\n",
       "<thead><tr><th scope=col>Minority</th><th scope=col>Sex</th><th scope=col>SES</th><th scope=col>MathAch</th><th scope=col>MEANSES</th><th scope=col>centered_math</th><th scope=col>n_students</th></tr></thead>\n",
       "<tbody>\n",
       "\t<tr><td>No       </td><td>Female   </td><td>-1.528   </td><td> 5.876   </td><td>-0.428   </td><td>-6.871853</td><td>7185     </td></tr>\n",
       "\t<tr><td>No       </td><td>Female   </td><td>-0.588   </td><td>19.708   </td><td>-0.428   </td><td> 6.960147</td><td>7185     </td></tr>\n",
       "\t<tr><td>No       </td><td>Male     </td><td>-0.528   </td><td>20.349   </td><td>-0.428   </td><td> 7.601147</td><td>7185     </td></tr>\n",
       "\t<tr><td>No       </td><td>Male     </td><td>-0.668   </td><td> 8.781   </td><td>-0.428   </td><td>-3.966853</td><td>7185     </td></tr>\n",
       "\t<tr><td>No       </td><td>Male     </td><td>-0.158   </td><td>17.898   </td><td>-0.428   </td><td> 5.150147</td><td>7185     </td></tr>\n",
       "\t<tr><td>No       </td><td>Male     </td><td> 0.022   </td><td> 4.583   </td><td>-0.428   </td><td>-8.164853</td><td>7185     </td></tr>\n",
       "</tbody>\n",
       "</table>\n"
      ],
      "text/latex": [
       "\\begin{tabular}{r|lllllll}\n",
       " Minority & Sex & SES & MathAch & MEANSES & centered\\_math & n\\_students\\\\\n",
       "\\hline\n",
       "\t No        & Female    & -1.528    &  5.876    & -0.428    & -6.871853 & 7185     \\\\\n",
       "\t No        & Female    & -0.588    & 19.708    & -0.428    &  6.960147 & 7185     \\\\\n",
       "\t No        & Male      & -0.528    & 20.349    & -0.428    &  7.601147 & 7185     \\\\\n",
       "\t No        & Male      & -0.668    &  8.781    & -0.428    & -3.966853 & 7185     \\\\\n",
       "\t No        & Male      & -0.158    & 17.898    & -0.428    &  5.150147 & 7185     \\\\\n",
       "\t No        & Male      &  0.022    &  4.583    & -0.428    & -8.164853 & 7185     \\\\\n",
       "\\end{tabular}\n"
      ],
      "text/markdown": [
       "\n",
       "Minority | Sex | SES | MathAch | MEANSES | centered_math | n_students | \n",
       "|---|---|---|---|---|---|\n",
       "| No        | Female    | -1.528    |  5.876    | -0.428    | -6.871853 | 7185      | \n",
       "| No        | Female    | -0.588    | 19.708    | -0.428    |  6.960147 | 7185      | \n",
       "| No        | Male      | -0.528    | 20.349    | -0.428    |  7.601147 | 7185      | \n",
       "| No        | Male      | -0.668    |  8.781    | -0.428    | -3.966853 | 7185      | \n",
       "| No        | Male      | -0.158    | 17.898    | -0.428    |  5.150147 | 7185      | \n",
       "| No        | Male      |  0.022    |  4.583    | -0.428    | -8.164853 | 7185      | \n",
       "\n",
       "\n"
      ],
      "text/plain": [
       "  Minority Sex    SES    MathAch MEANSES centered_math n_students\n",
       "1 No       Female -1.528  5.876  -0.428  -6.871853     7185      \n",
       "2 No       Female -0.588 19.708  -0.428   6.960147     7185      \n",
       "3 No       Male   -0.528 20.349  -0.428   7.601147     7185      \n",
       "4 No       Male   -0.668  8.781  -0.428  -3.966853     7185      \n",
       "5 No       Male   -0.158 17.898  -0.428   5.150147     7185      \n",
       "6 No       Male    0.022  4.583  -0.428  -8.164853     7185      "
      ]
     },
     "metadata": {},
     "output_type": "display_data"
    }
   ],
   "source": [
    "select(dat, -School, -SES_zscores)  %>% head()"
   ]
  },
  {
   "cell_type": "markdown",
   "metadata": {},
   "source": [
    "* If you want to keep a sequence of neighboring variables, you can specify the first and the last using a range:"
   ]
  },
  {
   "cell_type": "code",
   "execution_count": 21,
   "metadata": {},
   "outputs": [
    {
     "data": {
      "text/html": [
       "<table>\n",
       "<thead><tr><th scope=col>Sex</th><th scope=col>SES</th><th scope=col>MathAch</th><th scope=col>MEANSES</th></tr></thead>\n",
       "<tbody>\n",
       "\t<tr><td>Female</td><td>-1.528</td><td> 5.876</td><td>-0.428</td></tr>\n",
       "\t<tr><td>Female</td><td>-0.588</td><td>19.708</td><td>-0.428</td></tr>\n",
       "\t<tr><td>Male  </td><td>-0.528</td><td>20.349</td><td>-0.428</td></tr>\n",
       "\t<tr><td>Male  </td><td>-0.668</td><td> 8.781</td><td>-0.428</td></tr>\n",
       "\t<tr><td>Male  </td><td>-0.158</td><td>17.898</td><td>-0.428</td></tr>\n",
       "\t<tr><td>Male  </td><td> 0.022</td><td> 4.583</td><td>-0.428</td></tr>\n",
       "</tbody>\n",
       "</table>\n"
      ],
      "text/latex": [
       "\\begin{tabular}{r|llll}\n",
       " Sex & SES & MathAch & MEANSES\\\\\n",
       "\\hline\n",
       "\t Female & -1.528 &  5.876 & -0.428\\\\\n",
       "\t Female & -0.588 & 19.708 & -0.428\\\\\n",
       "\t Male   & -0.528 & 20.349 & -0.428\\\\\n",
       "\t Male   & -0.668 &  8.781 & -0.428\\\\\n",
       "\t Male   & -0.158 & 17.898 & -0.428\\\\\n",
       "\t Male   &  0.022 &  4.583 & -0.428\\\\\n",
       "\\end{tabular}\n"
      ],
      "text/markdown": [
       "\n",
       "Sex | SES | MathAch | MEANSES | \n",
       "|---|---|---|---|---|---|\n",
       "| Female | -1.528 |  5.876 | -0.428 | \n",
       "| Female | -0.588 | 19.708 | -0.428 | \n",
       "| Male   | -0.528 | 20.349 | -0.428 | \n",
       "| Male   | -0.668 |  8.781 | -0.428 | \n",
       "| Male   | -0.158 | 17.898 | -0.428 | \n",
       "| Male   |  0.022 |  4.583 | -0.428 | \n",
       "\n",
       "\n"
      ],
      "text/plain": [
       "  Sex    SES    MathAch MEANSES\n",
       "1 Female -1.528  5.876  -0.428 \n",
       "2 Female -0.588 19.708  -0.428 \n",
       "3 Male   -0.528 20.349  -0.428 \n",
       "4 Male   -0.668  8.781  -0.428 \n",
       "5 Male   -0.158 17.898  -0.428 \n",
       "6 Male    0.022  4.583  -0.428 "
      ]
     },
     "metadata": {},
     "output_type": "display_data"
    }
   ],
   "source": [
    "select(dat, Sex:MEANSES)  %>% head()"
   ]
  },
  {
   "cell_type": "markdown",
   "metadata": {},
   "source": [
    "### 4.5 Sorting the data.frame by a column/s - arrange()"
   ]
  },
  {
   "cell_type": "markdown",
   "metadata": {},
   "source": [
    "If you want to sort your data.frame by one or more columns you can use the arrange() command, where you list the variables in the order in which you want the sorting to occur. The default is to do ascending order for each variable. If you want descending order for one of them, you can surrond the variable in the desc(variable) command. Let's sort the school by descending number and then within each school, by aschending MathAch:"
   ]
  },
  {
   "cell_type": "code",
   "execution_count": 22,
   "metadata": {},
   "outputs": [
    {
     "data": {
      "text/html": [
       "<table>\n",
       "<thead><tr><th scope=col>School</th><th scope=col>Minority</th><th scope=col>Sex</th><th scope=col>SES</th><th scope=col>MathAch</th><th scope=col>MEANSES</th><th scope=col>centered_math</th><th scope=col>SES_zscores</th><th scope=col>n_students</th></tr></thead>\n",
       "<tbody>\n",
       "\t<tr><td>9586      </td><td>No        </td><td>Female    </td><td>1.212     </td><td>-2.832    </td><td>0.627     </td><td>-15.579853</td><td>1.5549478 </td><td>7185      </td></tr>\n",
       "\t<tr><td>9586      </td><td>No        </td><td>Female    </td><td>0.912     </td><td> 2.521    </td><td>0.627     </td><td>-10.226853</td><td>1.1700142 </td><td>7185      </td></tr>\n",
       "\t<tr><td>9586      </td><td>No        </td><td>Female    </td><td>0.602     </td><td> 4.021    </td><td>0.627     </td><td> -8.726853</td><td>0.7722495 </td><td>7185      </td></tr>\n",
       "\t<tr><td>9586      </td><td>No        </td><td>Female    </td><td>0.952     </td><td> 4.244    </td><td>0.627     </td><td> -8.503853</td><td>1.2213387 </td><td>7185      </td></tr>\n",
       "\t<tr><td>9586      </td><td>No        </td><td>Female    </td><td>0.762     </td><td> 5.112    </td><td>0.627     </td><td> -7.635853</td><td>0.9775474 </td><td>7185      </td></tr>\n",
       "\t<tr><td>9586      </td><td>No        </td><td>Female    </td><td>0.762     </td><td> 5.443    </td><td>0.627     </td><td> -7.304853</td><td>0.9775474 </td><td>7185      </td></tr>\n",
       "</tbody>\n",
       "</table>\n"
      ],
      "text/latex": [
       "\\begin{tabular}{r|lllllllll}\n",
       " School & Minority & Sex & SES & MathAch & MEANSES & centered\\_math & SES\\_zscores & n\\_students\\\\\n",
       "\\hline\n",
       "\t 9586       & No         & Female     & 1.212      & -2.832     & 0.627      & -15.579853 & 1.5549478  & 7185      \\\\\n",
       "\t 9586       & No         & Female     & 0.912      &  2.521     & 0.627      & -10.226853 & 1.1700142  & 7185      \\\\\n",
       "\t 9586       & No         & Female     & 0.602      &  4.021     & 0.627      &  -8.726853 & 0.7722495  & 7185      \\\\\n",
       "\t 9586       & No         & Female     & 0.952      &  4.244     & 0.627      &  -8.503853 & 1.2213387  & 7185      \\\\\n",
       "\t 9586       & No         & Female     & 0.762      &  5.112     & 0.627      &  -7.635853 & 0.9775474  & 7185      \\\\\n",
       "\t 9586       & No         & Female     & 0.762      &  5.443     & 0.627      &  -7.304853 & 0.9775474  & 7185      \\\\\n",
       "\\end{tabular}\n"
      ],
      "text/markdown": [
       "\n",
       "School | Minority | Sex | SES | MathAch | MEANSES | centered_math | SES_zscores | n_students | \n",
       "|---|---|---|---|---|---|\n",
       "| 9586       | No         | Female     | 1.212      | -2.832     | 0.627      | -15.579853 | 1.5549478  | 7185       | \n",
       "| 9586       | No         | Female     | 0.912      |  2.521     | 0.627      | -10.226853 | 1.1700142  | 7185       | \n",
       "| 9586       | No         | Female     | 0.602      |  4.021     | 0.627      |  -8.726853 | 0.7722495  | 7185       | \n",
       "| 9586       | No         | Female     | 0.952      |  4.244     | 0.627      |  -8.503853 | 1.2213387  | 7185       | \n",
       "| 9586       | No         | Female     | 0.762      |  5.112     | 0.627      |  -7.635853 | 0.9775474  | 7185       | \n",
       "| 9586       | No         | Female     | 0.762      |  5.443     | 0.627      |  -7.304853 | 0.9775474  | 7185       | \n",
       "\n",
       "\n"
      ],
      "text/plain": [
       "  School Minority Sex    SES   MathAch MEANSES centered_math SES_zscores\n",
       "1 9586   No       Female 1.212 -2.832  0.627   -15.579853    1.5549478  \n",
       "2 9586   No       Female 0.912  2.521  0.627   -10.226853    1.1700142  \n",
       "3 9586   No       Female 0.602  4.021  0.627    -8.726853    0.7722495  \n",
       "4 9586   No       Female 0.952  4.244  0.627    -8.503853    1.2213387  \n",
       "5 9586   No       Female 0.762  5.112  0.627    -7.635853    0.9775474  \n",
       "6 9586   No       Female 0.762  5.443  0.627    -7.304853    0.9775474  \n",
       "  n_students\n",
       "1 7185      \n",
       "2 7185      \n",
       "3 7185      \n",
       "4 7185      \n",
       "5 7185      \n",
       "6 7185      "
      ]
     },
     "metadata": {},
     "output_type": "display_data"
    }
   ],
   "source": [
    "arrange(dat, desc(School), MathAch)  %>% head()"
   ]
  },
  {
   "cell_type": "markdown",
   "metadata": {},
   "source": [
    "### 4.6 combine/concatenate values from two columns into one - unite()"
   ]
  },
  {
   "cell_type": "markdown",
   "metadata": {},
   "source": [
    "Right now minority and sex are two different variables. Let's say for some reason you want a new variable that specifies both, e.g. 'Female minority', 'Male minority', 'Female non-minority', 'Male non-minority'. This is often required when you are plotting and you want to use let's say 4 colors to denote each of the 4 categories, rather than using colors and size/shape, for example for two variables. You can combine variables with the unite() command. I'll first transform the minority command to say 'Minority' or 'Nonminority', not Yes or No, as it is now (if you are not familiar with the ifelse command, check the help):"
   ]
  },
  {
   "cell_type": "code",
   "execution_count": 23,
   "metadata": {},
   "outputs": [
    {
     "data": {
      "text/html": [
       "<table>\n",
       "<thead><tr><th scope=col>School</th><th scope=col>Combined_var</th><th scope=col>Minority</th><th scope=col>Sex</th><th scope=col>SES</th><th scope=col>MathAch</th><th scope=col>MEANSES</th><th scope=col>centered_math</th><th scope=col>SES_zscores</th><th scope=col>n_students</th></tr></thead>\n",
       "<tbody>\n",
       "\t<tr><td>1224              </td><td>Female_Nonminority</td><td>Nonminority       </td><td>Female            </td><td>-1.528            </td><td> 5.876            </td><td>-0.428            </td><td>-6.871853         </td><td>-1.96077907       </td><td>7185              </td></tr>\n",
       "\t<tr><td>1224              </td><td>Female_Nonminority</td><td>Nonminority       </td><td>Female            </td><td>-0.588            </td><td>19.708            </td><td>-0.428            </td><td> 6.960147         </td><td>-0.75465379       </td><td>7185              </td></tr>\n",
       "\t<tr><td>1224              </td><td>Male_Nonminority  </td><td>Nonminority       </td><td>Male              </td><td>-0.528            </td><td>20.349            </td><td>-0.428            </td><td> 7.601147         </td><td>-0.67766707       </td><td>7185              </td></tr>\n",
       "\t<tr><td>1224              </td><td>Male_Nonminority  </td><td>Nonminority       </td><td>Male              </td><td>-0.668            </td><td> 8.781            </td><td>-0.428            </td><td>-3.966853         </td><td>-0.85730275       </td><td>7185              </td></tr>\n",
       "\t<tr><td>1224              </td><td>Male_Nonminority  </td><td>Nonminority       </td><td>Male              </td><td>-0.158            </td><td>17.898            </td><td>-0.428            </td><td> 5.150147         </td><td>-0.20291563       </td><td>7185              </td></tr>\n",
       "\t<tr><td>1224              </td><td>Male_Nonminority  </td><td>Nonminority       </td><td>Male              </td><td> 0.022            </td><td> 4.583            </td><td>-0.428            </td><td>-8.164853         </td><td> 0.02804452       </td><td>7185              </td></tr>\n",
       "</tbody>\n",
       "</table>\n"
      ],
      "text/latex": [
       "\\begin{tabular}{r|llllllllll}\n",
       " School & Combined\\_var & Minority & Sex & SES & MathAch & MEANSES & centered\\_math & SES\\_zscores & n\\_students\\\\\n",
       "\\hline\n",
       "\t 1224                 & Female\\_Nonminority & Nonminority          & Female               & -1.528               &  5.876               & -0.428               & -6.871853            & -1.96077907          & 7185                \\\\\n",
       "\t 1224                 & Female\\_Nonminority & Nonminority          & Female               & -0.588               & 19.708               & -0.428               &  6.960147            & -0.75465379          & 7185                \\\\\n",
       "\t 1224                 & Male\\_Nonminority   & Nonminority          & Male                 & -0.528               & 20.349               & -0.428               &  7.601147            & -0.67766707          & 7185                \\\\\n",
       "\t 1224                 & Male\\_Nonminority   & Nonminority          & Male                 & -0.668               &  8.781               & -0.428               & -3.966853            & -0.85730275          & 7185                \\\\\n",
       "\t 1224                 & Male\\_Nonminority   & Nonminority          & Male                 & -0.158               & 17.898               & -0.428               &  5.150147            & -0.20291563          & 7185                \\\\\n",
       "\t 1224                 & Male\\_Nonminority   & Nonminority          & Male                 &  0.022               &  4.583               & -0.428               & -8.164853            &  0.02804452          & 7185                \\\\\n",
       "\\end{tabular}\n"
      ],
      "text/markdown": [
       "\n",
       "School | Combined_var | Minority | Sex | SES | MathAch | MEANSES | centered_math | SES_zscores | n_students | \n",
       "|---|---|---|---|---|---|\n",
       "| 1224               | Female_Nonminority | Nonminority        | Female             | -1.528             |  5.876             | -0.428             | -6.871853          | -1.96077907        | 7185               | \n",
       "| 1224               | Female_Nonminority | Nonminority        | Female             | -0.588             | 19.708             | -0.428             |  6.960147          | -0.75465379        | 7185               | \n",
       "| 1224               | Male_Nonminority   | Nonminority        | Male               | -0.528             | 20.349             | -0.428             |  7.601147          | -0.67766707        | 7185               | \n",
       "| 1224               | Male_Nonminority   | Nonminority        | Male               | -0.668             |  8.781             | -0.428             | -3.966853          | -0.85730275        | 7185               | \n",
       "| 1224               | Male_Nonminority   | Nonminority        | Male               | -0.158             | 17.898             | -0.428             |  5.150147          | -0.20291563        | 7185               | \n",
       "| 1224               | Male_Nonminority   | Nonminority        | Male               |  0.022             |  4.583             | -0.428             | -8.164853          |  0.02804452        | 7185               | \n",
       "\n",
       "\n"
      ],
      "text/plain": [
       "  School Combined_var       Minority    Sex    SES    MathAch MEANSES\n",
       "1 1224   Female_Nonminority Nonminority Female -1.528  5.876  -0.428 \n",
       "2 1224   Female_Nonminority Nonminority Female -0.588 19.708  -0.428 \n",
       "3 1224   Male_Nonminority   Nonminority Male   -0.528 20.349  -0.428 \n",
       "4 1224   Male_Nonminority   Nonminority Male   -0.668  8.781  -0.428 \n",
       "5 1224   Male_Nonminority   Nonminority Male   -0.158 17.898  -0.428 \n",
       "6 1224   Male_Nonminority   Nonminority Male    0.022  4.583  -0.428 \n",
       "  centered_math SES_zscores n_students\n",
       "1 -6.871853     -1.96077907 7185      \n",
       "2  6.960147     -0.75465379 7185      \n",
       "3  7.601147     -0.67766707 7185      \n",
       "4 -3.966853     -0.85730275 7185      \n",
       "5  5.150147     -0.20291563 7185      \n",
       "6 -8.164853      0.02804452 7185      "
      ]
     },
     "metadata": {},
     "output_type": "display_data"
    }
   ],
   "source": [
    "dat <- dat  %>% \n",
    "    mutate(Minority = ifelse(Minority == 'Yes', 'Minority', 'Nonminority'))  %>% \n",
    "    unite(Combined_var, Sex, Minority, remove=FALSE)\n",
    "head(dat)"
   ]
  },
  {
   "cell_type": "markdown",
   "metadata": {},
   "source": [
    "You can also specify the separator (by default it is '\\_') and whether to remove the original variables. Check the help section."
   ]
  },
  {
   "cell_type": "markdown",
   "metadata": {},
   "source": [
    "### 4.7 split variable into multiple variables - separate()"
   ]
  },
  {
   "cell_type": "markdown",
   "metadata": {},
   "source": [
    "The reverse of the operation above is called `separate()`. It becomes useful, for example, if you have the name of subjects stored in one variable, but you want to separate it into First and Last name. For the illustration, I will just reverse the above example (adding 1 to the new variables, to distinguish them from the existing Minority and Sex variables):"
   ]
  },
  {
   "cell_type": "code",
   "execution_count": 24,
   "metadata": {},
   "outputs": [
    {
     "data": {
      "text/html": [
       "<table>\n",
       "<thead><tr><th scope=col>School</th><th scope=col>Sex1</th><th scope=col>Minority1</th><th scope=col>Minority</th><th scope=col>Sex</th><th scope=col>SES</th><th scope=col>MathAch</th><th scope=col>MEANSES</th><th scope=col>centered_math</th><th scope=col>SES_zscores</th><th scope=col>n_students</th></tr></thead>\n",
       "<tbody>\n",
       "\t<tr><td>1224       </td><td>Female     </td><td>Nonminority</td><td>Nonminority</td><td>Female     </td><td>-1.528     </td><td> 5.876     </td><td>-0.428     </td><td>-6.871853  </td><td>-1.96077907</td><td>7185       </td></tr>\n",
       "\t<tr><td>1224       </td><td>Female     </td><td>Nonminority</td><td>Nonminority</td><td>Female     </td><td>-0.588     </td><td>19.708     </td><td>-0.428     </td><td> 6.960147  </td><td>-0.75465379</td><td>7185       </td></tr>\n",
       "\t<tr><td>1224       </td><td>Male       </td><td>Nonminority</td><td>Nonminority</td><td>Male       </td><td>-0.528     </td><td>20.349     </td><td>-0.428     </td><td> 7.601147  </td><td>-0.67766707</td><td>7185       </td></tr>\n",
       "\t<tr><td>1224       </td><td>Male       </td><td>Nonminority</td><td>Nonminority</td><td>Male       </td><td>-0.668     </td><td> 8.781     </td><td>-0.428     </td><td>-3.966853  </td><td>-0.85730275</td><td>7185       </td></tr>\n",
       "\t<tr><td>1224       </td><td>Male       </td><td>Nonminority</td><td>Nonminority</td><td>Male       </td><td>-0.158     </td><td>17.898     </td><td>-0.428     </td><td> 5.150147  </td><td>-0.20291563</td><td>7185       </td></tr>\n",
       "\t<tr><td>1224       </td><td>Male       </td><td>Nonminority</td><td>Nonminority</td><td>Male       </td><td> 0.022     </td><td> 4.583     </td><td>-0.428     </td><td>-8.164853  </td><td> 0.02804452</td><td>7185       </td></tr>\n",
       "</tbody>\n",
       "</table>\n"
      ],
      "text/latex": [
       "\\begin{tabular}{r|lllllllllll}\n",
       " School & Sex1 & Minority1 & Minority & Sex & SES & MathAch & MEANSES & centered\\_math & SES\\_zscores & n\\_students\\\\\n",
       "\\hline\n",
       "\t 1224        & Female      & Nonminority & Nonminority & Female      & -1.528      &  5.876      & -0.428      & -6.871853   & -1.96077907 & 7185       \\\\\n",
       "\t 1224        & Female      & Nonminority & Nonminority & Female      & -0.588      & 19.708      & -0.428      &  6.960147   & -0.75465379 & 7185       \\\\\n",
       "\t 1224        & Male        & Nonminority & Nonminority & Male        & -0.528      & 20.349      & -0.428      &  7.601147   & -0.67766707 & 7185       \\\\\n",
       "\t 1224        & Male        & Nonminority & Nonminority & Male        & -0.668      &  8.781      & -0.428      & -3.966853   & -0.85730275 & 7185       \\\\\n",
       "\t 1224        & Male        & Nonminority & Nonminority & Male        & -0.158      & 17.898      & -0.428      &  5.150147   & -0.20291563 & 7185       \\\\\n",
       "\t 1224        & Male        & Nonminority & Nonminority & Male        &  0.022      &  4.583      & -0.428      & -8.164853   &  0.02804452 & 7185       \\\\\n",
       "\\end{tabular}\n"
      ],
      "text/markdown": [
       "\n",
       "School | Sex1 | Minority1 | Minority | Sex | SES | MathAch | MEANSES | centered_math | SES_zscores | n_students | \n",
       "|---|---|---|---|---|---|\n",
       "| 1224        | Female      | Nonminority | Nonminority | Female      | -1.528      |  5.876      | -0.428      | -6.871853   | -1.96077907 | 7185        | \n",
       "| 1224        | Female      | Nonminority | Nonminority | Female      | -0.588      | 19.708      | -0.428      |  6.960147   | -0.75465379 | 7185        | \n",
       "| 1224        | Male        | Nonminority | Nonminority | Male        | -0.528      | 20.349      | -0.428      |  7.601147   | -0.67766707 | 7185        | \n",
       "| 1224        | Male        | Nonminority | Nonminority | Male        | -0.668      |  8.781      | -0.428      | -3.966853   | -0.85730275 | 7185        | \n",
       "| 1224        | Male        | Nonminority | Nonminority | Male        | -0.158      | 17.898      | -0.428      |  5.150147   | -0.20291563 | 7185        | \n",
       "| 1224        | Male        | Nonminority | Nonminority | Male        |  0.022      |  4.583      | -0.428      | -8.164853   |  0.02804452 | 7185        | \n",
       "\n",
       "\n"
      ],
      "text/plain": [
       "  School Sex1   Minority1   Minority    Sex    SES    MathAch MEANSES\n",
       "1 1224   Female Nonminority Nonminority Female -1.528  5.876  -0.428 \n",
       "2 1224   Female Nonminority Nonminority Female -0.588 19.708  -0.428 \n",
       "3 1224   Male   Nonminority Nonminority Male   -0.528 20.349  -0.428 \n",
       "4 1224   Male   Nonminority Nonminority Male   -0.668  8.781  -0.428 \n",
       "5 1224   Male   Nonminority Nonminority Male   -0.158 17.898  -0.428 \n",
       "6 1224   Male   Nonminority Nonminority Male    0.022  4.583  -0.428 \n",
       "  centered_math SES_zscores n_students\n",
       "1 -6.871853     -1.96077907 7185      \n",
       "2  6.960147     -0.75465379 7185      \n",
       "3  7.601147     -0.67766707 7185      \n",
       "4 -3.966853     -0.85730275 7185      \n",
       "5  5.150147     -0.20291563 7185      \n",
       "6 -8.164853      0.02804452 7185      "
      ]
     },
     "metadata": {},
     "output_type": "display_data"
    }
   ],
   "source": [
    "dat <- dat  %>% \n",
    "    separate(Combined_var, into=c('Sex1', 'Minority1'))\n",
    "head(dat)"
   ]
  },
  {
   "cell_type": "markdown",
   "metadata": {},
   "source": [
    "## 5. Performing the same operation for multiple group and combining the results"
   ]
  },
  {
   "cell_type": "markdown",
   "metadata": {},
   "source": [
    "In the filtering example, we saw how to subset the data.frame separately for males and females, and then to calculate the summaries. This is inefficient and also creates two separate data.frames. While you can join them manually afterwards, there is a much easier way with the **`group_by`** command.\n",
    "\n",
    "When you pass a data.frame to a **group_by** command, you can specify names of variables, by which to split the data.frame. For example, if we specify the Minority and Sex variables in the group_by command, the data.frame will be **_implicitely_** split into 4 data.frames - one for each combination of minority status and sex. E.g.:"
   ]
  },
  {
   "cell_type": "code",
   "execution_count": 25,
   "metadata": {},
   "outputs": [
    {
     "name": "stdout",
     "output_type": "stream",
     "text": [
      "# A tibble: 7,185 x 11\n",
      "# Groups:   Minority, Sex [4]\n",
      "   School   Sex1   Minority1    Minority    Sex    SES MathAch MEANSES\n",
      " *  <ord>  <chr>       <chr>       <chr> <fctr>  <dbl>   <dbl>   <dbl>\n",
      " 1   1224 Female Nonminority Nonminority Female -1.528   5.876  -0.428\n",
      " 2   1224 Female Nonminority Nonminority Female -0.588  19.708  -0.428\n",
      " 3   1224   Male Nonminority Nonminority   Male -0.528  20.349  -0.428\n",
      " 4   1224   Male Nonminority Nonminority   Male -0.668   8.781  -0.428\n",
      " 5   1224   Male Nonminority Nonminority   Male -0.158  17.898  -0.428\n",
      " 6   1224   Male Nonminority Nonminority   Male  0.022   4.583  -0.428\n",
      " 7   1224 Female Nonminority Nonminority Female -0.618  -2.832  -0.428\n",
      " 8   1224   Male Nonminority Nonminority   Male -0.998   0.523  -0.428\n",
      " 9   1224 Female Nonminority Nonminority Female -0.888   1.527  -0.428\n",
      "10   1224   Male Nonminority Nonminority   Male -0.458  21.521  -0.428\n",
      "# ... with 7,175 more rows, and 3 more variables: centered_math <dbl>,\n",
      "#   SES_zscores <dbl>, n_students <int>\n"
     ]
    }
   ],
   "source": [
    "dat  %>% \n",
    "    group_by(Minority, Sex)  %>% \n",
    "    print()"
   ]
  },
  {
   "cell_type": "markdown",
   "metadata": {},
   "source": [
    "Now, the key is that the split is implicit - as you can see above, we still only have one data.frame, but now it has the specification:\n",
    "\n",
    "`# Groups:   Minority, Sex [4]`\n",
    "\n",
    "Every function that you add after group_by, will be evaluated separately for each group, and then the results will be combined. Let's say you want to calculate the mean and sd for SES and MathAch separately for the four groups:"
   ]
  },
  {
   "cell_type": "code",
   "execution_count": 26,
   "metadata": {},
   "outputs": [
    {
     "data": {
      "text/html": [
       "<table>\n",
       "<thead><tr><th scope=col>Minority</th><th scope=col>Sex</th><th scope=col>ses_mean</th><th scope=col>ses_sd</th><th scope=col>math_mean</th><th scope=col>math_sd</th></tr></thead>\n",
       "<tbody>\n",
       "\t<tr><td>Minority   </td><td>Male       </td><td>-0.31357756</td><td>0.8123146  </td><td>10.509925  </td><td>6.788882   </td></tr>\n",
       "\t<tr><td>Minority   </td><td>Female     </td><td>-0.36915493</td><td>0.8351889  </td><td> 9.106734  </td><td>6.265036   </td></tr>\n",
       "\t<tr><td>Nonminority</td><td>Male       </td><td> 0.19153245</td><td>0.7158262  </td><td>14.791998  </td><td>6.741109   </td></tr>\n",
       "\t<tr><td>Nonminority</td><td>Female     </td><td> 0.07473626</td><td>0.7189631  </td><td>13.055744  </td><td>6.470899   </td></tr>\n",
       "</tbody>\n",
       "</table>\n"
      ],
      "text/latex": [
       "\\begin{tabular}{r|llllll}\n",
       " Minority & Sex & ses\\_mean & ses\\_sd & math\\_mean & math\\_sd\\\\\n",
       "\\hline\n",
       "\t Minority    & Male        & -0.31357756 & 0.8123146   & 10.509925   & 6.788882   \\\\\n",
       "\t Minority    & Female      & -0.36915493 & 0.8351889   &  9.106734   & 6.265036   \\\\\n",
       "\t Nonminority & Male        &  0.19153245 & 0.7158262   & 14.791998   & 6.741109   \\\\\n",
       "\t Nonminority & Female      &  0.07473626 & 0.7189631   & 13.055744   & 6.470899   \\\\\n",
       "\\end{tabular}\n"
      ],
      "text/markdown": [
       "\n",
       "Minority | Sex | ses_mean | ses_sd | math_mean | math_sd | \n",
       "|---|---|---|---|\n",
       "| Minority    | Male        | -0.31357756 | 0.8123146   | 10.509925   | 6.788882    | \n",
       "| Minority    | Female      | -0.36915493 | 0.8351889   |  9.106734   | 6.265036    | \n",
       "| Nonminority | Male        |  0.19153245 | 0.7158262   | 14.791998   | 6.741109    | \n",
       "| Nonminority | Female      |  0.07473626 | 0.7189631   | 13.055744   | 6.470899    | \n",
       "\n",
       "\n"
      ],
      "text/plain": [
       "  Minority    Sex    ses_mean    ses_sd    math_mean math_sd \n",
       "1 Minority    Male   -0.31357756 0.8123146 10.509925 6.788882\n",
       "2 Minority    Female -0.36915493 0.8351889  9.106734 6.265036\n",
       "3 Nonminority Male    0.19153245 0.7158262 14.791998 6.741109\n",
       "4 Nonminority Female  0.07473626 0.7189631 13.055744 6.470899"
      ]
     },
     "metadata": {},
     "output_type": "display_data"
    }
   ],
   "source": [
    "dat  %>% \n",
    "    group_by(Minority, Sex)  %>% \n",
    "    summarise(ses_mean = mean(SES),\n",
    "              ses_sd = sd(SES),\n",
    "              math_mean = mean(MathAch),\n",
    "              math_sd = sd(MathAch))"
   ]
  },
  {
   "cell_type": "markdown",
   "metadata": {},
   "source": [
    "You easily get the resulting data.frame! If you have tried to do this in base R, you know how involved it is! What is going on behind the scenes is that the data.frame is separated into multiple data.frames, one for each combination of variables. Then the summarise function is executed on each, and the resulting 4 data.frames are automatically combined into a new resulting data.frame.\n",
    "\n",
    "The group_by command works not only with `summarise`, but also with `transform`. While with summarise it creates a new data.frame with summary results, with transform it creates a new variable that is calculated separately for each group, and then combined into the final data.frame. This is useful, when, for example, we want to standardize variables within groups. Earlier we saw how to remove the overall mean of MathAch. Let's say, that we want to remove the mean of each school from only from the scores of that student. This is done for example when standardizing IQ scores across countries - the test is standardized to have a mean of 100 for the local population. So, for our example we can do:"
   ]
  },
  {
   "cell_type": "code",
   "execution_count": 27,
   "metadata": {},
   "outputs": [
    {
     "data": {
      "text/html": [
       "<table>\n",
       "<thead><tr><th scope=col>School</th><th scope=col>Sex1</th><th scope=col>Minority1</th><th scope=col>Minority</th><th scope=col>Sex</th><th scope=col>SES</th><th scope=col>MathAch</th><th scope=col>MEANSES</th><th scope=col>centered_math</th><th scope=col>SES_zscores</th><th scope=col>n_students</th><th scope=col>math_centered_overall</th><th scope=col>math_centered_byschool</th></tr></thead>\n",
       "<tbody>\n",
       "\t<tr><td>1224       </td><td>Female     </td><td>Nonminority</td><td>Nonminority</td><td>Female     </td><td>-1.528     </td><td> 5.876     </td><td>-0.428     </td><td>-6.871853  </td><td>-1.96077907</td><td>7185       </td><td>-6.871853  </td><td>-3.8394468 </td></tr>\n",
       "\t<tr><td>1224       </td><td>Female     </td><td>Nonminority</td><td>Nonminority</td><td>Female     </td><td>-0.588     </td><td>19.708     </td><td>-0.428     </td><td> 6.960147  </td><td>-0.75465379</td><td>7185       </td><td> 6.960147  </td><td> 9.9925532 </td></tr>\n",
       "\t<tr><td>1224       </td><td>Male       </td><td>Nonminority</td><td>Nonminority</td><td>Male       </td><td>-0.528     </td><td>20.349     </td><td>-0.428     </td><td> 7.601147  </td><td>-0.67766707</td><td>7185       </td><td> 7.601147  </td><td>10.6335532 </td></tr>\n",
       "\t<tr><td>1224       </td><td>Male       </td><td>Nonminority</td><td>Nonminority</td><td>Male       </td><td>-0.668     </td><td> 8.781     </td><td>-0.428     </td><td>-3.966853  </td><td>-0.85730275</td><td>7185       </td><td>-3.966853  </td><td>-0.9344468 </td></tr>\n",
       "\t<tr><td>1224       </td><td>Male       </td><td>Nonminority</td><td>Nonminority</td><td>Male       </td><td>-0.158     </td><td>17.898     </td><td>-0.428     </td><td> 5.150147  </td><td>-0.20291563</td><td>7185       </td><td> 5.150147  </td><td> 8.1825532 </td></tr>\n",
       "\t<tr><td>1224       </td><td>Male       </td><td>Nonminority</td><td>Nonminority</td><td>Male       </td><td> 0.022     </td><td> 4.583     </td><td>-0.428     </td><td>-8.164853  </td><td> 0.02804452</td><td>7185       </td><td>-8.164853  </td><td>-5.1324468 </td></tr>\n",
       "</tbody>\n",
       "</table>\n"
      ],
      "text/latex": [
       "\\begin{tabular}{r|lllllllllllll}\n",
       " School & Sex1 & Minority1 & Minority & Sex & SES & MathAch & MEANSES & centered\\_math & SES\\_zscores & n\\_students & math\\_centered\\_overall & math\\_centered\\_byschool\\\\\n",
       "\\hline\n",
       "\t 1224        & Female      & Nonminority & Nonminority & Female      & -1.528      &  5.876      & -0.428      & -6.871853   & -1.96077907 & 7185        & -6.871853   & -3.8394468 \\\\\n",
       "\t 1224        & Female      & Nonminority & Nonminority & Female      & -0.588      & 19.708      & -0.428      &  6.960147   & -0.75465379 & 7185        &  6.960147   &  9.9925532 \\\\\n",
       "\t 1224        & Male        & Nonminority & Nonminority & Male        & -0.528      & 20.349      & -0.428      &  7.601147   & -0.67766707 & 7185        &  7.601147   & 10.6335532 \\\\\n",
       "\t 1224        & Male        & Nonminority & Nonminority & Male        & -0.668      &  8.781      & -0.428      & -3.966853   & -0.85730275 & 7185        & -3.966853   & -0.9344468 \\\\\n",
       "\t 1224        & Male        & Nonminority & Nonminority & Male        & -0.158      & 17.898      & -0.428      &  5.150147   & -0.20291563 & 7185        &  5.150147   &  8.1825532 \\\\\n",
       "\t 1224        & Male        & Nonminority & Nonminority & Male        &  0.022      &  4.583      & -0.428      & -8.164853   &  0.02804452 & 7185        & -8.164853   & -5.1324468 \\\\\n",
       "\\end{tabular}\n"
      ],
      "text/markdown": [
       "\n",
       "School | Sex1 | Minority1 | Minority | Sex | SES | MathAch | MEANSES | centered_math | SES_zscores | n_students | math_centered_overall | math_centered_byschool | \n",
       "|---|---|---|---|---|---|\n",
       "| 1224        | Female      | Nonminority | Nonminority | Female      | -1.528      |  5.876      | -0.428      | -6.871853   | -1.96077907 | 7185        | -6.871853   | -3.8394468  | \n",
       "| 1224        | Female      | Nonminority | Nonminority | Female      | -0.588      | 19.708      | -0.428      |  6.960147   | -0.75465379 | 7185        |  6.960147   |  9.9925532  | \n",
       "| 1224        | Male        | Nonminority | Nonminority | Male        | -0.528      | 20.349      | -0.428      |  7.601147   | -0.67766707 | 7185        |  7.601147   | 10.6335532  | \n",
       "| 1224        | Male        | Nonminority | Nonminority | Male        | -0.668      |  8.781      | -0.428      | -3.966853   | -0.85730275 | 7185        | -3.966853   | -0.9344468  | \n",
       "| 1224        | Male        | Nonminority | Nonminority | Male        | -0.158      | 17.898      | -0.428      |  5.150147   | -0.20291563 | 7185        |  5.150147   |  8.1825532  | \n",
       "| 1224        | Male        | Nonminority | Nonminority | Male        |  0.022      |  4.583      | -0.428      | -8.164853   |  0.02804452 | 7185        | -8.164853   | -5.1324468  | \n",
       "\n",
       "\n"
      ],
      "text/plain": [
       "  School Sex1   Minority1   Minority    Sex    SES    MathAch MEANSES\n",
       "1 1224   Female Nonminority Nonminority Female -1.528  5.876  -0.428 \n",
       "2 1224   Female Nonminority Nonminority Female -0.588 19.708  -0.428 \n",
       "3 1224   Male   Nonminority Nonminority Male   -0.528 20.349  -0.428 \n",
       "4 1224   Male   Nonminority Nonminority Male   -0.668  8.781  -0.428 \n",
       "5 1224   Male   Nonminority Nonminority Male   -0.158 17.898  -0.428 \n",
       "6 1224   Male   Nonminority Nonminority Male    0.022  4.583  -0.428 \n",
       "  centered_math SES_zscores n_students math_centered_overall\n",
       "1 -6.871853     -1.96077907 7185       -6.871853            \n",
       "2  6.960147     -0.75465379 7185        6.960147            \n",
       "3  7.601147     -0.67766707 7185        7.601147            \n",
       "4 -3.966853     -0.85730275 7185       -3.966853            \n",
       "5  5.150147     -0.20291563 7185        5.150147            \n",
       "6 -8.164853      0.02804452 7185       -8.164853            \n",
       "  math_centered_byschool\n",
       "1 -3.8394468            \n",
       "2  9.9925532            \n",
       "3 10.6335532            \n",
       "4 -0.9344468            \n",
       "5  8.1825532            \n",
       "6 -5.1324468            "
      ]
     },
     "metadata": {},
     "output_type": "display_data"
    }
   ],
   "source": [
    "dat  %>% \n",
    " mutate(math_centered_overall = MathAch - mean(MathAch))  %>% \n",
    " group_by(School)  %>% \n",
    " mutate(math_centered_byschool = MathAch - mean(MathAch))  %>% \n",
    " head()"
   ]
  },
  {
   "cell_type": "markdown",
   "metadata": {},
   "source": [
    "The second line above gives us the math achievementd centered over the whole sample, while the 4th line, even though it looks the same, gives us the math achievement centered separately for each school. To illustrate, I will plot the means for each school under the two centerings (don't worry about the code, if you don't know ggplot2 yet):"
   ]
  },
  {
   "cell_type": "code",
   "execution_count": 28,
   "metadata": {},
   "outputs": [
    {
     "name": "stderr",
     "output_type": "stream",
     "text": [
      "No summary function supplied, defaulting to `mean_se()\n"
     ]
    },
    {
     "data": {},
     "metadata": {},
     "output_type": "display_data"
    },
    {
     "data": {
      "image/png": "[encoded data removed]",
      "text/plain": [
       "plot without title"
      ]
     },
     "metadata": {},
     "output_type": "display_data"
    }
   ],
   "source": [
    "dat  %>% \n",
    " mutate(math_centered_overall = MathAch - mean(MathAch))  %>% \n",
    " group_by(School)  %>% \n",
    " mutate(math_centered_byschool = MathAch - mean(MathAch))  %>% \n",
    " gather(key = centering_type, value = math_centered, math_centered_overall, math_centered_byschool)  %>% \n",
    " ggplot(aes(School, math_centered, color=centering_type)) +\n",
    "    stat_summary(geom='point') +\n",
    "    theme_classic()"
   ]
  },
  {
   "cell_type": "markdown",
   "metadata": {},
   "source": [
    "You can even do fancy things like separate statistical analyses for each group, extract the fit statistic, and then combine the results together. But more on that in another tutorial"
   ]
  },
  {
   "cell_type": "markdown",
   "metadata": {},
   "source": [
    "## 6. Restructuring data.frames - long to wide, wide to long, and merging data.frames."
   ]
  },
  {
   "cell_type": "markdown",
   "metadata": {},
   "source": [
    "Commands:\n",
    "* spread() - transforming data to wide format\n",
    "* gather() - transforming data to long format\n",
    "* left_join() - merging multiple dataframes"
   ]
  },
  {
   "cell_type": "code",
   "execution_count": null,
   "metadata": {
    "collapsed": true
   },
   "outputs": [],
   "source": []
  }
 ],
 "metadata": {
  "kernelspec": {
   "display_name": "R",
   "language": "R",
   "name": "ir"
  },
  "language_info": {
   "codemirror_mode": "r",
   "file_extension": ".r",
   "mimetype": "text/x-r-source",
   "name": "R",
   "pygments_lexer": "r",
   "version": "3.4.3"
  }
 },
 "nbformat": 4,
 "nbformat_minor": 2
}
