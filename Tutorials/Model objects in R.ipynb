{
 "cells": [
  {
   "cell_type": "markdown",
   "metadata": {},
   "source": [
    "Whenever you run a regression or any other type of model in R, the resulting model is saved in an object, whose properties you can access. Let's see an example:"
   ]
  },
  {
   "cell_type": "code",
   "execution_count": 2,
   "metadata": {},
   "outputs": [
    {
     "name": "stderr",
     "output_type": "stream",
     "text": [
      "-- Attaching packages --------------------------------------- tidyverse 1.2.1 --\n",
      "v ggplot2 2.2.1     v purrr   0.2.4\n",
      "v tibble  1.3.4     v dplyr   0.7.4\n",
      "v tidyr   0.7.2     v stringr 1.2.0\n",
      "v readr   1.1.1     v forcats 0.2.0\n",
      "-- Conflicts ------------------------------------------ tidyverse_conflicts() --\n",
      "x dplyr::filter() masks stats::filter()\n",
      "x dplyr::lag()    masks stats::lag()\n"
     ]
    }
   ],
   "source": [
    "library(tidyverse)\n",
    "\n",
    "# generate data where y is a function of two variables, x1 and x2\n",
    "x1 <- seq(-4,4,0.5)\n",
    "x2 <- seq(-4,4,0.5)\n",
    "dat <- expand.grid(x1=x1, x2=x2)  %>% mutate(y = 1/(1+exp(-x1)) + 0.1*x2)"
   ]
  },
  {
   "cell_type": "markdown",
   "metadata": {},
   "source": [
    "Here is how y depends on x1 and x2"
   ]
  },
  {
   "cell_type": "code",
   "execution_count": 3,
   "metadata": {},
   "outputs": [
    {
     "name": "stderr",
     "output_type": "stream",
     "text": [
      "No summary function supplied, defaulting to `mean_se()\n",
      "No summary function supplied, defaulting to `mean_se()\n",
      "No summary function supplied, defaulting to `mean_se()\n",
      "No summary function supplied, defaulting to `mean_se()\n"
     ]
    },
    {
     "data": {},
     "metadata": {},
     "output_type": "display_data"
    },
    {
     "data": {
      "image/png": "[encoded data removed]",
      "text/plain": [
       "plot without title"
      ]
     },
     "metadata": {},
     "output_type": "display_data"
    }
   ],
   "source": [
    "options(repr.plot.width=6, repr.plot.height=4)\n",
    "dat  %>%\n",
    "    gather(var, value, x1, x2)  %>% \n",
    "    ggplot(aes(value, y)) +\n",
    "    stat_summary(geom='point') +\n",
    "    stat_summary(geom='line') +\n",
    "    facet_wrap(~var)"
   ]
  },
  {
   "cell_type": "markdown",
   "metadata": {},
   "source": [
    "Now, let's add some noise and try to fit a regression model"
   ]
  },
  {
   "cell_type": "code",
   "execution_count": 4,
   "metadata": {
    "collapsed": true
   },
   "outputs": [],
   "source": [
    "dat <- mutate(dat, y_obs = y + rnorm(length(y), mean=0, sd=0.1))\n",
    "model_fit <- lm(y_obs ~ x1 + x2, data=dat)"
   ]
  },
  {
   "cell_type": "markdown",
   "metadata": {},
   "source": [
    "The resulting model is save in the model_fit variable. You can do a number of things with this object. First, the str command, which is a general function for printing the structure of r objects, will tell you what you can find in the model object. As you can see below, it is a list of different variables, which you can access by typing the name of the model, followed by $variable."
   ]
  },
  {
   "cell_type": "code",
   "execution_count": 5,
   "metadata": {},
   "outputs": [
    {
     "name": "stdout",
     "output_type": "stream",
     "text": [
      "List of 12\n",
      " $ coefficients : Named num [1:3] 0.507 0.148 0.101\n",
      "  ..- attr(*, \"names\")= chr [1:3] \"(Intercept)\" \"x1\" \"x2\"\n",
      " $ residuals    : Named num [1:289] 0.111404 0.338414 -0.103003 -0.000262 -0.164874 ...\n",
      "  ..- attr(*, \"names\")= chr [1:289] \"1\" \"2\" \"3\" \"4\" ...\n",
      " $ effects      : Named num [1:289] -8.618 6.166 4.208 -0.013 -0.174 ...\n",
      "  ..- attr(*, \"names\")= chr [1:289] \"(Intercept)\" \"x1\" \"x2\" \"\" ...\n",
      " $ rank         : int 3\n",
      " $ fitted.values: Named num [1:289] -0.49 -0.416 -0.342 -0.267 -0.193 ...\n",
      "  ..- attr(*, \"names\")= chr [1:289] \"1\" \"2\" \"3\" \"4\" ...\n",
      " $ assign       : int [1:3] 0 1 2\n",
      " $ qr           :List of 5\n",
      "  ..$ qr   : num [1:289, 1:3] -17 0.0588 0.0588 0.0588 0.0588 ...\n",
      "  .. ..- attr(*, \"dimnames\")=List of 2\n",
      "  .. .. ..$ : chr [1:289] \"1\" \"2\" \"3\" \"4\" ...\n",
      "  .. .. ..$ : chr [1:3] \"(Intercept)\" \"x1\" \"x2\"\n",
      "  .. ..- attr(*, \"assign\")= int [1:3] 0 1 2\n",
      "  ..$ qraux: num [1:3] 1.06 1.08 1.09\n",
      "  ..$ pivot: int [1:3] 1 2 3\n",
      "  ..$ tol  : num 1e-07\n",
      "  ..$ rank : int 3\n",
      "  ..- attr(*, \"class\")= chr \"qr\"\n",
      " $ df.residual  : int 286\n",
      " $ xlevels      : Named list()\n",
      " $ call         : language lm(formula = y_obs ~ x1 + x2, data = dat)\n",
      " $ terms        :Classes 'terms', 'formula'  language y_obs ~ x1 + x2\n",
      "  .. ..- attr(*, \"variables\")= language list(y_obs, x1, x2)\n",
      "  .. ..- attr(*, \"factors\")= int [1:3, 1:2] 0 1 0 0 0 1\n",
      "  .. .. ..- attr(*, \"dimnames\")=List of 2\n",
      "  .. .. .. ..$ : chr [1:3] \"y_obs\" \"x1\" \"x2\"\n",
      "  .. .. .. ..$ : chr [1:2] \"x1\" \"x2\"\n",
      "  .. ..- attr(*, \"term.labels\")= chr [1:2] \"x1\" \"x2\"\n",
      "  .. ..- attr(*, \"order\")= int [1:2] 1 1\n",
      "  .. ..- attr(*, \"intercept\")= int 1\n",
      "  .. ..- attr(*, \"response\")= int 1\n",
      "  .. ..- attr(*, \".Environment\")=<environment: R_GlobalEnv> \n",
      "  .. ..- attr(*, \"predvars\")= language list(y_obs, x1, x2)\n",
      "  .. ..- attr(*, \"dataClasses\")= Named chr [1:3] \"numeric\" \"numeric\" \"numeric\"\n",
      "  .. .. ..- attr(*, \"names\")= chr [1:3] \"y_obs\" \"x1\" \"x2\"\n",
      " $ model        :'data.frame':\t289 obs. of  3 variables:\n",
      "  ..$ y_obs: num [1:289] -0.3782 -0.0771 -0.4445 -0.2677 -0.3583 ...\n",
      "  ..$ x1   : num [1:289] -4 -3.5 -3 -2.5 -2 -1.5 -1 -0.5 0 0.5 ...\n",
      "  ..$ x2   : num [1:289] -4 -4 -4 -4 -4 -4 -4 -4 -4 -4 ...\n",
      "  ..- attr(*, \"terms\")=Classes 'terms', 'formula'  language y_obs ~ x1 + x2\n",
      "  .. .. ..- attr(*, \"variables\")= language list(y_obs, x1, x2)\n",
      "  .. .. ..- attr(*, \"factors\")= int [1:3, 1:2] 0 1 0 0 0 1\n",
      "  .. .. .. ..- attr(*, \"dimnames\")=List of 2\n",
      "  .. .. .. .. ..$ : chr [1:3] \"y_obs\" \"x1\" \"x2\"\n",
      "  .. .. .. .. ..$ : chr [1:2] \"x1\" \"x2\"\n",
      "  .. .. ..- attr(*, \"term.labels\")= chr [1:2] \"x1\" \"x2\"\n",
      "  .. .. ..- attr(*, \"order\")= int [1:2] 1 1\n",
      "  .. .. ..- attr(*, \"intercept\")= int 1\n",
      "  .. .. ..- attr(*, \"response\")= int 1\n",
      "  .. .. ..- attr(*, \".Environment\")=<environment: R_GlobalEnv> \n",
      "  .. .. ..- attr(*, \"predvars\")= language list(y_obs, x1, x2)\n",
      "  .. .. ..- attr(*, \"dataClasses\")= Named chr [1:3] \"numeric\" \"numeric\" \"numeric\"\n",
      "  .. .. .. ..- attr(*, \"names\")= chr [1:3] \"y_obs\" \"x1\" \"x2\"\n",
      " - attr(*, \"class\")= chr \"lm\"\n"
     ]
    }
   ],
   "source": [
    "str(model_fit)"
   ]
  },
  {
   "cell_type": "markdown",
   "metadata": {},
   "source": [
    "For example, if we want to extract the estimated regression coefficients, we can type this, which returns a named vector."
   ]
  },
  {
   "cell_type": "code",
   "execution_count": 6,
   "metadata": {},
   "outputs": [
    {
     "data": {
      "text/html": [
       "<dl class=dl-horizontal>\n",
       "\t<dt>(Intercept)</dt>\n",
       "\t\t<dd>0.506928641287307</dd>\n",
       "\t<dt>x1</dt>\n",
       "\t\t<dd>0.148074057022569</dd>\n",
       "\t<dt>x2</dt>\n",
       "\t\t<dd>0.101053561402221</dd>\n",
       "</dl>\n"
      ],
      "text/latex": [
       "\\begin{description*}\n",
       "\\item[(Intercept)] 0.506928641287307\n",
       "\\item[x1] 0.148074057022569\n",
       "\\item[x2] 0.101053561402221\n",
       "\\end{description*}\n"
      ],
      "text/markdown": [
       "(Intercept)\n",
       ":   0.506928641287307x1\n",
       ":   0.148074057022569x2\n",
       ":   0.101053561402221\n",
       "\n"
      ],
      "text/plain": [
       "(Intercept)          x1          x2 \n",
       "  0.5069286   0.1480741   0.1010536 "
      ]
     },
     "metadata": {},
     "output_type": "display_data"
    }
   ],
   "source": [
    "model_fit$coefficients"
   ]
  },
  {
   "cell_type": "markdown",
   "metadata": {},
   "source": [
    "If we run multiple models, we might want to store these values in a data.frame, rather than a named vector like this:"
   ]
  },
  {
   "cell_type": "code",
   "execution_count": 7,
   "metadata": {},
   "outputs": [
    {
     "data": {
      "text/html": [
       "<table>\n",
       "<thead><tr><th></th><th scope=col>name</th><th scope=col>value</th></tr></thead>\n",
       "<tbody>\n",
       "\t<tr><th scope=row>(Intercept)</th><td>(Intercept)</td><td>0.5069286  </td></tr>\n",
       "\t<tr><th scope=row>x1</th><td>x1         </td><td>0.1480741  </td></tr>\n",
       "\t<tr><th scope=row>x2</th><td>x2         </td><td>0.1010536  </td></tr>\n",
       "</tbody>\n",
       "</table>\n"
      ],
      "text/latex": [
       "\\begin{tabular}{r|ll}\n",
       "  & name & value\\\\\n",
       "\\hline\n",
       "\t(Intercept) & (Intercept) & 0.5069286  \\\\\n",
       "\tx1 & x1          & 0.1480741  \\\\\n",
       "\tx2 & x2          & 0.1010536  \\\\\n",
       "\\end{tabular}\n"
      ],
      "text/markdown": [
       "\n",
       "| <!--/--> | name | value | \n",
       "|---|---|---|\n",
       "| (Intercept) | (Intercept) | 0.5069286   | \n",
       "| x1 | x1          | 0.1480741   | \n",
       "| x2 | x2          | 0.1010536   | \n",
       "\n",
       "\n"
      ],
      "text/plain": [
       "            name        value    \n",
       "(Intercept) (Intercept) 0.5069286\n",
       "x1          x1          0.1480741\n",
       "x2          x2          0.1010536"
      ]
     },
     "metadata": {},
     "output_type": "display_data"
    }
   ],
   "source": [
    "coef <- model_fit$coefficients\n",
    "data.frame(name = names(coef), value = coef)"
   ]
  },
  {
   "cell_type": "markdown",
   "metadata": {},
   "source": [
    "You can extract the prediction of the model. They are stored under $fitted.values, or you can also get them by typing fitted(model_fit), which returns the same values. Then, we can plot the observed values against the predicted values:"
   ]
  },
  {
   "cell_type": "code",
   "execution_count": 8,
   "metadata": {},
   "outputs": [
    {
     "name": "stderr",
     "output_type": "stream",
     "text": [
      "No summary function supplied, defaulting to `mean_se()\n"
     ]
    },
    {
     "data": {},
     "metadata": {},
     "output_type": "display_data"
    },
    {
     "data": {
      "image/png": "[encoded data removed]",
      "text/plain": [
       "plot without title"
      ]
     },
     "metadata": {},
     "output_type": "display_data"
    }
   ],
   "source": [
    "dat$fitted <- model_fit$fitted.values\n",
    "ggplot(dat, aes(fitted, y_obs)) +\n",
    "    stat_summary(geom='point')"
   ]
  },
  {
   "cell_type": "code",
   "execution_count": 9,
   "metadata": {},
   "outputs": [
    {
     "data": {
      "text/html": [
       "<strong>1:</strong> 0.777093970196674"
      ],
      "text/latex": [
       "\\textbf{1:} 0.777093970196674"
      ],
      "text/markdown": [
       "**1:** 0.777093970196674"
      ],
      "text/plain": [
       "       1 \n",
       "0.777094 "
      ]
     },
     "metadata": {},
     "output_type": "display_data"
    }
   ],
   "source": [
    "new_data <- data.frame(x1=-5, x2=10)\n",
    "predict(model_fit, newdata = new_data)"
   ]
  },
  {
   "cell_type": "code",
   "execution_count": 10,
   "metadata": {},
   "outputs": [
    {
     "data": {
      "text/html": [
       "<table>\n",
       "<thead><tr><th scope=col>x1</th><th scope=col>x2</th><th scope=col>y</th><th scope=col>y_obs</th><th scope=col>fitted</th></tr></thead>\n",
       "<tbody>\n",
       "\t<tr><td>-4.0       </td><td>-4         </td><td>-0.3820138 </td><td>-0.37817827</td><td>-0.4895818 </td></tr>\n",
       "\t<tr><td>-3.5       </td><td>-4         </td><td>-0.3706878 </td><td>-0.07713101</td><td>-0.4155448 </td></tr>\n",
       "\t<tr><td>-3.0       </td><td>-4         </td><td>-0.3525741 </td><td>-0.44451065</td><td>-0.3415078 </td></tr>\n",
       "\t<tr><td>-2.5       </td><td>-4         </td><td>-0.3241418 </td><td>-0.26773259</td><td>-0.2674707 </td></tr>\n",
       "\t<tr><td>-2.0       </td><td>-4         </td><td>-0.2807971 </td><td>-0.35830770</td><td>-0.1934337 </td></tr>\n",
       "\t<tr><td>-1.5       </td><td>-4         </td><td>-0.2175745 </td><td>-0.02032653</td><td>-0.1193967 </td></tr>\n",
       "</tbody>\n",
       "</table>\n"
      ],
      "text/latex": [
       "\\begin{tabular}{r|lllll}\n",
       " x1 & x2 & y & y\\_obs & fitted\\\\\n",
       "\\hline\n",
       "\t -4.0        & -4          & -0.3820138  & -0.37817827 & -0.4895818 \\\\\n",
       "\t -3.5        & -4          & -0.3706878  & -0.07713101 & -0.4155448 \\\\\n",
       "\t -3.0        & -4          & -0.3525741  & -0.44451065 & -0.3415078 \\\\\n",
       "\t -2.5        & -4          & -0.3241418  & -0.26773259 & -0.2674707 \\\\\n",
       "\t -2.0        & -4          & -0.2807971  & -0.35830770 & -0.1934337 \\\\\n",
       "\t -1.5        & -4          & -0.2175745  & -0.02032653 & -0.1193967 \\\\\n",
       "\\end{tabular}\n"
      ],
      "text/markdown": [
       "\n",
       "x1 | x2 | y | y_obs | fitted | \n",
       "|---|---|---|---|---|---|\n",
       "| -4.0        | -4          | -0.3820138  | -0.37817827 | -0.4895818  | \n",
       "| -3.5        | -4          | -0.3706878  | -0.07713101 | -0.4155448  | \n",
       "| -3.0        | -4          | -0.3525741  | -0.44451065 | -0.3415078  | \n",
       "| -2.5        | -4          | -0.3241418  | -0.26773259 | -0.2674707  | \n",
       "| -2.0        | -4          | -0.2807971  | -0.35830770 | -0.1934337  | \n",
       "| -1.5        | -4          | -0.2175745  | -0.02032653 | -0.1193967  | \n",
       "\n",
       "\n"
      ],
      "text/plain": [
       "  x1   x2 y          y_obs       fitted    \n",
       "1 -4.0 -4 -0.3820138 -0.37817827 -0.4895818\n",
       "2 -3.5 -4 -0.3706878 -0.07713101 -0.4155448\n",
       "3 -3.0 -4 -0.3525741 -0.44451065 -0.3415078\n",
       "4 -2.5 -4 -0.3241418 -0.26773259 -0.2674707\n",
       "5 -2.0 -4 -0.2807971 -0.35830770 -0.1934337\n",
       "6 -1.5 -4 -0.2175745 -0.02032653 -0.1193967"
      ]
     },
     "metadata": {},
     "output_type": "display_data"
    }
   ],
   "source": [
    "head(dat)"
   ]
  },
  {
   "cell_type": "markdown",
   "metadata": {},
   "source": [
    "This is where the fun part comes in. You can use the nest and map commands from the tidyverse package to fit a model for different subgroups, then extract the results of all models. Let's pretend that x1 is the subject number and we have different subjects, for which we have y and x2 values.\n",
    "\n",
    "First, nest creates a nested data.frame, in which the data.frame for each group is stored in a different cell"
   ]
  },
  {
   "cell_type": "code",
   "execution_count": 13,
   "metadata": {},
   "outputs": [
    {
     "name": "stdout",
     "output_type": "stream",
     "text": [
      "# A tibble: 17 x 2\n",
      "      x1              data\n",
      "   <dbl>            <list>\n",
      " 1  -4.0 <tibble [17 x 4]>\n",
      " 2  -3.5 <tibble [17 x 4]>\n",
      " 3  -3.0 <tibble [17 x 4]>\n",
      " 4  -2.5 <tibble [17 x 4]>\n",
      " 5  -2.0 <tibble [17 x 4]>\n",
      " 6  -1.5 <tibble [17 x 4]>\n",
      " 7  -1.0 <tibble [17 x 4]>\n",
      " 8  -0.5 <tibble [17 x 4]>\n",
      " 9   0.0 <tibble [17 x 4]>\n",
      "10   0.5 <tibble [17 x 4]>\n",
      "11   1.0 <tibble [17 x 4]>\n",
      "12   1.5 <tibble [17 x 4]>\n",
      "13   2.0 <tibble [17 x 4]>\n",
      "14   2.5 <tibble [17 x 4]>\n",
      "15   3.0 <tibble [17 x 4]>\n",
      "16   3.5 <tibble [17 x 4]>\n",
      "17   4.0 <tibble [17 x 4]>\n"
     ]
    }
   ],
   "source": [
    "dat  %>% \n",
    "    group_by(x1)  %>% \n",
    "    nest(-x1) %>%\n",
    "    print()"
   ]
  },
  {
   "cell_type": "markdown",
   "metadata": {},
   "source": [
    "Then, you can use the map function, to fit a model to each subset:"
   ]
  },
  {
   "cell_type": "code",
   "execution_count": 15,
   "metadata": {},
   "outputs": [
    {
     "name": "stdout",
     "output_type": "stream",
     "text": [
      "# A tibble: 17 x 3\n",
      "      x1              data model_fit\n",
      "   <dbl>            <list>    <list>\n",
      " 1  -4.0 <tibble [17 x 4]>  <S3: lm>\n",
      " 2  -3.5 <tibble [17 x 4]>  <S3: lm>\n",
      " 3  -3.0 <tibble [17 x 4]>  <S3: lm>\n",
      " 4  -2.5 <tibble [17 x 4]>  <S3: lm>\n",
      " 5  -2.0 <tibble [17 x 4]>  <S3: lm>\n",
      " 6  -1.5 <tibble [17 x 4]>  <S3: lm>\n",
      " 7  -1.0 <tibble [17 x 4]>  <S3: lm>\n",
      " 8  -0.5 <tibble [17 x 4]>  <S3: lm>\n",
      " 9   0.0 <tibble [17 x 4]>  <S3: lm>\n",
      "10   0.5 <tibble [17 x 4]>  <S3: lm>\n",
      "11   1.0 <tibble [17 x 4]>  <S3: lm>\n",
      "12   1.5 <tibble [17 x 4]>  <S3: lm>\n",
      "13   2.0 <tibble [17 x 4]>  <S3: lm>\n",
      "14   2.5 <tibble [17 x 4]>  <S3: lm>\n",
      "15   3.0 <tibble [17 x 4]>  <S3: lm>\n",
      "16   3.5 <tibble [17 x 4]>  <S3: lm>\n",
      "17   4.0 <tibble [17 x 4]>  <S3: lm>\n"
     ]
    }
   ],
   "source": [
    "dat  %>% \n",
    "    group_by(x1)  %>% \n",
    "    nest(-x1)  %>% \n",
    "    mutate(model_fit = map(data, function(data) lm(y_obs ~ x2, data=data)))  %>% \n",
    "    print()"
   ]
  },
  {
   "cell_type": "markdown",
   "metadata": {},
   "source": [
    "The resulting models are stored in each cell of the model_fit column. You can then extract the coefficients for each model:"
   ]
  },
  {
   "cell_type": "code",
   "execution_count": 20,
   "metadata": {},
   "outputs": [
    {
     "name": "stdout",
     "output_type": "stream",
     "text": [
      "# A tibble: 17 x 4\n",
      "      x1              data model_fit                 coef\n",
      "   <dbl>            <list>    <list>               <list>\n",
      " 1  -4.0 <tibble [17 x 4]>  <S3: lm> <data.frame [2 x 2]>\n",
      " 2  -3.5 <tibble [17 x 4]>  <S3: lm> <data.frame [2 x 2]>\n",
      " 3  -3.0 <tibble [17 x 4]>  <S3: lm> <data.frame [2 x 2]>\n",
      " 4  -2.5 <tibble [17 x 4]>  <S3: lm> <data.frame [2 x 2]>\n",
      " 5  -2.0 <tibble [17 x 4]>  <S3: lm> <data.frame [2 x 2]>\n",
      " 6  -1.5 <tibble [17 x 4]>  <S3: lm> <data.frame [2 x 2]>\n",
      " 7  -1.0 <tibble [17 x 4]>  <S3: lm> <data.frame [2 x 2]>\n",
      " 8  -0.5 <tibble [17 x 4]>  <S3: lm> <data.frame [2 x 2]>\n",
      " 9   0.0 <tibble [17 x 4]>  <S3: lm> <data.frame [2 x 2]>\n",
      "10   0.5 <tibble [17 x 4]>  <S3: lm> <data.frame [2 x 2]>\n",
      "11   1.0 <tibble [17 x 4]>  <S3: lm> <data.frame [2 x 2]>\n",
      "12   1.5 <tibble [17 x 4]>  <S3: lm> <data.frame [2 x 2]>\n",
      "13   2.0 <tibble [17 x 4]>  <S3: lm> <data.frame [2 x 2]>\n",
      "14   2.5 <tibble [17 x 4]>  <S3: lm> <data.frame [2 x 2]>\n",
      "15   3.0 <tibble [17 x 4]>  <S3: lm> <data.frame [2 x 2]>\n",
      "16   3.5 <tibble [17 x 4]>  <S3: lm> <data.frame [2 x 2]>\n",
      "17   4.0 <tibble [17 x 4]>  <S3: lm> <data.frame [2 x 2]>\n"
     ]
    }
   ],
   "source": [
    "dat  %>% \n",
    "    group_by(x1)  %>% \n",
    "    nest(-x1)  %>% \n",
    "    mutate(model_fit = map(data, function(data) lm(y_obs ~ x2, data=data)),\n",
    "           coef = map(model_fit, function(fit) data.frame(name=names(fit$coefficients), beta=fit$coefficients)))  %>% \n",
    "    print()"
   ]
  },
  {
   "cell_type": "markdown",
   "metadata": {},
   "source": [
    "They are again stored in a column called coef. If you want to then finally just get a data.frame with coefficiants, you can unnest the results:"
   ]
  },
  {
   "cell_type": "code",
   "execution_count": 22,
   "metadata": {},
   "outputs": [
    {
     "data": {
      "text/html": [
       "<table>\n",
       "<thead><tr><th scope=col>x1</th><th scope=col>name</th><th scope=col>beta</th></tr></thead>\n",
       "<tbody>\n",
       "\t<tr><td>-4.0       </td><td>(Intercept)</td><td>0.03193290 </td></tr>\n",
       "\t<tr><td>-4.0       </td><td>x2         </td><td>0.11318487 </td></tr>\n",
       "\t<tr><td>-3.5       </td><td>(Intercept)</td><td>0.05411351 </td></tr>\n",
       "\t<tr><td>-3.5       </td><td>x2         </td><td>0.08579529 </td></tr>\n",
       "\t<tr><td>-3.0       </td><td>(Intercept)</td><td>0.02588049 </td></tr>\n",
       "\t<tr><td>-3.0       </td><td>x2         </td><td>0.09075726 </td></tr>\n",
       "\t<tr><td>-2.5       </td><td>(Intercept)</td><td>0.08079364 </td></tr>\n",
       "\t<tr><td>-2.5       </td><td>x2         </td><td>0.10196757 </td></tr>\n",
       "\t<tr><td>-2.0       </td><td>(Intercept)</td><td>0.13590067 </td></tr>\n",
       "\t<tr><td>-2.0       </td><td>x2         </td><td>0.11063916 </td></tr>\n",
       "\t<tr><td>-1.5       </td><td>(Intercept)</td><td>0.17071879 </td></tr>\n",
       "\t<tr><td>-1.5       </td><td>x2         </td><td>0.09310668 </td></tr>\n",
       "\t<tr><td>-1.0       </td><td>(Intercept)</td><td>0.27197796 </td></tr>\n",
       "\t<tr><td>-1.0       </td><td>x2         </td><td>0.10087624 </td></tr>\n",
       "\t<tr><td>-0.5       </td><td>(Intercept)</td><td>0.35737058 </td></tr>\n",
       "\t<tr><td>-0.5       </td><td>x2         </td><td>0.09754960 </td></tr>\n",
       "\t<tr><td> 0.0       </td><td>(Intercept)</td><td>0.51329810 </td></tr>\n",
       "\t<tr><td> 0.0       </td><td>x2         </td><td>0.10115387 </td></tr>\n",
       "\t<tr><td> 0.5       </td><td>(Intercept)</td><td>0.63575203 </td></tr>\n",
       "\t<tr><td> 0.5       </td><td>x2         </td><td>0.09463854 </td></tr>\n",
       "\t<tr><td> 1.0       </td><td>(Intercept)</td><td>0.75669598 </td></tr>\n",
       "\t<tr><td> 1.0       </td><td>x2         </td><td>0.09063785 </td></tr>\n",
       "\t<tr><td> 1.5       </td><td>(Intercept)</td><td>0.85072321 </td></tr>\n",
       "\t<tr><td> 1.5       </td><td>x2         </td><td>0.10446369 </td></tr>\n",
       "\t<tr><td> 2.0       </td><td>(Intercept)</td><td>0.88219733 </td></tr>\n",
       "\t<tr><td> 2.0       </td><td>x2         </td><td>0.10680395 </td></tr>\n",
       "\t<tr><td> 2.5       </td><td>(Intercept)</td><td>0.92954695 </td></tr>\n",
       "\t<tr><td> 2.5       </td><td>x2         </td><td>0.11011103 </td></tr>\n",
       "\t<tr><td> 3.0       </td><td>(Intercept)</td><td>0.94915615 </td></tr>\n",
       "\t<tr><td> 3.0       </td><td>x2         </td><td>0.10347210 </td></tr>\n",
       "\t<tr><td> 3.5       </td><td>(Intercept)</td><td>0.98890121 </td></tr>\n",
       "\t<tr><td> 3.5       </td><td>x2         </td><td>0.10553832 </td></tr>\n",
       "\t<tr><td> 4.0       </td><td>(Intercept)</td><td>0.98282739 </td></tr>\n",
       "\t<tr><td> 4.0       </td><td>x2         </td><td>0.10721452 </td></tr>\n",
       "</tbody>\n",
       "</table>\n"
      ],
      "text/latex": [
       "\\begin{tabular}{r|lll}\n",
       " x1 & name & beta\\\\\n",
       "\\hline\n",
       "\t -4.0        & (Intercept) & 0.03193290 \\\\\n",
       "\t -4.0        & x2          & 0.11318487 \\\\\n",
       "\t -3.5        & (Intercept) & 0.05411351 \\\\\n",
       "\t -3.5        & x2          & 0.08579529 \\\\\n",
       "\t -3.0        & (Intercept) & 0.02588049 \\\\\n",
       "\t -3.0        & x2          & 0.09075726 \\\\\n",
       "\t -2.5        & (Intercept) & 0.08079364 \\\\\n",
       "\t -2.5        & x2          & 0.10196757 \\\\\n",
       "\t -2.0        & (Intercept) & 0.13590067 \\\\\n",
       "\t -2.0        & x2          & 0.11063916 \\\\\n",
       "\t -1.5        & (Intercept) & 0.17071879 \\\\\n",
       "\t -1.5        & x2          & 0.09310668 \\\\\n",
       "\t -1.0        & (Intercept) & 0.27197796 \\\\\n",
       "\t -1.0        & x2          & 0.10087624 \\\\\n",
       "\t -0.5        & (Intercept) & 0.35737058 \\\\\n",
       "\t -0.5        & x2          & 0.09754960 \\\\\n",
       "\t  0.0        & (Intercept) & 0.51329810 \\\\\n",
       "\t  0.0        & x2          & 0.10115387 \\\\\n",
       "\t  0.5        & (Intercept) & 0.63575203 \\\\\n",
       "\t  0.5        & x2          & 0.09463854 \\\\\n",
       "\t  1.0        & (Intercept) & 0.75669598 \\\\\n",
       "\t  1.0        & x2          & 0.09063785 \\\\\n",
       "\t  1.5        & (Intercept) & 0.85072321 \\\\\n",
       "\t  1.5        & x2          & 0.10446369 \\\\\n",
       "\t  2.0        & (Intercept) & 0.88219733 \\\\\n",
       "\t  2.0        & x2          & 0.10680395 \\\\\n",
       "\t  2.5        & (Intercept) & 0.92954695 \\\\\n",
       "\t  2.5        & x2          & 0.11011103 \\\\\n",
       "\t  3.0        & (Intercept) & 0.94915615 \\\\\n",
       "\t  3.0        & x2          & 0.10347210 \\\\\n",
       "\t  3.5        & (Intercept) & 0.98890121 \\\\\n",
       "\t  3.5        & x2          & 0.10553832 \\\\\n",
       "\t  4.0        & (Intercept) & 0.98282739 \\\\\n",
       "\t  4.0        & x2          & 0.10721452 \\\\\n",
       "\\end{tabular}\n"
      ],
      "text/markdown": [
       "\n",
       "x1 | name | beta | \n",
       "|---|---|---|---|---|---|---|---|---|---|---|---|---|---|---|---|---|---|---|---|---|---|---|---|---|---|---|---|---|---|---|---|---|---|\n",
       "| -4.0        | (Intercept) | 0.03193290  | \n",
       "| -4.0        | x2          | 0.11318487  | \n",
       "| -3.5        | (Intercept) | 0.05411351  | \n",
       "| -3.5        | x2          | 0.08579529  | \n",
       "| -3.0        | (Intercept) | 0.02588049  | \n",
       "| -3.0        | x2          | 0.09075726  | \n",
       "| -2.5        | (Intercept) | 0.08079364  | \n",
       "| -2.5        | x2          | 0.10196757  | \n",
       "| -2.0        | (Intercept) | 0.13590067  | \n",
       "| -2.0        | x2          | 0.11063916  | \n",
       "| -1.5        | (Intercept) | 0.17071879  | \n",
       "| -1.5        | x2          | 0.09310668  | \n",
       "| -1.0        | (Intercept) | 0.27197796  | \n",
       "| -1.0        | x2          | 0.10087624  | \n",
       "| -0.5        | (Intercept) | 0.35737058  | \n",
       "| -0.5        | x2          | 0.09754960  | \n",
       "|  0.0        | (Intercept) | 0.51329810  | \n",
       "|  0.0        | x2          | 0.10115387  | \n",
       "|  0.5        | (Intercept) | 0.63575203  | \n",
       "|  0.5        | x2          | 0.09463854  | \n",
       "|  1.0        | (Intercept) | 0.75669598  | \n",
       "|  1.0        | x2          | 0.09063785  | \n",
       "|  1.5        | (Intercept) | 0.85072321  | \n",
       "|  1.5        | x2          | 0.10446369  | \n",
       "|  2.0        | (Intercept) | 0.88219733  | \n",
       "|  2.0        | x2          | 0.10680395  | \n",
       "|  2.5        | (Intercept) | 0.92954695  | \n",
       "|  2.5        | x2          | 0.11011103  | \n",
       "|  3.0        | (Intercept) | 0.94915615  | \n",
       "|  3.0        | x2          | 0.10347210  | \n",
       "|  3.5        | (Intercept) | 0.98890121  | \n",
       "|  3.5        | x2          | 0.10553832  | \n",
       "|  4.0        | (Intercept) | 0.98282739  | \n",
       "|  4.0        | x2          | 0.10721452  | \n",
       "\n",
       "\n"
      ],
      "text/plain": [
       "   x1   name        beta      \n",
       "1  -4.0 (Intercept) 0.03193290\n",
       "2  -4.0 x2          0.11318487\n",
       "3  -3.5 (Intercept) 0.05411351\n",
       "4  -3.5 x2          0.08579529\n",
       "5  -3.0 (Intercept) 0.02588049\n",
       "6  -3.0 x2          0.09075726\n",
       "7  -2.5 (Intercept) 0.08079364\n",
       "8  -2.5 x2          0.10196757\n",
       "9  -2.0 (Intercept) 0.13590067\n",
       "10 -2.0 x2          0.11063916\n",
       "11 -1.5 (Intercept) 0.17071879\n",
       "12 -1.5 x2          0.09310668\n",
       "13 -1.0 (Intercept) 0.27197796\n",
       "14 -1.0 x2          0.10087624\n",
       "15 -0.5 (Intercept) 0.35737058\n",
       "16 -0.5 x2          0.09754960\n",
       "17  0.0 (Intercept) 0.51329810\n",
       "18  0.0 x2          0.10115387\n",
       "19  0.5 (Intercept) 0.63575203\n",
       "20  0.5 x2          0.09463854\n",
       "21  1.0 (Intercept) 0.75669598\n",
       "22  1.0 x2          0.09063785\n",
       "23  1.5 (Intercept) 0.85072321\n",
       "24  1.5 x2          0.10446369\n",
       "25  2.0 (Intercept) 0.88219733\n",
       "26  2.0 x2          0.10680395\n",
       "27  2.5 (Intercept) 0.92954695\n",
       "28  2.5 x2          0.11011103\n",
       "29  3.0 (Intercept) 0.94915615\n",
       "30  3.0 x2          0.10347210\n",
       "31  3.5 (Intercept) 0.98890121\n",
       "32  3.5 x2          0.10553832\n",
       "33  4.0 (Intercept) 0.98282739\n",
       "34  4.0 x2          0.10721452"
      ]
     },
     "metadata": {},
     "output_type": "display_data"
    }
   ],
   "source": [
    "dat  %>% \n",
    "    group_by(x1)  %>% \n",
    "    nest(-x1)  %>% \n",
    "    mutate(model_fit = map(data, function(data) lm(y_obs ~ x2, data=data)),\n",
    "           coef = map(model_fit, function(fit) data.frame(name=names(fit$coefficients), beta=fit$coefficients)))  %>% \n",
    "    unnest(coef)"
   ]
  },
  {
   "cell_type": "markdown",
   "metadata": {},
   "source": [
    "Additional information on this approach you can find on: http://omaymas.github.io/Climate_Change_ExpAnalysis/"
   ]
  }
 ],
 "metadata": {
  "kernelspec": {
   "display_name": "R",
   "language": "R",
   "name": "ir"
  },
  "language_info": {
   "codemirror_mode": "r",
   "file_extension": ".r",
   "mimetype": "text/x-r-source",
   "name": "R",
   "pygments_lexer": "r",
   "version": "3.4.3"
  }
 },
 "nbformat": 4,
 "nbformat_minor": 2
}
