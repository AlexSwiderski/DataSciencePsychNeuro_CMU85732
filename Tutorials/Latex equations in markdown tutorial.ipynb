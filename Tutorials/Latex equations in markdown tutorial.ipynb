{
 "cells": [
  {
   "cell_type": "markdown",
   "metadata": {},
   "source": [
    "Note: base on lecture notes taken by Phoebe Dinh\n",
    "\n",
    "You can write equations by surrounding them with dollars signs at the begining and the end (one dollar sign for inline equations, two for equations on their own line in the middle of the screen).\n",
    "\n",
    "Equation syntax contains 1) variables, 2) numbers, 3) operators. Variables and numbers are typed as is, and operators are commands that control formatting. The underscore _ and the carrot sign ^ are two basic operators that specify the following symbol is a subscript or a superscript. If more than one symbol should be a subscript or superscript, they should be surrounded by {}. Other operators begin with a backslash, such as \\frac for division. A cheat sheet of operators can be found [here](https://reu.dimacs.rutgers.edu/Symbols.pdf). Examples below:\n",
    "\n",
    "Simple equation\n",
    "$$x = 5$$\n",
    "\n",
    "Superscript\n",
    "$$y = x^2$$ \n",
    "\n",
    "Super-superscript\n",
    "$$y = x^{2z+1}$$\n",
    "\n",
    "Subscript\n",
    "$$x_1, x_2, x_3,..., x_n$$\n",
    "\n",
    "Division\n",
    "$$x/y$$\n",
    "or\n",
    "$$\\frac{x}{y}$$\n",
    "\n",
    "Multiplication\n",
    "$$x \\times y$$\n",
    "\n",
    "Complicated example\n",
    "$$(y+1)^{x^{2z+1}}$$\n",
    "\n",
    "Them Greek letters\n",
    "$$\\alpha \\beta$$\n",
    "\n",
    "Sum\n",
    "$$ \\sum_{i=1}^{n} x_i^2$$\n",
    "\n",
    "Compact sum (for in-line equation)\n",
    "$ \\sum_{i=1}^{n} x_i^2$\n",
    "\n",
    "Short hand\n",
    "$ \\sum x^2$"
   ]
  },
  {
   "cell_type": "code",
   "execution_count": null,
   "metadata": {
    "collapsed": true
   },
   "outputs": [],
   "source": []
  }
 ],
 "metadata": {
  "kernelspec": {
   "display_name": "R",
   "language": "R",
   "name": "ir"
  },
  "language_info": {
   "codemirror_mode": "r",
   "file_extension": ".r",
   "mimetype": "text/x-r-source",
   "name": "R",
   "pygments_lexer": "r",
   "version": "3.4.3"
  }
 },
 "nbformat": 4,
 "nbformat_minor": 2
}
